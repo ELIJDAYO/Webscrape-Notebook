{
 "cells": [
  {
   "cell_type": "code",
   "execution_count": 6,
   "id": "9afd0fa3",
   "metadata": {},
   "outputs": [],
   "source": [
    "import requests\n",
    "\n",
    "baseURL=\"https://www.bbc.co.uk/search?q=\"\n",
    "#baseURL=\"https://www.bbc.co.uk/search?q={keyword}\""
   ]
  },
  {
   "cell_type": "code",
   "execution_count": 150,
   "id": "d0eb8f91",
   "metadata": {},
   "outputs": [],
   "source": [
    "#https://stackoverflow.com/questions/25341945/check-if-string-has-date-any-format\n",
    "\n",
    "from dateutil.parser import parse\n",
    "\n",
    "def is_date(string, fuzzy=False):\n",
    "    \"\"\"\n",
    "    Return whether the string can be interpreted as a date.\n",
    "\n",
    "    :param string: str, string to check for date\n",
    "    :param fuzzy: bool, ignore unknown tokens in string if True\n",
    "    \"\"\"\n",
    "    try: \n",
    "        parse(string, fuzzy=fuzzy)\n",
    "        return True\n",
    "\n",
    "    except ValueError:\n",
    "        return False"
   ]
  },
  {
   "cell_type": "code",
   "execution_count": 7,
   "id": "9cdb71b2",
   "metadata": {},
   "outputs": [],
   "source": [
    "from bs4 import BeautifulSoup as bs"
   ]
  },
  {
   "cell_type": "code",
   "execution_count": 151,
   "id": "da6161a7",
   "metadata": {},
   "outputs": [],
   "source": [
    "#make sure space is replaced by +\n",
    "keywords = [\"rocket\",\"twitter\",\"war\",\"japan+earthquake\"] \n",
    "\n",
    "cond_month = [\"March\"] #condition month\n",
    "cond_lday = 11 #condition lower day\n",
    "cond_uday = 12 #condition upper day"
   ]
  },
  {
   "cell_type": "markdown",
   "id": "a560ebb3",
   "metadata": {},
   "source": [
    "# : Get content of current page"
   ]
  },
  {
   "cell_type": "raw",
   "id": "116ddcbb",
   "metadata": {},
   "source": [
    "def get_result(url): \n",
    "#    webLinks = []\n",
    "    html = requests.get(url) \n",
    "    soup = bs(html.content,'html.parser')\n",
    "    content = soup.findAll(\"p\")\n",
    "    if content is None:\n",
    "        return 'Not found'\n",
    "    else:\n",
    "        for output in content:\n",
    "            print(\"***********************\")\n",
    "            print(output.text)\n",
    "#            webLinks.append(output.get('href'))\n",
    "#        print(webLinks)\n",
    "\n"
   ]
  },
  {
   "cell_type": "code",
   "execution_count": null,
   "id": "203a662b",
   "metadata": {},
   "outputs": [],
   "source": []
  },
  {
   "cell_type": "markdown",
   "id": "51e3b607",
   "metadata": {},
   "source": [
    "# : 1.2 Select only news article"
   ]
  },
  {
   "cell_type": "code",
   "execution_count": 91,
   "id": "555fe4f3",
   "metadata": {},
   "outputs": [],
   "source": [
    "sample_url = \"https://www.bbc.co.uk/search?q=marawi&page=1\""
   ]
  },
  {
   "cell_type": "code",
   "execution_count": 116,
   "id": "a158f3f5",
   "metadata": {},
   "outputs": [],
   "source": [
    "def get_result(url): \n",
    "    html = requests.get(url) \n",
    "    soup = bs(html.content,'html.parser')\n",
    "    content = soup.findAll(\"dd\", {\"class\",\"ssrcss-m5j4pi-MetadataContent e1ojgjhb0\"})\n",
    "    if content is None:\n",
    "        return 'Not found'\n",
    "    else:\n",
    "        return content\n"
   ]
  },
  {
   "cell_type": "code",
   "execution_count": 149,
   "id": "e29303b9",
   "metadata": {},
   "outputs": [],
   "source": [
    "def is_satisfying_condition(outputs):\n",
    "    for i in range(0, len(outputs)):\n",
    "        date = outputs[i].text\n",
    "#        print(date)\n",
    "        if(is_date(date)): #is date?\n",
    "            dateArr = date.split(\" \", 3)\n",
    "            day = int(dateArr[0])\n",
    "            month = dateArr[1]\n",
    "            if(cond_month[0] == month): #update this in future if you want month range\n",
    "                if(cond_lday <= day and day <= cond_uday):\n",
    "                    i += 1\n",
    "                    program = outputs[i].text\n",
    "                    if(program == \"News\"):\n",
    "                        print(\"Found an article\")\n",
    "                \n",
    "\n",
    "#is date? clear\n",
    "#split year\n",
    "#is march\n",
    "#is 11-12\n",
    "#is News\n"
   ]
  },
  {
   "cell_type": "code",
   "execution_count": 130,
   "id": "b9954d0e",
   "metadata": {},
   "outputs": [],
   "source": [
    "def getListNews(url):\n",
    "    outputs = get_result(url)\n",
    "    is_satisfying_condition(outputs)"
   ]
  },
  {
   "cell_type": "markdown",
   "id": "12775205",
   "metadata": {},
   "source": [
    "# : Variables to extract"
   ]
  },
  {
   "cell_type": "code",
   "execution_count": null,
   "id": "80e2fa6c",
   "metadata": {},
   "outputs": [],
   "source": []
  },
  {
   "cell_type": "code",
   "execution_count": 91,
   "id": "a3538d84",
   "metadata": {},
   "outputs": [],
   "source": [
    "date = []\n",
    "title = []\n",
    "fullArticle = []\n",
    "author = []"
   ]
  },
  {
   "cell_type": "markdown",
   "id": "3ec62fef",
   "metadata": {},
   "source": [
    "# : Get Last Page"
   ]
  },
  {
   "cell_type": "code",
   "execution_count": null,
   "id": "eeaa7490",
   "metadata": {},
   "outputs": [],
   "source": []
  },
  {
   "cell_type": "code",
   "execution_count": 122,
   "id": "4ccf5188",
   "metadata": {
    "code_folding": []
   },
   "outputs": [],
   "source": [
    "page = 1\n",
    "def getLastPage(url):\n",
    "    html = requests.get(url) \n",
    "    soup = bs(html.content,'html.parser')\n",
    "    listContent = soup.findAll(\"li\",{\"class\", \"ssrcss-hp3otd-StyledListItem-PageButtonListItem e4i2y2x1\"})\n",
    "\n",
    "    if listContent is None:\n",
    "        print('Not found')\n",
    "        return 1\n",
    "    else:\n",
    "        lastPage = listContent[2].text\n",
    "#        print(lastPage)\n",
    "        return lastPage\n",
    "\n",
    "# html = requests.get(f'https://www.bbc.co.uk/search?q={keyword}&page={page}') \n"
   ]
  },
  {
   "cell_type": "markdown",
   "id": "a3c43f6e",
   "metadata": {},
   "source": [
    "# : Return Link"
   ]
  },
  {
   "cell_type": "code",
   "execution_count": null,
   "id": "1ad54b4e",
   "metadata": {},
   "outputs": [],
   "source": []
  },
  {
   "cell_type": "code",
   "execution_count": 123,
   "id": "46562ada",
   "metadata": {},
   "outputs": [],
   "source": [
    "def updateLinkKeyword(baseURL, keyWord):\n",
    "    newLink = \"\"\n",
    "    newLink = baseURL+keyWord\n",
    "    return newLink\n",
    "\n",
    "def updateLinkPage(url, pageNum):\n",
    "    newLink = \"\"\n",
    "    newLink = url+\"&page=\"\n",
    "    newLink = newLink+str(pageNum)\n",
    "    return newLink\n",
    "\n",
    "#updateLink('https://www.bbc.co.uk/search?q=', keywords[0])"
   ]
  },
  {
   "cell_type": "markdown",
   "id": "318fd01c",
   "metadata": {},
   "source": [
    "# : Combine the rest except Step 2"
   ]
  },
  {
   "cell_type": "code",
   "execution_count": null,
   "id": "5f69ec4d",
   "metadata": {},
   "outputs": [],
   "source": []
  },
  {
   "cell_type": "code",
   "execution_count": 124,
   "id": "77fd979f",
   "metadata": {},
   "outputs": [],
   "source": [
    "def loopPages(f_link, lastPage):\n",
    "    val = 0\n",
    "    s_link = \"\" #second link s_link\n",
    "    for i in range(1, int(lastPage)+1):\n",
    "        s_link = updateLinkPage(f_link, i)\n",
    "        if (val):\n",
    "            print(s_link) # for debugging\n",
    "        else:\n",
    "#           get_result(s_link)   for Step 1\n",
    "            getListNews(s_link) #for step 1.2\n",
    "\n",
    "\n",
    "def loopKeywords(keywords,url):\n",
    "#first link f_link\n",
    "    f_link = \"\"\n",
    "    lastPage = 1\n",
    "    for keyword in keywords:\n",
    "        f_link = updateLinkKeyword(baseURL,keyword)\n",
    "        lastPage = getLastPage(f_link)\n",
    "        loopPages(f_link,lastPage)\n",
    "    "
   ]
  },
  {
   "cell_type": "code",
   "execution_count": null,
   "id": "f6e09078",
   "metadata": {},
   "outputs": [],
   "source": []
  },
  {
   "cell_type": "code",
   "execution_count": null,
   "id": "976c8d7e",
   "metadata": {},
   "outputs": [],
   "source": []
  },
  {
   "cell_type": "markdown",
   "id": "82db85bc",
   "metadata": {},
   "source": [
    "# : TestCase"
   ]
  },
  {
   "cell_type": "code",
   "execution_count": null,
   "id": "963859bd",
   "metadata": {
    "scrolled": false
   },
   "outputs": [
    {
     "name": "stdout",
     "output_type": "stream",
     "text": [
      "Found an article\n"
     ]
    }
   ],
   "source": [
    "loopKeywords(keywords,baseURL) "
   ]
  },
  {
   "cell_type": "code",
   "execution_count": null,
   "id": "863de491",
   "metadata": {
    "code_folding": []
   },
   "outputs": [],
   "source": [
    "# loopKeywords(keywords,baseURL) for step 1"
   ]
  },
  {
   "cell_type": "code",
   "execution_count": null,
   "id": "a2b545f2",
   "metadata": {},
   "outputs": [],
   "source": []
  },
  {
   "cell_type": "markdown",
   "id": "81ec2b00",
   "metadata": {},
   "source": [
    "1. Locate Search bar and keyword will be array of strings\n",
    "2. Select or click\n",
    "3. It can go through page button list\n",
    "4. Get news article date March 11-12\n",
    "5. Save output to JSON file"
   ]
  },
  {
   "cell_type": "code",
   "execution_count": null,
   "id": "b99eb280",
   "metadata": {},
   "outputs": [],
   "source": []
  }
 ],
 "metadata": {
  "kernelspec": {
   "display_name": "Python 3 (ipykernel)",
   "language": "python",
   "name": "python3"
  },
  "language_info": {
   "codemirror_mode": {
    "name": "ipython",
    "version": 3
   },
   "file_extension": ".py",
   "mimetype": "text/x-python",
   "name": "python",
   "nbconvert_exporter": "python",
   "pygments_lexer": "ipython3",
   "version": "3.9.7"
  },
  "toc": {
   "base_numbering": 1,
   "nav_menu": {},
   "number_sections": true,
   "sideBar": true,
   "skip_h1_title": false,
   "title_cell": "Table of Contents",
   "title_sidebar": "Contents",
   "toc_cell": false,
   "toc_position": {},
   "toc_section_display": true,
   "toc_window_display": true
  }
 },
 "nbformat": 4,
 "nbformat_minor": 5
}
