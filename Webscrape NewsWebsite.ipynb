{
 "cells": [
  {
   "cell_type": "code",
   "execution_count": 48,
   "id": "9afd0fa3",
   "metadata": {},
   "outputs": [],
   "source": [
    "import requests\n",
    "\n",
    "baseURL=\"https://www.bbc.co.uk/search?q=\"\n",
    "#baseURL=\"https://www.bbc.co.uk/search?q={keyword}\""
   ]
  },
  {
   "cell_type": "code",
   "execution_count": 49,
   "id": "7aa81d99",
   "metadata": {
    "code_folding": [
     0
    ]
   },
   "outputs": [],
   "source": [
    "#https://stackoverflow.com/questions/25341945/check-if-string-has-date-any-format\n",
    "\n",
    "from dateutil.parser import parse\n",
    "\n",
    "def is_date(string, fuzzy=False):\n",
    "    \"\"\"\n",
    "    Return whether the string can be interpreted as a date.\n",
    "\n",
    "    :param string: str, string to check for date\n",
    "    :param fuzzy: bool, ignore unknown tokens in string if True\n",
    "    \"\"\"\n",
    "    try: \n",
    "        parse(string, fuzzy=fuzzy)\n",
    "        return True\n",
    "\n",
    "    except ValueError:\n",
    "        return False"
   ]
  },
  {
   "cell_type": "code",
   "execution_count": 50,
   "id": "9cdb71b2",
   "metadata": {},
   "outputs": [],
   "source": [
    "from bs4 import BeautifulSoup as bs"
   ]
  },
  {
   "cell_type": "code",
   "execution_count": 51,
   "id": "da6161a7",
   "metadata": {
    "code_folding": []
   },
   "outputs": [],
   "source": [
    "#make sure space is replaced by +\n",
    "#keywords = [\"japan+earthquake\"] \n",
    "keywords = [\"covid\",\"water\",\"resource\",\"technology\"] \n",
    "\n",
    "cond_month = [\"March\"] #condition month\n",
    "cond_lday = 1 #condition lower day\n",
    "cond_uday = 20 #condition upper day"
   ]
  },
  {
   "cell_type": "markdown",
   "id": "a560ebb3",
   "metadata": {},
   "source": [
    "# : Get content of current page"
   ]
  },
  {
   "cell_type": "raw",
   "id": "3e29c73e",
   "metadata": {},
   "source": [
    "def get_result(url): \n",
    "    webLinks = []\n",
    "    html = requests.get(url) \n",
    "    soup = bs(html.content,'html.parser')\n",
    "    content = soup.findAll(\"p\")\n",
    "    if content is None:\n",
    "        return 'Not found'\n",
    "    else:\n",
    "        for output in content:\n",
    "            print(\"***********************\")\n",
    "            print(output.text)\n",
    "            webLinks.append(output.get('href'))\n",
    "        print(webLinks)\n",
    "\n"
   ]
  },
  {
   "cell_type": "markdown",
   "id": "98d80573",
   "metadata": {},
   "source": [
    "# : 1.2 Select only news article"
   ]
  },
  {
   "cell_type": "code",
   "execution_count": 52,
   "id": "9a7616bb",
   "metadata": {
    "code_folding": [
     10,
     20,
     23,
     26,
     37,
     40
    ]
   },
   "outputs": [],
   "source": [
    "def get_resultSnippets(url):\n",
    "    snippets = []\n",
    "    html = requests.get(url) \n",
    "    soup_snippets = bs(html.content,'html.parser')\n",
    "    snippets = soup_snippets.findAll(\"dd\", {\"class\",\"ssrcss-m5j4pi-MetadataContent e1ojgjhb0\"})   \n",
    "    if snippets is None:#Note: assume there is always result or content, so it will never pass empty var\n",
    "        return snippets\n",
    "    else:\n",
    "        return snippets\n",
    "\n",
    "def get_resultLinks(url):    \n",
    "    weblinks = []\n",
    "    html = requests.get(url) \n",
    "    soup_links = bs(html.content,'html.parser')\n",
    "    rawTags = soup_links.findAll(\"a\", {\"class\",\"ssrcss-1ynlzyd-PromoLink e1f5wbog0\"})\n",
    "    for link in rawTags:\n",
    "        weblinks.append(link.get('href'))  \n",
    "\n",
    "    return weblinks\n",
    "\n",
    "def addYear(outputs, index):\n",
    "    outputs.insert(index, '99 January 9999')\n",
    "    \n",
    "def addRegion(outputs, index):\n",
    "    outputs.insert(index, ' ')\n",
    "    \n",
    "def isBlacklisted(string):\n",
    "    blacklists = ['Picture','Also','Programmes', \n",
    "              'blog', \n",
    "              'Magazine','Service'] \n",
    "    if(string==''):\n",
    "        return True\n",
    "    for blacklist in blacklists:\n",
    "        if(blacklist.upper() in string):\n",
    "            return True\n",
    "    return False\n",
    "\n",
    "def removeDuplicates(rightLinks):\n",
    "    list(set(rightLinks))\n",
    "\n",
    "def filterRightLinks(rightLinks): #so that we can access the same type of website\n",
    "    blacklists=['html','blog','.stm','live',\"http:\",\"programme\"]\n",
    "    i=0\n",
    "    while(i<len(rightLinks)):\n",
    "        for blacklist in blacklists:\n",
    "            if(blacklist in rightLinks[i]):\n",
    "                rightLinks.pop(i)\n",
    "                i-=1\n",
    "        i+=1\n",
    "    removeDuplicates(rightLinks)\n",
    "        \n"
   ]
  },
  {
   "cell_type": "code",
   "execution_count": 53,
   "id": "d8ba9f5c",
   "metadata": {
    "code_folding": []
   },
   "outputs": [],
   "source": [
    "def getRightLinks(snippets,rightLinks,weblinks):\n",
    "    i = 0\n",
    "    while(i<len(snippets)):\n",
    "        errMsg=\"None\"\n",
    "        date = snippets[i].text\n",
    "#        print(\"Show date \", date)\n",
    "        if(is_date(date)): #\n",
    "            dateArr = date.split(\" \", 3)\n",
    "            size = len(dateArr)\n",
    "            if(size == 3): #bec news with missing year will return video instead of article\n",
    "                day = int(dateArr[0])\n",
    "                month = dateArr[1]\n",
    "                if(cond_month[0] == month): #update this in future if you want month range\n",
    "\n",
    "                    if(cond_lday <= day and day <= cond_uday):\n",
    "                        i += 1\n",
    "\n",
    "                        program = snippets[i].text\n",
    "                        if(program == \"News\"): #when 21 April 2015 | Sport\n",
    "                            i+=1\n",
    "                            region = snippets[i].text\n",
    "                            if(not region.isspace()): #when 21 April | News | \\s\n",
    "                                                                \n",
    "                                if(not isBlacklisted(region.upper())):\n",
    "                                    erMsg=\"index \"+ str(i)+ \" [\"+program+ \"] [\"+ region+ \"]  Found an article\" #for debugging\n",
    "                                    indexLink = int(i/3)\n",
    "                                    rightLinks.append(weblinks[indexLink])\n",
    "                                else:\n",
    "                                    errMsg=\"index \"+ str(i)+ \" \"+program+ \" - Found blacklist\" #for debugging\n",
    "                                    pass\n",
    "                            elif(is_date(region)):\n",
    "                                addRegion(snippets,i)\n",
    "                                errMsg=\"index \"+ str(i)+ \" \"+program+\" - inserted region with empty val\"\n",
    "                            else:\n",
    "                                errMsg=\"index \"+ str(i)+ \" \"+program+\" - it was space char\"\n",
    "                                pass\n",
    "\n",
    "                        else:\n",
    "                            i+=1\n",
    "                            region = snippets[i].text\n",
    "                            errMsg=\"index \"+ str(i)+ \" \"+program+ \" - not news\" #for debugging\n",
    "                            if(not region.isspace()):\n",
    "                                pass\n",
    "                            elif(is_date(region)):\n",
    "                                addRegion(snippets,i)\n",
    "                                errMsg=\"index \"+ str(i)+ \" \"+program+ \" - inserted region with empty val\"\n",
    "                            else:\n",
    "                                errMsg=\"index \"+ str(i)+ \" \"+program+\" - it was space char\"\n",
    "                                pass\n",
    "                            \n",
    "                    else:\n",
    "                        errMsg=\"index \"+ str(i)+ \" \"+date+ \" - wrong day\" #for debugging\n",
    "                        i+=2\n",
    "                else:\n",
    "                    errMsg=\"index \"+ str(i)+ \" \"+date+ \" - wrong month\" #for debugging\n",
    "                    i+=2\n",
    "            else:\n",
    "                errMsg=\"index \"+ str(i)+ \" \"+date+ \" - missing year\" #for debugging\n",
    "                i+=2\n",
    "\n",
    "        elif(\"day\" in date): #snippets can return me # days ago so I want to remove it, in this project I'm not considering this\n",
    "            snippets.pop(i)\n",
    "            addYear(snippets,i)\n",
    "            errMsg=\"index \"+ str(i)+ \" \"+date+ \" - day ago, not date format\" #for debugging\n",
    "            i+=2\n",
    "            \n",
    "        elif(\"hour\" in date): #snippets can return me # hour ago so I want to remove it, in this project I'm not considering this\n",
    "            snippets.pop(i)\n",
    "            addYear(snippets,i)\n",
    "            errMsg=\"index \"+ str(i)+ \" \"+date+ \" - hour ago not date format\" #for debugging\n",
    "            i+=2\n",
    "        else:\n",
    "            addYear(snippets,i)\n",
    "            date = snippets[i]\n",
    "            errMsg=\"index \"+ str(i)+ \" \"+date+ \" - not date format\" #for debugging\n",
    "            i+=2\n",
    "#        print(errMsg)\n",
    "        i+=1\n",
    "\n",
    "        \n",
    "        \n",
    "#    print(\"There are \",len(snippets))\n",
    "\n",
    "#is date? clear\n",
    "#split year\n",
    "#is march\n",
    "#is 11-12\n",
    "#is News"
   ]
  },
  {
   "cell_type": "code",
   "execution_count": 54,
   "id": "70de373f",
   "metadata": {
    "code_folding": [
     0
    ]
   },
   "outputs": [],
   "source": [
    "def getListNews(url,rightLinks):\n",
    "\n",
    "    snippets = get_resultSnippets(url)\n",
    "    weblinks = get_resultLinks(url)\n",
    "    getRightLinks(snippets,rightLinks,weblinks)\n"
   ]
  },
  {
   "cell_type": "markdown",
   "id": "12775205",
   "metadata": {},
   "source": [
    "# : Variables to extract"
   ]
  },
  {
   "cell_type": "code",
   "execution_count": 55,
   "id": "a3538d84",
   "metadata": {},
   "outputs": [],
   "source": [
    "date = []\n",
    "title = []\n",
    "fullArticle = []\n",
    "author = []"
   ]
  },
  {
   "cell_type": "markdown",
   "id": "3ec62fef",
   "metadata": {},
   "source": [
    "# : Get Last Page"
   ]
  },
  {
   "cell_type": "code",
   "execution_count": 56,
   "id": "4ccf5188",
   "metadata": {
    "code_folding": []
   },
   "outputs": [],
   "source": [
    "page = 1\n",
    "def getLastPage(url):\n",
    "    html = requests.get(url) \n",
    "    soup = bs(html.content,'html.parser')\n",
    "    listContent = soup.findAll(\"li\",{\"class\", \"ssrcss-hp3otd-StyledListItem-PageButtonListItem e4i2y2x1\"})\n",
    "    if listContent is None:\n",
    "        print('Not found')\n",
    "        return 1\n",
    "    elif(not len(listContent)>=2):\n",
    "        return 1\n",
    "    else:\n",
    "        lastPage = listContent[2].text\n",
    "        return lastPage"
   ]
  },
  {
   "cell_type": "markdown",
   "id": "a3c43f6e",
   "metadata": {},
   "source": [
    "# : Return Link with Keyword or PageNum"
   ]
  },
  {
   "cell_type": "code",
   "execution_count": 57,
   "id": "46562ada",
   "metadata": {
    "code_folding": [
     0,
     5
    ]
   },
   "outputs": [],
   "source": [
    "def updateLinkKeyword(baseURL, keyWord):\n",
    "    newLink = \"\"\n",
    "    newLink = baseURL+keyWord\n",
    "    return newLink\n",
    "\n",
    "def updateLinkPage(url, pageNum):\n",
    "    newLink = \"\"\n",
    "    newLink = url+\"&page=\"\n",
    "    newLink = newLink+str(pageNum)\n",
    "    return newLink\n",
    "\n",
    "#updateLink('https://www.bbc.co.uk/search?q=', keywords[0])"
   ]
  },
  {
   "cell_type": "markdown",
   "id": "318fd01c",
   "metadata": {},
   "source": [
    "# : Combine the step 1-5"
   ]
  },
  {
   "cell_type": "code",
   "execution_count": 62,
   "id": "77fd979f",
   "metadata": {},
   "outputs": [],
   "source": [
    "def loopPages(f_link, lastPage,rightLinks):\n",
    "    s_link = \"\" #second link s_link\n",
    "    for i in range(1, int(lastPage)+1):\n",
    "        s_link = updateLinkPage(f_link, i)\n",
    "        getListNews(s_link,rightLinks) #for step 1.2\n",
    "\n",
    "def loopKeywords(keywords,url,rightLinks):\n",
    "#first link f_link\n",
    "    f_link = \"\"\n",
    "    lastPage = 1\n",
    "    for keyword in keywords:\n",
    "        f_link = updateLinkKeyword(baseURL,keyword)\n",
    "        lastPage = getLastPage(f_link)\n",
    "        loopPages(f_link,lastPage,rightLinks)\n",
    "    "
   ]
  },
  {
   "cell_type": "markdown",
   "id": "d5be2c27",
   "metadata": {},
   "source": [
    "algorithm"
   ]
  },
  {
   "cell_type": "markdown",
   "id": "c90fda84",
   "metadata": {},
   "source": [
    "index  0   16 March\t\t\ttrue then false, i+=3\n",
    "index  1   News\t\t\t\t\n",
    "index  2   Asia\n",
    "index  3   16 March\t\t\ttrue then false, i+=3\n",
    "index  4   News\n",
    "index  5   Asia\n",
    "index  6   16 April 2016\t\ttrue\n",
    "index  7   Programmes\t\t\tfalse, i+=2\n",
    "index  8   BBC World Service\n",
    "index  9   Programmes\t\t\tfalse, insert 99 January 9999, i+=3\n",
    "index  9   99 Janury 9999\n",
    "index  10   Programmes\n",
    "index  11   BBC World Service\n",
    "index  12   18 April 2016\n",
    "index  13   News\n",
    "index  14   Asia\n",
    "index  15   18 March 2011\n",
    "index  16   News\n",
    "index  17   Asia-Pacific\n",
    "index  18   16 March 2011\t\t \n",
    "index  19   News\t\t\ttrue\n",
    "index  20   \t\t\t\tfalse\n",
    "index  21   11 March 2011\t\ttrue but no region, insert \\s at i+=2,i+=3\n",
    "Found an article\n",
    "index  22   News\n",
    "index  23   None\n",
    "index  24   12 March 2011\t\ttrue but no region, insert \\s at i+=2,i+=3\n",
    "Found an article\n",
    "index  25   News\n",
    "index  26   None\n",
    "index  27   17 July 2007\n",
    "index  28   News\n",
    "index  29   In Pictures         false bec of blcklist\n",
    "There are  30"
   ]
  },
  {
   "cell_type": "markdown",
   "id": "d3517193",
   "metadata": {},
   "source": [
    "# :Actual Scraping"
   ]
  },
  {
   "cell_type": "code",
   "execution_count": 59,
   "id": "96ebe7a9",
   "metadata": {
    "code_folding": [
     1
    ]
   },
   "outputs": [],
   "source": [
    "#filter out articles with title heading\n",
    "def filterBlacklistTitle(titles):\n",
    "    blacklists=[\"picture\",\"video\"]\n",
    "    i=0\n",
    "    while(i<len(rightLinks)):\n",
    "        for blacklist in blacklists:\n",
    "            if(blacklist in rightLinks[i]):\n",
    "                rightLinks.pop(i)\n",
    "                i-=1\n",
    "        i+=1\n",
    "    removeDuplicates(rightLinks)\n",
    "\n"
   ]
  },
  {
   "cell_type": "code",
   "execution_count": 128,
   "id": "d9e4ee63",
   "metadata": {
    "code_folding": [
     10
    ],
    "scrolled": true
   },
   "outputs": [
    {
     "name": "stdout",
     "output_type": "stream",
     "text": [
      "National power will be defined not by the number of tanks and ships a country possesses but by its science and technology, and the quality of its algorithms.\n",
      "That is the message of the UK's Integrated Review, which says the government's aim is for the country to become an innovation \"superpower\" by 2030.\n",
      "\"This will be essential in gaining economic, political and security advantages in the coming decade,\" it says.\n",
      "It marks a major strategic shift in thinking. But delivery will not be straightforward.\n",
      "US v China\n",
      "A global tech race is heating up. \n",
      "China this month announced its latest five-year plan, including significant increases in research and development spending.\n",
      "\n",
      "It highlighted seven areas including:\n",
      "artificial intelligence (AI)quantum informationbrain sciencesemiconductorsbiotechnologyneuroscienceaerospace\n",
      "The Biden administration, meanwhile, is focusing on maintaining America's edge.\n",
      "Image source, Getty ImagesImage caption, The ability to make the latest computer chips is one of both the US and China's key tech strategies\n",
      "A report this month led by former Google chief executive Eric Schmidt focused on the security risks of falling behind China in AI.\n",
      "Strategic advantage\n",
      "Wars of the future may involve AI algorithms battling each other.\n",
      "The first nation to master this and other technologies may not just have a significant military advantage on the battlefield, but also in protecting its people at home and in spurring economic growth. \n",
      "That is why the UK's review says its \"first goal\" is growing the UK's science and technology power \"in pursuit of strategic advantage\".\n",
      "\n",
      "\"We need to generate strength through technological innovation,\" former MI6 Chief Alex Younger told the BBC.\n",
      "More cyber-attacks\n",
      "Some of this focuses on traditional areas. At least £6.6bn of defence funding over the next four years will go on research and development. \n",
      "Some of this will support industries in particular regions of the UK - a sign of the fusing of security and economic priorities. \n",
      "In addition, a national space strategy will be launched, as well as a new cyber-strategy that could see more frequent use of offensive capabilities by the new National Cyber Force. \n",
      "UK investment will be dwarfed by China and the US. But the ambition is that a more activist, industrial policy can create \"thriving ecosystems\" in crucial areas. \n",
      "Gene-edited troops\n",
      "Three fields are picked out for case studies.\n",
      "\n",
      "One is quantum computing, where the review argues the UK is \"well placed to emerge as a global leader\". \n",
      "The much-heralded quantum breakthrough will offer major advantages to those who get there first.\n",
      "This includes one field governments do not talk about: breaking the encryption which keeps messages secret.\n",
      "Image source, Getty ImagesImage caption, A quantum computer could theoretically unscramble many of today's encrypted communications\n",
      "Another is engineering biology - the design and redesign of biological systems through techniques like gene editing. \n",
      "This has potential for health and environmental benefits but also, as the report notes, defence and security. \n",
      "US intelligence officials have suggested China was exploring gene-editing its soldiers to improve their performance.\n",
      "The third is AI. The UK is home to cutting-edge research. But critics also say it highlights some of the historic problems in commercialising domestic innovation. \n",
      "London-based DeepMind is world-class, but sold itself to Google. The US may be a close ally, but there are still officials who believe the shift of ownership represented a strategic loss.\n",
      "Revolving door\n",
      "The failure to take UK research and grow tech giants from it is not a new problem. \n",
      "The UK built the first semi-programmable computer in World War Two to break codes at Bletchley Park. \n",
      "But it did so in secret and the computing industry it led to has been limited in terms of scale.\n",
      "By contrast the US, with a revolving door between government and the private sector, massive investment from the Pentagon and spy agencies, and a larger domestic market, created Silicon Valley.\n",
      "There is also a question about where it will be practical to try to convince what is a highly international workforce at UK companies and universities, to work on defence and security-related projects.\n",
      "In the US, a staff revolt led Google to pull out of Project Maven which wanted to use AI to tag objects in drone-collected video. \n",
      "Other US companies have been more willing to work with the Pentagon.\n",
      "Image source, ReutersImage caption, Microsoft and Amazon both bid for the Pentagon's AI-focused Jedi contract\n",
      "But copying the military-civil fusion that China talks about may not be either desirable or possible.\n",
      "Lessons from Huawei\n",
      "One criticism of the review is that it tries to have it both ways with China - stressing the need to be open to Beijing for trade and investment, while also engaging in systemic competition. \n",
      "This is not always easy. Last year's decision to effectively kick out Huawei from 5G telecoms showed hard choices are sometimes involved.\n",
      "In areas like 5G, the focus today is not just on developing cutting-edge technology, but also in setting global standards and rules for the future.\n",
      "And here China has invested heavily.\n",
      "The UK will need to work hard with allies to catch up and convince other countries to share its vision.  \n",
      "That is just one of the areas where becoming a science and tech superpower may be a tough promise to deliver on.\n",
      "\n"
     ]
    }
   ],
   "source": [
    "sample_url= \"https://www.bbc.com/news/technology-56421662\"\n",
    "def scrapePage(url,output_json):\n",
    "    html = requests.get(url) \n",
    "    soup = bs(html.content,'html.parser')\n",
    "    title = soup.find(\"h1\",{\"class\",\"ssrcss-15xko80-StyledHeading e1fj1fc10\"})\n",
    "    author = soup.find(\"a\",{\"class\",\"ssrcss-2kny4l-ContributorLink e5xb54n0\"})\n",
    "    date = soup.findAll(\"span\",{\"class\",\"ssrcss-8g95ls-MetadataSnippet ecn1o5v2\"})\n",
    "    article = soup.find(\"article\",{\"class\",\"ssrcss-pv1rh6-ArticleWrapper e1nh2i2l6\"})\n",
    "    i=0\n",
    "    article_desc = \"\"\n",
    "    for article_item in article:\n",
    "        i+=1\n",
    "        if(i>=3 and i<=len(article)-2):\n",
    "            article_desc += article_item.text+'\\n'\n",
    "#    print(article_desc)"
   ]
  },
  {
   "cell_type": "markdown",
   "id": "82db85bc",
   "metadata": {},
   "source": [
    "# : TestCase"
   ]
  },
  {
   "cell_type": "code",
   "execution_count": null,
   "id": "cbec0dd6",
   "metadata": {},
   "outputs": [],
   "source": [
    "print(title.text)\n",
    "print(author.text)    \n",
    "print(date[2].text)\n",
    "for date_item in date:\n",
    "    i+=1\n",
    "    print(i,' ',date_item)"
   ]
  },
  {
   "cell_type": "code",
   "execution_count": 60,
   "id": "b4bcf3ac",
   "metadata": {
    "scrolled": true
   },
   "outputs": [
    {
     "name": "stdout",
     "output_type": "stream",
     "text": [
      "https://www.bbc.co.uk/search?q=covid&page=1\n",
      "https://www.bbc.co.uk/search?q=covid&page=2\n",
      "https://www.bbc.co.uk/search?q=covid&page=3\n",
      "https://www.bbc.co.uk/search?q=covid&page=4\n",
      "https://www.bbc.co.uk/search?q=covid&page=5\n",
      "https://www.bbc.co.uk/search?q=covid&page=6\n",
      "https://www.bbc.co.uk/search?q=covid&page=7\n",
      "https://www.bbc.co.uk/search?q=covid&page=8\n",
      "https://www.bbc.co.uk/search?q=covid&page=9\n",
      "https://www.bbc.co.uk/search?q=covid&page=10\n",
      "https://www.bbc.co.uk/search?q=covid&page=11\n",
      "https://www.bbc.co.uk/search?q=covid&page=12\n",
      "https://www.bbc.co.uk/search?q=covid&page=13\n",
      "https://www.bbc.co.uk/search?q=covid&page=14\n",
      "https://www.bbc.co.uk/search?q=covid&page=15\n",
      "https://www.bbc.co.uk/search?q=covid&page=16\n",
      "https://www.bbc.co.uk/search?q=covid&page=17\n",
      "https://www.bbc.co.uk/search?q=covid&page=18\n",
      "https://www.bbc.co.uk/search?q=covid&page=19\n",
      "https://www.bbc.co.uk/search?q=covid&page=20\n",
      "https://www.bbc.co.uk/search?q=covid&page=21\n",
      "https://www.bbc.co.uk/search?q=covid&page=22\n",
      "https://www.bbc.co.uk/search?q=covid&page=23\n",
      "https://www.bbc.co.uk/search?q=covid&page=24\n",
      "https://www.bbc.co.uk/search?q=covid&page=25\n",
      "https://www.bbc.co.uk/search?q=covid&page=26\n",
      "https://www.bbc.co.uk/search?q=covid&page=27\n",
      "https://www.bbc.co.uk/search?q=covid&page=28\n",
      "https://www.bbc.co.uk/search?q=covid&page=29\n",
      "https://www.bbc.co.uk/search?q=water&page=1\n",
      "https://www.bbc.co.uk/search?q=water&page=2\n",
      "https://www.bbc.co.uk/search?q=water&page=3\n",
      "https://www.bbc.co.uk/search?q=water&page=4\n",
      "https://www.bbc.co.uk/search?q=water&page=5\n",
      "https://www.bbc.co.uk/search?q=water&page=6\n",
      "https://www.bbc.co.uk/search?q=water&page=7\n",
      "https://www.bbc.co.uk/search?q=water&page=8\n",
      "https://www.bbc.co.uk/search?q=water&page=9\n",
      "https://www.bbc.co.uk/search?q=water&page=10\n",
      "https://www.bbc.co.uk/search?q=water&page=11\n",
      "https://www.bbc.co.uk/search?q=water&page=12\n",
      "https://www.bbc.co.uk/search?q=water&page=13\n",
      "https://www.bbc.co.uk/search?q=water&page=14\n",
      "https://www.bbc.co.uk/search?q=water&page=15\n",
      "https://www.bbc.co.uk/search?q=water&page=16\n",
      "https://www.bbc.co.uk/search?q=water&page=17\n",
      "https://www.bbc.co.uk/search?q=water&page=18\n",
      "https://www.bbc.co.uk/search?q=water&page=19\n",
      "https://www.bbc.co.uk/search?q=water&page=20\n",
      "https://www.bbc.co.uk/search?q=water&page=21\n",
      "https://www.bbc.co.uk/search?q=water&page=22\n",
      "https://www.bbc.co.uk/search?q=water&page=23\n",
      "https://www.bbc.co.uk/search?q=water&page=24\n",
      "https://www.bbc.co.uk/search?q=water&page=25\n",
      "https://www.bbc.co.uk/search?q=water&page=26\n",
      "https://www.bbc.co.uk/search?q=water&page=27\n",
      "https://www.bbc.co.uk/search?q=water&page=28\n",
      "https://www.bbc.co.uk/search?q=water&page=29\n",
      "https://www.bbc.co.uk/search?q=resource&page=1\n",
      "https://www.bbc.co.uk/search?q=resource&page=2\n",
      "https://www.bbc.co.uk/search?q=resource&page=3\n",
      "https://www.bbc.co.uk/search?q=resource&page=4\n",
      "https://www.bbc.co.uk/search?q=resource&page=5\n",
      "https://www.bbc.co.uk/search?q=resource&page=6\n",
      "https://www.bbc.co.uk/search?q=resource&page=7\n",
      "https://www.bbc.co.uk/search?q=resource&page=8\n",
      "https://www.bbc.co.uk/search?q=resource&page=9\n",
      "https://www.bbc.co.uk/search?q=resource&page=10\n",
      "https://www.bbc.co.uk/search?q=resource&page=11\n",
      "https://www.bbc.co.uk/search?q=resource&page=12\n",
      "https://www.bbc.co.uk/search?q=resource&page=13\n",
      "https://www.bbc.co.uk/search?q=resource&page=14\n",
      "https://www.bbc.co.uk/search?q=resource&page=15\n",
      "https://www.bbc.co.uk/search?q=resource&page=16\n",
      "https://www.bbc.co.uk/search?q=resource&page=17\n",
      "https://www.bbc.co.uk/search?q=resource&page=18\n",
      "https://www.bbc.co.uk/search?q=resource&page=19\n",
      "https://www.bbc.co.uk/search?q=resource&page=20\n",
      "https://www.bbc.co.uk/search?q=resource&page=21\n",
      "https://www.bbc.co.uk/search?q=resource&page=22\n",
      "https://www.bbc.co.uk/search?q=resource&page=23\n",
      "https://www.bbc.co.uk/search?q=resource&page=24\n",
      "https://www.bbc.co.uk/search?q=resource&page=25\n",
      "https://www.bbc.co.uk/search?q=resource&page=26\n",
      "https://www.bbc.co.uk/search?q=resource&page=27\n",
      "https://www.bbc.co.uk/search?q=resource&page=28\n",
      "https://www.bbc.co.uk/search?q=resource&page=29\n",
      "https://www.bbc.co.uk/search?q=technology&page=1\n",
      "https://www.bbc.co.uk/search?q=technology&page=2\n",
      "https://www.bbc.co.uk/search?q=technology&page=3\n",
      "https://www.bbc.co.uk/search?q=technology&page=4\n",
      "https://www.bbc.co.uk/search?q=technology&page=5\n",
      "https://www.bbc.co.uk/search?q=technology&page=6\n",
      "https://www.bbc.co.uk/search?q=technology&page=7\n",
      "https://www.bbc.co.uk/search?q=technology&page=8\n",
      "https://www.bbc.co.uk/search?q=technology&page=9\n",
      "https://www.bbc.co.uk/search?q=technology&page=10\n",
      "https://www.bbc.co.uk/search?q=technology&page=11\n",
      "https://www.bbc.co.uk/search?q=technology&page=12\n",
      "https://www.bbc.co.uk/search?q=technology&page=13\n",
      "https://www.bbc.co.uk/search?q=technology&page=14\n",
      "https://www.bbc.co.uk/search?q=technology&page=15\n",
      "https://www.bbc.co.uk/search?q=technology&page=16\n",
      "https://www.bbc.co.uk/search?q=technology&page=17\n",
      "https://www.bbc.co.uk/search?q=technology&page=18\n",
      "https://www.bbc.co.uk/search?q=technology&page=19\n",
      "https://www.bbc.co.uk/search?q=technology&page=20\n",
      "https://www.bbc.co.uk/search?q=technology&page=21\n",
      "https://www.bbc.co.uk/search?q=technology&page=22\n",
      "https://www.bbc.co.uk/search?q=technology&page=23\n",
      "https://www.bbc.co.uk/search?q=technology&page=24\n",
      "https://www.bbc.co.uk/search?q=technology&page=25\n",
      "https://www.bbc.co.uk/search?q=technology&page=26\n",
      "https://www.bbc.co.uk/search?q=technology&page=27\n",
      "https://www.bbc.co.uk/search?q=technology&page=28\n",
      "https://www.bbc.co.uk/search?q=technology&page=29\n"
     ]
    }
   ],
   "source": [
    "rightLinks = []\n",
    "loopKeywords(keywords,baseURL, rightLinks)\n",
    "filterRightLinks(rightLinks)\n",
    "#getJSON(weblinks)"
   ]
  },
  {
   "cell_type": "code",
   "execution_count": 61,
   "id": "b91bd676",
   "metadata": {
    "code_folding": []
   },
   "outputs": [
    {
     "name": "stdout",
     "output_type": "stream",
     "text": [
      "https://www.bbc.co.uk/news/uk-51768274\n",
      "https://www.bbc.co.uk/news/health-51943612\n",
      "https://www.bbc.co.uk/news/world-56237778\n",
      "https://www.bbc.co.uk/news/uk-england-manchester-12744863\n",
      "https://www.bbc.co.uk/news/uk-wales-politics-39274516\n",
      "https://www.bbc.co.uk/news/uk-43360195\n",
      "https://www.bbc.co.uk/news/uk-wales-politics-39266993\n",
      "https://www.bbc.co.uk/news/uk-england-oxfordshire-35802254\n",
      "https://www.bbc.co.uk/news/technology-56200867\n",
      "https://www.bbc.co.uk/news/technology-56421662\n",
      "https://www.bbc.co.uk/news/health-56300683\n",
      "https://www.bbc.co.uk/news/uk-northern-ireland-51743593\n",
      "https://www.bbc.co.uk/news/education-47414952\n",
      "https://www.bbc.co.uk/news/business-47415174\n",
      "https://www.bbc.co.uk/news/uk-england-beds-bucks-herts-43319343\n"
     ]
    }
   ],
   "source": [
    "#process links to remove blogs and videos\n",
    "\n",
    "for link in rightLinks:\n",
    "    print(link)"
   ]
  },
  {
   "cell_type": "markdown",
   "id": "81ec2b00",
   "metadata": {},
   "source": [
    "1. Locate Search bar and keyword will be array of strings\n",
    "2. Select or click\n",
    "3. It can go through page button list\n",
    "4. Get news article date March 11-12\n",
    "5. Save output to JSON file"
   ]
  },
  {
   "cell_type": "code",
   "execution_count": null,
   "id": "b99eb280",
   "metadata": {},
   "outputs": [],
   "source": []
  }
 ],
 "metadata": {
  "kernelspec": {
   "display_name": "Python 3 (ipykernel)",
   "language": "python",
   "name": "python3"
  },
  "language_info": {
   "codemirror_mode": {
    "name": "ipython",
    "version": 3
   },
   "file_extension": ".py",
   "mimetype": "text/x-python",
   "name": "python",
   "nbconvert_exporter": "python",
   "pygments_lexer": "ipython3",
   "version": "3.10.4"
  },
  "toc": {
   "base_numbering": 1,
   "nav_menu": {},
   "number_sections": true,
   "sideBar": true,
   "skip_h1_title": false,
   "title_cell": "Table of Contents",
   "title_sidebar": "Contents",
   "toc_cell": false,
   "toc_position": {
    "height": "calc(100% - 180px)",
    "left": "10px",
    "top": "150px",
    "width": "273.188px"
   },
   "toc_section_display": true,
   "toc_window_display": true
  }
 },
 "nbformat": 4,
 "nbformat_minor": 5
}
