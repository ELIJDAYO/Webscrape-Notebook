{
 "cells": [
  {
   "cell_type": "code",
   "execution_count": 131,
   "id": "9afd0fa3",
   "metadata": {},
   "outputs": [],
   "source": [
    "import requests\n",
    "\n",
    "baseURL=\"https://www.bbc.co.uk/search?q=\"\n",
    "#baseURL=\"https://www.bbc.co.uk/search?q={keyword}\""
   ]
  },
  {
   "cell_type": "code",
   "execution_count": 4,
   "id": "16451cbf",
   "metadata": {},
   "outputs": [],
   "source": [
    "#page=requests.get(baseURL)\n"
   ]
  },
  {
   "cell_type": "code",
   "execution_count": 5,
   "id": "9cdb71b2",
   "metadata": {},
   "outputs": [],
   "source": [
    "from bs4 import BeautifulSoup as bs"
   ]
  },
  {
   "cell_type": "code",
   "execution_count": 6,
   "id": "09b6355f",
   "metadata": {},
   "outputs": [],
   "source": [
    "#soup = bs(page.content, 'html.parser')"
   ]
  },
  {
   "cell_type": "code",
   "execution_count": 155,
   "id": "da6161a7",
   "metadata": {},
   "outputs": [],
   "source": [
    "#headlines = soup.find_all('a', { 'class': 'gs-c-promo-heading' })\n",
    "#make sure space is replaced by +\n",
    "keywords = [\"marawi\",\"cat\", \"anime\"] "
   ]
  },
  {
   "cell_type": "markdown",
   "id": "a560ebb3",
   "metadata": {},
   "source": [
    "# Get content of currentpage"
   ]
  },
  {
   "cell_type": "code",
   "execution_count": 122,
   "id": "99efda2e",
   "metadata": {},
   "outputs": [],
   "source": [
    "#get result at page 1\n",
    "def get_result(url): \n",
    "    webLinks = []\n",
    "    html = requests.get(url) \n",
    "    soup = bs(html.content,'html.parser')\n",
    "    content = soup.findAll(\"p\")\n",
    "    if content is None:\n",
    "        return 'Not found'\n",
    "    else:\n",
    "        for output in content:\n",
    "            print(\"***********************\")\n",
    "            print(output.text)\n",
    "#            webLinks.append(output.get('href'))\n",
    "#        print(webLinks)\n",
    "\n"
   ]
  },
  {
   "cell_type": "markdown",
   "id": "12775205",
   "metadata": {},
   "source": [
    "# Variables to extract"
   ]
  },
  {
   "cell_type": "code",
   "execution_count": 91,
   "id": "a3538d84",
   "metadata": {},
   "outputs": [],
   "source": [
    "date = []\n",
    "title = []\n",
    "fullArticle = []\n",
    "author = []"
   ]
  },
  {
   "cell_type": "code",
   "execution_count": 93,
   "id": "cf6c3a7e",
   "metadata": {
    "code_folding": [
     0,
     6
    ]
   },
   "outputs": [
    {
     "ename": "SyntaxError",
     "evalue": "invalid syntax (Temp/ipykernel_10896/4019841589.py, line 7)",
     "output_type": "error",
     "traceback": [
      "\u001b[1;36m  File \u001b[1;32m\"C:\\Users\\ELIJAH~1\\AppData\\Local\\Temp/ipykernel_10896/4019841589.py\"\u001b[1;36m, line \u001b[1;32m7\u001b[0m\n\u001b[1;33m    def scrape_pages()\u001b[0m\n\u001b[1;37m                      ^\u001b[0m\n\u001b[1;31mSyntaxError\u001b[0m\u001b[1;31m:\u001b[0m invalid syntax\n"
     ]
    }
   ],
   "source": [
    "def get_pages():\n",
    "    html = requests.get(baseURL)\n",
    "    soup = bs(html.content, 'html.parser')\n",
    "    page_list = soup.findAll()\n",
    "    pages = pag\n",
    "    \n",
    "def scrape_pages()\n",
    "    html = requests.get(baseURL)\n",
    "    soup = bs(html.content, 'html.parser')\n",
    "    \n"
   ]
  },
  {
   "cell_type": "markdown",
   "id": "3ec62fef",
   "metadata": {},
   "source": [
    "# Get Last Page"
   ]
  },
  {
   "cell_type": "code",
   "execution_count": 142,
   "id": "4ccf5188",
   "metadata": {
    "code_folding": []
   },
   "outputs": [],
   "source": [
    "page = 1\n",
    "def getLastPage(url):\n",
    "    html = requests.get(url) \n",
    "    soup = bs(html.content,'html.parser')\n",
    "    listContent = soup.findAll(\"li\",{\"class\", \"ssrcss-hp3otd-StyledListItem-PageButtonListItem e4i2y2x1\"})\n",
    "\n",
    "    if listContent is None:\n",
    "        print('Not found')\n",
    "        return 1\n",
    "    else:\n",
    "        lastPage = listContent[2].text\n",
    "#        print(lastPage)\n",
    "        return lastPage\n",
    "\n",
    "# html = requests.get(f'https://www.bbc.co.uk/search?q={keyword}&page={page}') \n"
   ]
  },
  {
   "cell_type": "markdown",
   "id": "a3c43f6e",
   "metadata": {},
   "source": [
    "# Return Link"
   ]
  },
  {
   "cell_type": "code",
   "execution_count": 143,
   "id": "46562ada",
   "metadata": {},
   "outputs": [],
   "source": [
    "def updateLinkKeyword(baseURL, keyWord):\n",
    "    newLink = \"\"\n",
    "    newLink = baseURL+keyWord\n",
    "#    newLink = baseURL+\"&page=1\"\n",
    "    return newLink\n",
    "\n",
    "def updateLinkPage(url, pageNum):\n",
    "    newLink = \"\"\n",
    "    newLink = url+\"&page=\"\n",
    "    newLink = newLink+str(pageNum)\n",
    "    return newLink\n",
    "\n",
    "#updateLink('https://www.bbc.co.uk/search?q=', keywords[0])"
   ]
  },
  {
   "cell_type": "markdown",
   "id": "318fd01c",
   "metadata": {},
   "source": [
    "# Combine the rest except Step 2"
   ]
  },
  {
   "cell_type": "code",
   "execution_count": 153,
   "id": "77fd979f",
   "metadata": {},
   "outputs": [],
   "source": [
    "def loopPages(f_link, lastPage):\n",
    "#second link s_link\n",
    "    s_link = \"\"\n",
    "    for i in range(1, int(lastPage)+1):\n",
    "        print(\"Page \", i)\n",
    "        s_link = updateLinkPage(f_link, i)\n",
    "        print(\"s_link \",s_link)\n",
    "\n",
    "#        get_result(s_link)\n",
    "\n",
    "def loopKeywords(keywords,url):\n",
    "#first link f_link\n",
    "    f_link = \"\"\n",
    "    lastPage = 1\n",
    "    for keyword in keywords:\n",
    "        f_link = updateLinkKeyword(baseURL,keyword)\n",
    "        lastPage = getLastPage(f_link)\n",
    "        loopPages(f_link,lastPage)\n",
    "    "
   ]
  },
  {
   "cell_type": "markdown",
   "id": "82db85bc",
   "metadata": {},
   "source": [
    "# TestCase"
   ]
  },
  {
   "cell_type": "code",
   "execution_count": 156,
   "id": "52412d1a",
   "metadata": {},
   "outputs": [
    {
     "name": "stdout",
     "output_type": "stream",
     "text": [
      "Page  1\n",
      "s_link  https://www.bbc.co.uk/search?q=marawi&page=1\n",
      "Page  2\n",
      "s_link  https://www.bbc.co.uk/search?q=marawi&page=2\n",
      "Page  3\n",
      "s_link  https://www.bbc.co.uk/search?q=marawi&page=3\n",
      "Page  4\n",
      "s_link  https://www.bbc.co.uk/search?q=marawi&page=4\n",
      "Page  5\n",
      "s_link  https://www.bbc.co.uk/search?q=marawi&page=5\n",
      "Page  6\n",
      "s_link  https://www.bbc.co.uk/search?q=marawi&page=6\n",
      "Page  7\n",
      "s_link  https://www.bbc.co.uk/search?q=marawi&page=7\n",
      "Page  8\n",
      "s_link  https://www.bbc.co.uk/search?q=marawi&page=8\n",
      "Page  9\n",
      "s_link  https://www.bbc.co.uk/search?q=marawi&page=9\n",
      "Page  1\n",
      "s_link  https://www.bbc.co.uk/search?q=cat&page=1\n",
      "Page  2\n",
      "s_link  https://www.bbc.co.uk/search?q=cat&page=2\n",
      "Page  3\n",
      "s_link  https://www.bbc.co.uk/search?q=cat&page=3\n",
      "Page  4\n",
      "s_link  https://www.bbc.co.uk/search?q=cat&page=4\n",
      "Page  5\n",
      "s_link  https://www.bbc.co.uk/search?q=cat&page=5\n",
      "Page  6\n",
      "s_link  https://www.bbc.co.uk/search?q=cat&page=6\n",
      "Page  7\n",
      "s_link  https://www.bbc.co.uk/search?q=cat&page=7\n",
      "Page  8\n",
      "s_link  https://www.bbc.co.uk/search?q=cat&page=8\n",
      "Page  9\n",
      "s_link  https://www.bbc.co.uk/search?q=cat&page=9\n",
      "Page  10\n",
      "s_link  https://www.bbc.co.uk/search?q=cat&page=10\n",
      "Page  11\n",
      "s_link  https://www.bbc.co.uk/search?q=cat&page=11\n",
      "Page  12\n",
      "s_link  https://www.bbc.co.uk/search?q=cat&page=12\n",
      "Page  13\n",
      "s_link  https://www.bbc.co.uk/search?q=cat&page=13\n",
      "Page  14\n",
      "s_link  https://www.bbc.co.uk/search?q=cat&page=14\n",
      "Page  15\n",
      "s_link  https://www.bbc.co.uk/search?q=cat&page=15\n",
      "Page  16\n",
      "s_link  https://www.bbc.co.uk/search?q=cat&page=16\n",
      "Page  17\n",
      "s_link  https://www.bbc.co.uk/search?q=cat&page=17\n",
      "Page  18\n",
      "s_link  https://www.bbc.co.uk/search?q=cat&page=18\n",
      "Page  19\n",
      "s_link  https://www.bbc.co.uk/search?q=cat&page=19\n",
      "Page  20\n",
      "s_link  https://www.bbc.co.uk/search?q=cat&page=20\n",
      "Page  21\n",
      "s_link  https://www.bbc.co.uk/search?q=cat&page=21\n",
      "Page  22\n",
      "s_link  https://www.bbc.co.uk/search?q=cat&page=22\n",
      "Page  23\n",
      "s_link  https://www.bbc.co.uk/search?q=cat&page=23\n",
      "Page  24\n",
      "s_link  https://www.bbc.co.uk/search?q=cat&page=24\n",
      "Page  25\n",
      "s_link  https://www.bbc.co.uk/search?q=cat&page=25\n",
      "Page  26\n",
      "s_link  https://www.bbc.co.uk/search?q=cat&page=26\n",
      "Page  27\n",
      "s_link  https://www.bbc.co.uk/search?q=cat&page=27\n",
      "Page  28\n",
      "s_link  https://www.bbc.co.uk/search?q=cat&page=28\n",
      "Page  29\n",
      "s_link  https://www.bbc.co.uk/search?q=cat&page=29\n",
      "Page  1\n",
      "s_link  https://www.bbc.co.uk/search?q=anime&page=1\n",
      "Page  2\n",
      "s_link  https://www.bbc.co.uk/search?q=anime&page=2\n",
      "Page  3\n",
      "s_link  https://www.bbc.co.uk/search?q=anime&page=3\n",
      "Page  4\n",
      "s_link  https://www.bbc.co.uk/search?q=anime&page=4\n",
      "Page  5\n",
      "s_link  https://www.bbc.co.uk/search?q=anime&page=5\n",
      "Page  6\n",
      "s_link  https://www.bbc.co.uk/search?q=anime&page=6\n",
      "Page  7\n",
      "s_link  https://www.bbc.co.uk/search?q=anime&page=7\n",
      "Page  8\n",
      "s_link  https://www.bbc.co.uk/search?q=anime&page=8\n",
      "Page  9\n",
      "s_link  https://www.bbc.co.uk/search?q=anime&page=9\n",
      "Page  10\n",
      "s_link  https://www.bbc.co.uk/search?q=anime&page=10\n",
      "Page  11\n",
      "s_link  https://www.bbc.co.uk/search?q=anime&page=11\n",
      "Page  12\n",
      "s_link  https://www.bbc.co.uk/search?q=anime&page=12\n",
      "Page  13\n",
      "s_link  https://www.bbc.co.uk/search?q=anime&page=13\n",
      "Page  14\n",
      "s_link  https://www.bbc.co.uk/search?q=anime&page=14\n",
      "Page  15\n",
      "s_link  https://www.bbc.co.uk/search?q=anime&page=15\n",
      "Page  16\n",
      "s_link  https://www.bbc.co.uk/search?q=anime&page=16\n",
      "Page  17\n",
      "s_link  https://www.bbc.co.uk/search?q=anime&page=17\n",
      "Page  18\n",
      "s_link  https://www.bbc.co.uk/search?q=anime&page=18\n",
      "Page  19\n",
      "s_link  https://www.bbc.co.uk/search?q=anime&page=19\n",
      "Page  20\n",
      "s_link  https://www.bbc.co.uk/search?q=anime&page=20\n",
      "Page  21\n",
      "s_link  https://www.bbc.co.uk/search?q=anime&page=21\n",
      "Page  22\n",
      "s_link  https://www.bbc.co.uk/search?q=anime&page=22\n",
      "Page  23\n",
      "s_link  https://www.bbc.co.uk/search?q=anime&page=23\n",
      "Page  24\n",
      "s_link  https://www.bbc.co.uk/search?q=anime&page=24\n",
      "Page  25\n",
      "s_link  https://www.bbc.co.uk/search?q=anime&page=25\n",
      "Page  26\n",
      "s_link  https://www.bbc.co.uk/search?q=anime&page=26\n",
      "Page  27\n",
      "s_link  https://www.bbc.co.uk/search?q=anime&page=27\n",
      "Page  28\n",
      "s_link  https://www.bbc.co.uk/search?q=anime&page=28\n",
      "Page  29\n",
      "s_link  https://www.bbc.co.uk/search?q=anime&page=29\n"
     ]
    }
   ],
   "source": [
    "loopKeywords(keywords,baseURL)"
   ]
  },
  {
   "cell_type": "markdown",
   "id": "81ec2b00",
   "metadata": {},
   "source": [
    "1. Locate Search bar and keyword will be array of strings\n",
    "2. Select or click\n",
    "3. It can go through page button list\n",
    "4. Get news article date March 11-12\n",
    "5. Save output to JSON file"
   ]
  },
  {
   "cell_type": "code",
   "execution_count": null,
   "id": "b99eb280",
   "metadata": {},
   "outputs": [],
   "source": []
  }
 ],
 "metadata": {
  "kernelspec": {
   "display_name": "Python 3 (ipykernel)",
   "language": "python",
   "name": "python3"
  },
  "language_info": {
   "codemirror_mode": {
    "name": "ipython",
    "version": 3
   },
   "file_extension": ".py",
   "mimetype": "text/x-python",
   "name": "python",
   "nbconvert_exporter": "python",
   "pygments_lexer": "ipython3",
   "version": "3.9.7"
  },
  "toc": {
   "base_numbering": 1,
   "nav_menu": {},
   "number_sections": true,
   "sideBar": true,
   "skip_h1_title": false,
   "title_cell": "Table of Contents",
   "title_sidebar": "Contents",
   "toc_cell": false,
   "toc_position": {},
   "toc_section_display": true,
   "toc_window_display": true
  }
 },
 "nbformat": 4,
 "nbformat_minor": 5
}
