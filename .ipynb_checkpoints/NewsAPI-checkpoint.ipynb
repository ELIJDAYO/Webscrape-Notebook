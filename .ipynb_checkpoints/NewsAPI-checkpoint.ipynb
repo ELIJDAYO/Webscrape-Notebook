{
 "cells": [
  {
   "cell_type": "markdown",
   "id": "05565e60",
   "metadata": {},
   "source": [
    "# Imports and Variables"
   ]
  },
  {
   "cell_type": "code",
   "execution_count": 134,
   "id": "2a8557ba",
   "metadata": {},
   "outputs": [],
   "source": [
    "import requests\n",
    "import json\n",
    "import pprint\n",
    "from bs4 import BeautifulSoup as bs\n",
    "import pandas as pd\n"
   ]
  },
  {
   "cell_type": "code",
   "execution_count": 173,
   "id": "125a4d23",
   "metadata": {},
   "outputs": [],
   "source": [
    "url = \"https://content.guardianapis.com/search\"\n",
    "content = [\"covid\",\"technology\",\"graphic%20content\"]\n",
    "apiKey = \"5ee2a23b-f46e-4986-a548-e4d9e5bd569e\""
   ]
  },
  {
   "cell_type": "code",
   "execution_count": 136,
   "id": "3ac64c8c",
   "metadata": {},
   "outputs": [],
   "source": [
    "upperYear = 2022\n",
    "lowerYear = 2000\n",
    "fromDateMonth = \"-03-11\"\n",
    "toDateMonth = \"-03-12\""
   ]
  },
  {
   "cell_type": "raw",
   "id": "aa991032",
   "metadata": {},
   "source": [
    "Paging Through Results\n",
    "Example: https://content.guardianapis.com/search?page=2&q=debate&api-key=test\n",
    "https://content.guardianapis.com/search?q=debate&tag=politics/politics&from-date=2014-01-01&api-key=test\n",
    "\"mitochondrial donation\" (https://content.guardianapis.com/search?q=\"mitochondrial%20donation\"&tag=politics/politics&from-date=2014-01-01&api-key=test) returns only content that contains the phrase \"mitochondrial donation\"."
   ]
  },
  {
   "cell_type": "markdown",
   "id": "fab422c8",
   "metadata": {},
   "source": [
    "# Retrieve an article with satisfying condition"
   ]
  },
  {
   "cell_type": "code",
   "execution_count": 137,
   "id": "e2090c2a",
   "metadata": {},
   "outputs": [],
   "source": [
    "parameters = {\n",
    "    'q': 'covid',\n",
    "    'pageSize': 100,\n",
    "    'api-key': \"5ee2a23b-f46e-4986-a548-e4d9e5bd569e\",\n",
    "    'from-date': \"2022-03-11\",\n",
    "    'to-date': \"2022-03-12\",\n",
    "}"
   ]
  },
  {
   "cell_type": "code",
   "execution_count": 138,
   "id": "df1d0b58",
   "metadata": {
    "scrolled": true
   },
   "outputs": [],
   "source": [
    "res = requests.get(url,params=parameters)\n"
   ]
  },
  {
   "cell_type": "code",
   "execution_count": 139,
   "id": "32c1d899",
   "metadata": {},
   "outputs": [],
   "source": [
    "json_res = res.json()"
   ]
  },
  {
   "cell_type": "code",
   "execution_count": 140,
   "id": "d5e18152",
   "metadata": {},
   "outputs": [
    {
     "name": "stdout",
     "output_type": "stream",
     "text": [
      "{'response': {'currentPage': 1,\n",
      "              'orderBy': 'relevance',\n",
      "              'pageSize': 10,\n",
      "              'pages': 8,\n",
      "              'results': [{'apiUrl': 'https://content.guardianapis.com/education/2022/mar/12/covid-made-parents-more-relaxed-about-unauthorised-holidays-ofsted',\n",
      "                           'id': 'education/2022/mar/12/covid-made-parents-more-relaxed-about-unauthorised-holidays-ofsted',\n",
      "                           'isHosted': False,\n",
      "                           'pillarId': 'pillar/news',\n",
      "                           'pillarName': 'News',\n",
      "                           'sectionId': 'education',\n",
      "                           'sectionName': 'Education',\n",
      "                           'type': 'article',\n",
      "                           'webPublicationDate': '2022-03-12T14:50:41Z',\n",
      "                           'webTitle': 'Covid made parents ‘more relaxed’ '\n",
      "                                       'about unauthorised holidays – Ofsted',\n",
      "                           'webUrl': 'https://www.theguardian.com/education/2022/mar/12/covid-made-parents-more-relaxed-about-unauthorised-holidays-ofsted'},\n",
      "                          {'apiUrl': 'https://content.guardianapis.com/world/2022/mar/11/covid-cases-england-omicron-levels-ons-data',\n",
      "                           'id': 'world/2022/mar/11/covid-cases-england-omicron-levels-ons-data',\n",
      "                           'isHosted': False,\n",
      "                           'pillarId': 'pillar/news',\n",
      "                           'pillarName': 'News',\n",
      "                           'sectionId': 'world',\n",
      "                           'sectionName': 'World news',\n",
      "                           'type': 'article',\n",
      "                           'webPublicationDate': '2022-03-11T12:37:21Z',\n",
      "                           'webTitle': 'Covid cases and hospital admissions '\n",
      "                                       'rising in England, data suggests',\n",
      "                           'webUrl': 'https://www.theguardian.com/world/2022/mar/11/covid-cases-england-omicron-levels-ons-data'},\n",
      "                          {'apiUrl': 'https://content.guardianapis.com/education/2022/mar/11/zahawi-to-overhaul-covid-catchup-tutoring-after-criticism-of-provider',\n",
      "                           'id': 'education/2022/mar/11/zahawi-to-overhaul-covid-catchup-tutoring-after-criticism-of-provider',\n",
      "                           'isHosted': False,\n",
      "                           'pillarId': 'pillar/news',\n",
      "                           'pillarName': 'News',\n",
      "                           'sectionId': 'education',\n",
      "                           'sectionName': 'Education',\n",
      "                           'type': 'article',\n",
      "                           'webPublicationDate': '2022-03-11T18:15:43Z',\n",
      "                           'webTitle': 'Zahawi to overhaul Covid catchup '\n",
      "                                       'tutoring after criticism of provider',\n",
      "                           'webUrl': 'https://www.theguardian.com/education/2022/mar/11/zahawi-to-overhaul-covid-catchup-tutoring-after-criticism-of-provider'},\n",
      "                          {'apiUrl': 'https://content.guardianapis.com/world/2022/mar/12/dismay-as-funding-for-uks-world-beating-covid-trackers-is-axed',\n",
      "                           'id': 'world/2022/mar/12/dismay-as-funding-for-uks-world-beating-covid-trackers-is-axed',\n",
      "                           'isHosted': False,\n",
      "                           'pillarId': 'pillar/news',\n",
      "                           'pillarName': 'News',\n",
      "                           'sectionId': 'world',\n",
      "                           'sectionName': 'World news',\n",
      "                           'type': 'article',\n",
      "                           'webPublicationDate': '2022-03-12T12:00:04Z',\n",
      "                           'webTitle': 'Dismay as funding for UK’s '\n",
      "                                       '‘world-beating’ Covid trackers is axed',\n",
      "                           'webUrl': 'https://www.theguardian.com/world/2022/mar/12/dismay-as-funding-for-uks-world-beating-covid-trackers-is-axed'},\n",
      "                          {'apiUrl': 'https://content.guardianapis.com/world/2022/mar/11/us-child-covid-deaths-omicron-surge',\n",
      "                           'id': 'world/2022/mar/11/us-child-covid-deaths-omicron-surge',\n",
      "                           'isHosted': False,\n",
      "                           'pillarId': 'pillar/news',\n",
      "                           'pillarName': 'News',\n",
      "                           'sectionId': 'world',\n",
      "                           'sectionName': 'World news',\n",
      "                           'type': 'article',\n",
      "                           'webPublicationDate': '2022-03-11T08:00:26Z',\n",
      "                           'webTitle': 'A fifth of all US child Covid deaths '\n",
      "                                       'occurred during Omicron surge',\n",
      "                           'webUrl': 'https://www.theguardian.com/world/2022/mar/11/us-child-covid-deaths-omicron-surge'},\n",
      "                          {'apiUrl': 'https://content.guardianapis.com/money/2022/mar/12/cashs-reign-fades-as-covid-accelerates-high-street-switch-to-card-only',\n",
      "                           'id': 'money/2022/mar/12/cashs-reign-fades-as-covid-accelerates-high-street-switch-to-card-only',\n",
      "                           'isHosted': False,\n",
      "                           'pillarId': 'pillar/lifestyle',\n",
      "                           'pillarName': 'Lifestyle',\n",
      "                           'sectionId': 'money',\n",
      "                           'sectionName': 'Money',\n",
      "                           'type': 'article',\n",
      "                           'webPublicationDate': '2022-03-12T15:00:03Z',\n",
      "                           'webTitle': 'Cash’s reign fades as Covid '\n",
      "                                       'accelerates high street switch to '\n",
      "                                       'card-only',\n",
      "                           'webUrl': 'https://www.theguardian.com/money/2022/mar/12/cashs-reign-fades-as-covid-accelerates-high-street-switch-to-card-only'},\n",
      "                          {'apiUrl': 'https://content.guardianapis.com/world/2022/mar/12/call-to-offer-more-people-fourth-jab-as-covid-rises-in-england',\n",
      "                           'id': 'world/2022/mar/12/call-to-offer-more-people-fourth-jab-as-covid-rises-in-england',\n",
      "                           'isHosted': False,\n",
      "                           'pillarId': 'pillar/news',\n",
      "                           'pillarName': 'News',\n",
      "                           'sectionId': 'world',\n",
      "                           'sectionName': 'World news',\n",
      "                           'type': 'article',\n",
      "                           'webPublicationDate': '2022-03-12T12:32:04Z',\n",
      "                           'webTitle': 'Call to offer more people fourth jab '\n",
      "                                       'as Covid rises in England',\n",
      "                           'webUrl': 'https://www.theguardian.com/world/2022/mar/12/call-to-offer-more-people-fourth-jab-as-covid-rises-in-england'},\n",
      "                          {'apiUrl': 'https://content.guardianapis.com/commentisfree/2022/mar/12/covid-restrictions-eased-cases-coronavirus-precautionary-peasures',\n",
      "                           'id': 'commentisfree/2022/mar/12/covid-restrictions-eased-cases-coronavirus-precautionary-peasures',\n",
      "                           'isHosted': False,\n",
      "                           'pillarId': 'pillar/opinion',\n",
      "                           'pillarName': 'Opinion',\n",
      "                           'sectionId': 'commentisfree',\n",
      "                           'sectionName': 'Opinion',\n",
      "                           'type': 'article',\n",
      "                           'webPublicationDate': '2022-03-12T12:00:04Z',\n",
      "                           'webTitle': 'Covid has slipped from the headlines – '\n",
      "                                       'but with restrictions eased, cases are '\n",
      "                                       'rising | Kit Yates',\n",
      "                           'webUrl': 'https://www.theguardian.com/commentisfree/2022/mar/12/covid-restrictions-eased-cases-coronavirus-precautionary-peasures'},\n",
      "                          {'apiUrl': 'https://content.guardianapis.com/world/2022/mar/11/what-is-deltacron-covid-variant-uk',\n",
      "                           'id': 'world/2022/mar/11/what-is-deltacron-covid-variant-uk',\n",
      "                           'isHosted': False,\n",
      "                           'pillarId': 'pillar/news',\n",
      "                           'pillarName': 'News',\n",
      "                           'sectionId': 'world',\n",
      "                           'sectionName': 'World news',\n",
      "                           'type': 'article',\n",
      "                           'webPublicationDate': '2022-03-11T13:25:22Z',\n",
      "                           'webTitle': 'What is the Deltacron variant of Covid '\n",
      "                                       'and where has it been found?',\n",
      "                           'webUrl': 'https://www.theguardian.com/world/2022/mar/11/what-is-deltacron-covid-variant-uk'},\n",
      "                          {'apiUrl': 'https://content.guardianapis.com/global-development/2022/mar/11/harry-and-meghan-add-voices-to-fierce-critique-of-wests-covid-vaccine-policies',\n",
      "                           'id': 'global-development/2022/mar/11/harry-and-meghan-add-voices-to-fierce-critique-of-wests-covid-vaccine-policies',\n",
      "                           'isHosted': False,\n",
      "                           'pillarId': 'pillar/news',\n",
      "                           'pillarName': 'News',\n",
      "                           'sectionId': 'global-development',\n",
      "                           'sectionName': 'Global development',\n",
      "                           'type': 'article',\n",
      "                           'webPublicationDate': '2022-03-11T00:01:16Z',\n",
      "                           'webTitle': 'Harry and Meghan add voices to fierce '\n",
      "                                       'critique of west’s Covid vaccine '\n",
      "                                       'policies',\n",
      "                           'webUrl': 'https://www.theguardian.com/global-development/2022/mar/11/harry-and-meghan-add-voices-to-fierce-critique-of-wests-covid-vaccine-policies'}],\n",
      "              'startIndex': 1,\n",
      "              'status': 'ok',\n",
      "              'total': 73,\n",
      "              'userTier': 'developer'}}\n"
     ]
    }
   ],
   "source": [
    "pprint.pprint(json_res)\n"
   ]
  },
  {
   "cell_type": "code",
   "execution_count": 141,
   "id": "1f4dfdcc",
   "metadata": {},
   "outputs": [
    {
     "name": "stdout",
     "output_type": "stream",
     "text": [
      "status\n",
      "userTier\n",
      "total\n",
      "startIndex\n",
      "pageSize\n",
      "currentPage\n",
      "pages\n",
      "orderBy\n",
      "results\n"
     ]
    }
   ],
   "source": [
    "for i in json_res['response']:\n",
    "    print(i)"
   ]
  },
  {
   "cell_type": "code",
   "execution_count": 142,
   "id": "b0e88bce",
   "metadata": {},
   "outputs": [
    {
     "name": "stdout",
     "output_type": "stream",
     "text": [
      "[{'apiUrl': 'https://content.guardianapis.com/education/2022/mar/12/covid-made-parents-more-relaxed-about-unauthorised-holidays-ofsted',\n",
      "  'id': 'education/2022/mar/12/covid-made-parents-more-relaxed-about-unauthorised-holidays-ofsted',\n",
      "  'isHosted': False,\n",
      "  'pillarId': 'pillar/news',\n",
      "  'pillarName': 'News',\n",
      "  'sectionId': 'education',\n",
      "  'sectionName': 'Education',\n",
      "  'type': 'article',\n",
      "  'webPublicationDate': '2022-03-12T14:50:41Z',\n",
      "  'webTitle': 'Covid made parents ‘more relaxed’ about unauthorised holidays – '\n",
      "              'Ofsted',\n",
      "  'webUrl': 'https://www.theguardian.com/education/2022/mar/12/covid-made-parents-more-relaxed-about-unauthorised-holidays-ofsted'},\n",
      " {'apiUrl': 'https://content.guardianapis.com/world/2022/mar/11/covid-cases-england-omicron-levels-ons-data',\n",
      "  'id': 'world/2022/mar/11/covid-cases-england-omicron-levels-ons-data',\n",
      "  'isHosted': False,\n",
      "  'pillarId': 'pillar/news',\n",
      "  'pillarName': 'News',\n",
      "  'sectionId': 'world',\n",
      "  'sectionName': 'World news',\n",
      "  'type': 'article',\n",
      "  'webPublicationDate': '2022-03-11T12:37:21Z',\n",
      "  'webTitle': 'Covid cases and hospital admissions rising in England, data '\n",
      "              'suggests',\n",
      "  'webUrl': 'https://www.theguardian.com/world/2022/mar/11/covid-cases-england-omicron-levels-ons-data'},\n",
      " {'apiUrl': 'https://content.guardianapis.com/education/2022/mar/11/zahawi-to-overhaul-covid-catchup-tutoring-after-criticism-of-provider',\n",
      "  'id': 'education/2022/mar/11/zahawi-to-overhaul-covid-catchup-tutoring-after-criticism-of-provider',\n",
      "  'isHosted': False,\n",
      "  'pillarId': 'pillar/news',\n",
      "  'pillarName': 'News',\n",
      "  'sectionId': 'education',\n",
      "  'sectionName': 'Education',\n",
      "  'type': 'article',\n",
      "  'webPublicationDate': '2022-03-11T18:15:43Z',\n",
      "  'webTitle': 'Zahawi to overhaul Covid catchup tutoring after criticism of '\n",
      "              'provider',\n",
      "  'webUrl': 'https://www.theguardian.com/education/2022/mar/11/zahawi-to-overhaul-covid-catchup-tutoring-after-criticism-of-provider'},\n",
      " {'apiUrl': 'https://content.guardianapis.com/world/2022/mar/12/dismay-as-funding-for-uks-world-beating-covid-trackers-is-axed',\n",
      "  'id': 'world/2022/mar/12/dismay-as-funding-for-uks-world-beating-covid-trackers-is-axed',\n",
      "  'isHosted': False,\n",
      "  'pillarId': 'pillar/news',\n",
      "  'pillarName': 'News',\n",
      "  'sectionId': 'world',\n",
      "  'sectionName': 'World news',\n",
      "  'type': 'article',\n",
      "  'webPublicationDate': '2022-03-12T12:00:04Z',\n",
      "  'webTitle': 'Dismay as funding for UK’s ‘world-beating’ Covid trackers is '\n",
      "              'axed',\n",
      "  'webUrl': 'https://www.theguardian.com/world/2022/mar/12/dismay-as-funding-for-uks-world-beating-covid-trackers-is-axed'},\n",
      " {'apiUrl': 'https://content.guardianapis.com/world/2022/mar/11/us-child-covid-deaths-omicron-surge',\n",
      "  'id': 'world/2022/mar/11/us-child-covid-deaths-omicron-surge',\n",
      "  'isHosted': False,\n",
      "  'pillarId': 'pillar/news',\n",
      "  'pillarName': 'News',\n",
      "  'sectionId': 'world',\n",
      "  'sectionName': 'World news',\n",
      "  'type': 'article',\n",
      "  'webPublicationDate': '2022-03-11T08:00:26Z',\n",
      "  'webTitle': 'A fifth of all US child Covid deaths occurred during Omicron '\n",
      "              'surge',\n",
      "  'webUrl': 'https://www.theguardian.com/world/2022/mar/11/us-child-covid-deaths-omicron-surge'},\n",
      " {'apiUrl': 'https://content.guardianapis.com/money/2022/mar/12/cashs-reign-fades-as-covid-accelerates-high-street-switch-to-card-only',\n",
      "  'id': 'money/2022/mar/12/cashs-reign-fades-as-covid-accelerates-high-street-switch-to-card-only',\n",
      "  'isHosted': False,\n",
      "  'pillarId': 'pillar/lifestyle',\n",
      "  'pillarName': 'Lifestyle',\n",
      "  'sectionId': 'money',\n",
      "  'sectionName': 'Money',\n",
      "  'type': 'article',\n",
      "  'webPublicationDate': '2022-03-12T15:00:03Z',\n",
      "  'webTitle': 'Cash’s reign fades as Covid accelerates high street switch to '\n",
      "              'card-only',\n",
      "  'webUrl': 'https://www.theguardian.com/money/2022/mar/12/cashs-reign-fades-as-covid-accelerates-high-street-switch-to-card-only'},\n",
      " {'apiUrl': 'https://content.guardianapis.com/world/2022/mar/12/call-to-offer-more-people-fourth-jab-as-covid-rises-in-england',\n",
      "  'id': 'world/2022/mar/12/call-to-offer-more-people-fourth-jab-as-covid-rises-in-england',\n",
      "  'isHosted': False,\n",
      "  'pillarId': 'pillar/news',\n",
      "  'pillarName': 'News',\n",
      "  'sectionId': 'world',\n",
      "  'sectionName': 'World news',\n",
      "  'type': 'article',\n",
      "  'webPublicationDate': '2022-03-12T12:32:04Z',\n",
      "  'webTitle': 'Call to offer more people fourth jab as Covid rises in England',\n",
      "  'webUrl': 'https://www.theguardian.com/world/2022/mar/12/call-to-offer-more-people-fourth-jab-as-covid-rises-in-england'},\n",
      " {'apiUrl': 'https://content.guardianapis.com/commentisfree/2022/mar/12/covid-restrictions-eased-cases-coronavirus-precautionary-peasures',\n",
      "  'id': 'commentisfree/2022/mar/12/covid-restrictions-eased-cases-coronavirus-precautionary-peasures',\n",
      "  'isHosted': False,\n",
      "  'pillarId': 'pillar/opinion',\n",
      "  'pillarName': 'Opinion',\n",
      "  'sectionId': 'commentisfree',\n",
      "  'sectionName': 'Opinion',\n",
      "  'type': 'article',\n",
      "  'webPublicationDate': '2022-03-12T12:00:04Z',\n",
      "  'webTitle': 'Covid has slipped from the headlines – but with restrictions '\n",
      "              'eased, cases are rising | Kit Yates',\n",
      "  'webUrl': 'https://www.theguardian.com/commentisfree/2022/mar/12/covid-restrictions-eased-cases-coronavirus-precautionary-peasures'},\n",
      " {'apiUrl': 'https://content.guardianapis.com/world/2022/mar/11/what-is-deltacron-covid-variant-uk',\n",
      "  'id': 'world/2022/mar/11/what-is-deltacron-covid-variant-uk',\n",
      "  'isHosted': False,\n",
      "  'pillarId': 'pillar/news',\n",
      "  'pillarName': 'News',\n",
      "  'sectionId': 'world',\n",
      "  'sectionName': 'World news',\n",
      "  'type': 'article',\n",
      "  'webPublicationDate': '2022-03-11T13:25:22Z',\n",
      "  'webTitle': 'What is the Deltacron variant of Covid and where has it been '\n",
      "              'found?',\n",
      "  'webUrl': 'https://www.theguardian.com/world/2022/mar/11/what-is-deltacron-covid-variant-uk'},\n",
      " {'apiUrl': 'https://content.guardianapis.com/global-development/2022/mar/11/harry-and-meghan-add-voices-to-fierce-critique-of-wests-covid-vaccine-policies',\n",
      "  'id': 'global-development/2022/mar/11/harry-and-meghan-add-voices-to-fierce-critique-of-wests-covid-vaccine-policies',\n",
      "  'isHosted': False,\n",
      "  'pillarId': 'pillar/news',\n",
      "  'pillarName': 'News',\n",
      "  'sectionId': 'global-development',\n",
      "  'sectionName': 'Global development',\n",
      "  'type': 'article',\n",
      "  'webPublicationDate': '2022-03-11T00:01:16Z',\n",
      "  'webTitle': 'Harry and Meghan add voices to fierce critique of west’s Covid '\n",
      "              'vaccine policies',\n",
      "  'webUrl': 'https://www.theguardian.com/global-development/2022/mar/11/harry-and-meghan-add-voices-to-fierce-critique-of-wests-covid-vaccine-policies'}]\n"
     ]
    }
   ],
   "source": [
    "json_result = json_res['response']['results']\n",
    "pprint.pprint(json_result)"
   ]
  },
  {
   "cell_type": "code",
   "execution_count": 143,
   "id": "01faabbb",
   "metadata": {},
   "outputs": [
    {
     "name": "stdout",
     "output_type": "stream",
     "text": [
      "0   https://www.theguardian.com/education/2022/mar/12/covid-made-parents-more-relaxed-about-unauthorised-holidays-ofsted\n",
      "1   https://www.theguardian.com/world/2022/mar/11/covid-cases-england-omicron-levels-ons-data\n",
      "2   https://www.theguardian.com/education/2022/mar/11/zahawi-to-overhaul-covid-catchup-tutoring-after-criticism-of-provider\n",
      "3   https://www.theguardian.com/world/2022/mar/12/dismay-as-funding-for-uks-world-beating-covid-trackers-is-axed\n",
      "4   https://www.theguardian.com/world/2022/mar/11/us-child-covid-deaths-omicron-surge\n",
      "5   https://www.theguardian.com/money/2022/mar/12/cashs-reign-fades-as-covid-accelerates-high-street-switch-to-card-only\n",
      "6   https://www.theguardian.com/world/2022/mar/12/call-to-offer-more-people-fourth-jab-as-covid-rises-in-england\n",
      "7   https://www.theguardian.com/commentisfree/2022/mar/12/covid-restrictions-eased-cases-coronavirus-precautionary-peasures\n",
      "8   https://www.theguardian.com/world/2022/mar/11/what-is-deltacron-covid-variant-uk\n",
      "9   https://www.theguardian.com/global-development/2022/mar/11/harry-and-meghan-add-voices-to-fierce-critique-of-wests-covid-vaccine-policies\n"
     ]
    }
   ],
   "source": [
    "i=0\n",
    "for result in json_result:\n",
    "    print(i, \" \",result.get(\"webUrl\"))\n",
    "    i+=1"
   ]
  },
  {
   "cell_type": "code",
   "execution_count": 191,
   "id": "96bab3f8",
   "metadata": {},
   "outputs": [],
   "source": [
    "def generateYears(fromDY,toDY):\n",
    "    for i in range(lowerYear,upperYear+1):\n",
    "        fromDY.append(str(i)+fromDateMonth)\n",
    "        toDY.append(str(i)+toDateMonth)"
   ]
  },
  {
   "cell_type": "code",
   "execution_count": 145,
   "id": "166e1054",
   "metadata": {},
   "outputs": [
    {
     "data": {
      "text/plain": [
       "['2000-03-11',\n",
       " '2001-03-11',\n",
       " '2002-03-11',\n",
       " '2003-03-11',\n",
       " '2004-03-11',\n",
       " '2005-03-11',\n",
       " '2006-03-11',\n",
       " '2007-03-11',\n",
       " '2008-03-11',\n",
       " '2009-03-11',\n",
       " '2010-03-11',\n",
       " '2011-03-11',\n",
       " '2012-03-11',\n",
       " '2013-03-11',\n",
       " '2014-03-11',\n",
       " '2015-03-11',\n",
       " '2016-03-11',\n",
       " '2017-03-11',\n",
       " '2018-03-11',\n",
       " '2019-03-11',\n",
       " '2020-03-11',\n",
       " '2021-03-11',\n",
       " '2022-03-11']"
      ]
     },
     "execution_count": 145,
     "metadata": {},
     "output_type": "execute_result"
    }
   ],
   "source": [
    "fromDateYear"
   ]
  },
  {
   "cell_type": "code",
   "execution_count": 146,
   "id": "e4c01e9f",
   "metadata": {},
   "outputs": [],
   "source": [
    "sample_url=\"https://www.theguardian.com/education/2022/mar/12/covid-made-parents-more-relaxed-about-unauthorised-holidays-ofsted\"\n",
    "page=requests.get(sample_url)\n",
    "soup = bs(page.content, 'html.parser')\n"
   ]
  },
  {
   "cell_type": "code",
   "execution_count": 147,
   "id": "c718abb9",
   "metadata": {},
   "outputs": [
    {
     "name": "stdout",
     "output_type": "stream",
     "text": [
      "Covid made parents ‘more relaxed’ about unauthorised holidays – Ofsted\n"
     ]
    }
   ],
   "source": [
    "title = soup.find(\"h1\",{\"class\",\"dcr-125vfar\"}).text\n",
    "print(title)"
   ]
  },
  {
   "cell_type": "code",
   "execution_count": 148,
   "id": "af0221aa",
   "metadata": {},
   "outputs": [
    {
     "name": "stdout",
     "output_type": "stream",
     "text": [
      "Richard Adams Education editor\n"
     ]
    }
   ],
   "source": [
    "snippet = soup.find(\"div\",{\"class\",\"dcr-1mp5s8u\"})\n",
    "author = snippet.text\n",
    "print(author)"
   ]
  },
  {
   "cell_type": "code",
   "execution_count": 149,
   "id": "4fa94aa9",
   "metadata": {},
   "outputs": [
    {
     "name": "stdout",
     "output_type": "stream",
     "text": [
      "Sat 12 Mar 2022 14.50 GMT\n"
     ]
    }
   ],
   "source": [
    "snippet = soup.find(\"summary\",{\"class\",\"dcr-12fpzem\"})\n",
    "date = snippet.text\n",
    "print(date)"
   ]
  },
  {
   "cell_type": "code",
   "execution_count": 150,
   "id": "40ce7e9b",
   "metadata": {},
   "outputs": [
    {
     "name": "stdout",
     "output_type": "stream",
     "text": [
      "The Covid pandemic has made families “more relaxed” about their children staying home or going on unauthorised holidays, fracturing the social contract between parents and schools in England, according to the head of Ofsted.\n",
      "Amanda Spielman, Ofsted’s chief inspector, said she was concerned about the high level of absences among pupils, telling the Association of School and College Leaders annual conference: “Some parents have health concerns for themselves or family members and wait in hope for a highly unlikely zero-Covid future.\n",
      "“Others, having seen that remote education is possible, have a more relaxed attitude to absence, whether long-term or to enable family holidays in term time. They have seen that other people’s children are away from school and so expect the same latitude.\n",
      "“Families whose children have special educational needs struggled more than most when regular support services were curtailed. Some of those children found comfort in learning at home, going at their own pace. So it’s understandable that some parents are reluctant now to let that go.”\n",
      "The pandemic and lockdowns has also “exacerbated” existing problems for children who were persistently absent from school, often among parents who were struggling financially or because of domestic violence or substance abuse.\n",
      "“The disruption we’ve seen over the last two years has fractured the social contract around education … Now’s the time to remake that contract,” she said.\n",
      "Spielman told the conference in Birmingham she was also concerned by increases in children in England being educated at home, and said she supported the government’s plans for a register of children being home-schooled.\n",
      "“We take a very liberal attitude to home education in this country, compared to many other nations.\n",
      "“We need to recognise that home education is very hard. Most parents aren’t equipped to do it and if they are motivated by their own or their child’s anxiety, rather than a deeply held desire to home-educate, the outcomes for their child are unlikely to be great,” she said.\n",
      "Referring to the abuse and murder of Arthur Labinjo-Hughes, Spielman said: “And we should also remember that sadly a small number of parents have darker motivations for taking their children away from their teacher’s sight.”\n",
      "The conference of head teachers also heard Bridget Phillipson, the shadow education secretary, attack the government’s handling of education in England during the pandemic.\n",
      "“When clear, focused government leadership was needed in response to the pandemic there was a vacuum. No plan, no direction. No ambition,” Phillipson said.\n",
      "“Children who joined reception classes in September will have lived more than half their lives under the pandemic.\n",
      "“In many cases, they have not had the chance to explore, socialise, develop vital skills, in nurseries or playgroups, all of which will matter right throughout school, and right throughout their lives.”\n",
      "Phillipson said a future Labour government would look closely at Ofsted’s role in school improvement, noting that while Ofsted is officially 30 years old, the schools it inspects are now very different.\n",
      "“Yet Ofsted still operates in a way that is often too high stakes, and where the risks of a bad inspection outweigh the rewards of a good one.\n",
      "“A cat and mouse game between inspectors and schools, with no incentive to have an honest professional dialogue, to accept weakness and work to address it, are the unhelpful features of such an adversarial system,” Phillipson said, arguing that “change needs to happen”.\n",
      "\n"
     ]
    }
   ],
   "source": [
    "snippet = soup.findAll(\"p\",{\"class\",\"dcr-xry7m2\"})\n",
    "fullArticle = \"\"\n",
    "for p in snippet:\n",
    "    fullArticle += p.text + \"\\n\"\n",
    "print(fullArticle)"
   ]
  },
  {
   "cell_type": "code",
   "execution_count": 151,
   "id": "b26228d9",
   "metadata": {},
   "outputs": [],
   "source": [
    "jsonScrape = []\n",
    "jsonScrape.append((title,author,date,fullArticle))"
   ]
  },
  {
   "cell_type": "code",
   "execution_count": 152,
   "id": "b179cf6d",
   "metadata": {},
   "outputs": [],
   "source": [
    "jsonList = pd.DataFrame(jsonScrape)\n",
    "jsonList.columns = ['Title', 'Author', 'Date', 'FullArticle']\n"
   ]
  },
  {
   "cell_type": "code",
   "execution_count": 153,
   "id": "8acdae8e",
   "metadata": {
    "scrolled": false
   },
   "outputs": [
    {
     "data": {
      "text/html": [
       "<div>\n",
       "<style scoped>\n",
       "    .dataframe tbody tr th:only-of-type {\n",
       "        vertical-align: middle;\n",
       "    }\n",
       "\n",
       "    .dataframe tbody tr th {\n",
       "        vertical-align: top;\n",
       "    }\n",
       "\n",
       "    .dataframe thead th {\n",
       "        text-align: right;\n",
       "    }\n",
       "</style>\n",
       "<table border=\"1\" class=\"dataframe\">\n",
       "  <thead>\n",
       "    <tr style=\"text-align: right;\">\n",
       "      <th></th>\n",
       "      <th>Title</th>\n",
       "      <th>Author</th>\n",
       "      <th>Date</th>\n",
       "      <th>FullArticle</th>\n",
       "    </tr>\n",
       "  </thead>\n",
       "  <tbody>\n",
       "    <tr>\n",
       "      <th>0</th>\n",
       "      <td>Covid made parents ‘more relaxed’ about unauth...</td>\n",
       "      <td>Richard Adams Education editor</td>\n",
       "      <td>Sat 12 Mar 2022 14.50 GMT</td>\n",
       "      <td>The Covid pandemic has made families “more rel...</td>\n",
       "    </tr>\n",
       "  </tbody>\n",
       "</table>\n",
       "</div>"
      ],
      "text/plain": [
       "                                               Title  \\\n",
       "0  Covid made parents ‘more relaxed’ about unauth...   \n",
       "\n",
       "                           Author                       Date  \\\n",
       "0  Richard Adams Education editor  Sat 12 Mar 2022 14.50 GMT   \n",
       "\n",
       "                                         FullArticle  \n",
       "0  The Covid pandemic has made families “more rel...  "
      ]
     },
     "execution_count": 153,
     "metadata": {},
     "output_type": "execute_result"
    }
   ],
   "source": [
    "jsonList"
   ]
  },
  {
   "cell_type": "markdown",
   "id": "f35e7d3c",
   "metadata": {},
   "source": [
    "# Implement everything"
   ]
  },
  {
   "cell_type": "code",
   "execution_count": 220,
   "id": "fdd44455",
   "metadata": {},
   "outputs": [],
   "source": [
    "def generateYears(fromDY,toDY):\n",
    "    for i in range(lowerYear,upperYear+1):\n",
    "        fromDY.append(str(i)+fromDateMonth)\n",
    "        toDY.append(str(i)+toDateMonth)"
   ]
  },
  {
   "cell_type": "code",
   "execution_count": 330,
   "id": "e60668d3",
   "metadata": {},
   "outputs": [],
   "source": [
    "url = \"https://content.guardianapis.com/search\"\n",
    "content = [\"covid\"]\n",
    "apiKey = \"5ee2a23b-f46e-4986-a548-e4d9e5bd569e\"\n",
    "authorSpecified = \"Nina Lakhani\"\n",
    "upperYear = 2022\n",
    "lowerYear = 2000\n",
    "fromDateMonth = \"-03-11\"\n",
    "toDateMonth = \"-03-12\"\n"
   ]
  },
  {
   "cell_type": "code",
   "execution_count": 267,
   "id": "a96a16e3",
   "metadata": {},
   "outputs": [],
   "source": [
    "def loopYears(content,links):\n",
    "    for i, j in zip(fromDateYear,toDateYear):\n",
    "        parameters = {\n",
    "            'q': content,\n",
    "            'pageSize': 1,\n",
    "            'api-key': apiKey,\n",
    "            'from-date': i,\n",
    "            'to-date': j,\n",
    "        }\n",
    "        res = requests.get(url,params=parameters)\n",
    "        json_res = res.json()\n",
    "        json_result = json_res['response']['results']\n",
    "        for result in json_result:\n",
    "            links.append(result.get(\"webUrl\"))\n"
   ]
  },
  {
   "cell_type": "code",
   "execution_count": 268,
   "id": "e2ed0124",
   "metadata": {},
   "outputs": [],
   "source": [
    "fromDateYear = []\n",
    "toDateYear = []\n",
    "links = []\n",
    "generateYears(fromDateYear,toDateYear)\n",
    "for q in content:\n",
    "    loopYears(q,links)\n",
    "    "
   ]
  },
  {
   "cell_type": "code",
   "execution_count": 269,
   "id": "7b56b7c3",
   "metadata": {},
   "outputs": [
    {
     "name": "stdout",
     "output_type": "stream",
     "text": [
      "https://www.theguardian.com/us-news/2020/mar/12/detroit-water-shutoffs-unpaid-bills-coronavirus\n",
      "https://www.theguardian.com/world/2020/mar/12/self-isolating-tory-mp-criticises-parliament-response-to-covid-19-coronavirus\n",
      "https://www.theguardian.com/education/2020/mar/11/coronavirus-complete-shutdown-uk-universities-impossible\n",
      "https://www.theguardian.com/world/2020/mar/11/research-finds-huge-impact-of-interventions-on-spread-of-covid-19\n",
      "https://www.theguardian.com/world/2020/mar/12/ireland-school-closures-reveal-stark-contrast-to-uk-covid-19-response\n",
      "https://www.theguardian.com/world/live/2020/mar/12/coronavirus-stimulus-scott-morrison-to-announce-multi-billion-dollar-package-politics-live\n",
      "https://www.theguardian.com/sport/2020/mar/12/nba-suspends-season-covid-19-coronavirus-basketball\n",
      "https://www.theguardian.com/sport/2020/mar/12/two-more-haas-team-members-tested-for-covid-19-on-eve-of-australian-grand-prix\n",
      "https://www.theguardian.com/sport/2020/mar/11/golden-state-warriors-nba-empty-seats-coronavirus\n",
      "https://www.theguardian.com/us-news/2020/mar/11/us-briefing-biden-wins-big-again-us-covid-19-cases-pass-1000-and-mh17\n",
      "https://www.theguardian.com/society/2021/mar/11/long-covid-and-graded-exercise-therapy\n",
      "https://www.theguardian.com/commentisfree/2021/mar/11/post-covid-britain-new-social-guarantee-universal-basic-income-pandemic\n",
      "https://www.theguardian.com/uk-news/2021/mar/12/wales-set-to-ease-covid-lockdown-restrictions-from-saturday\n",
      "https://www.theguardian.com/world/2021/mar/13/sea-of-resilience-how-the-pacific-fought-against-covid\n",
      "https://www.theguardian.com/us-news/2021/mar/11/la-ports-stalled-ships-stressed-crews-covid-buying-boom\n",
      "https://www.theguardian.com/inequality/2021/mar/11/majority-think-covid-has-increased-uk-social-inequality-survey-shows\n",
      "https://www.theguardian.com/australia-news/2021/mar/13/australia-commits-100m-to-covid-vaccine-deal-at-quad-meeting\n",
      "https://www.theguardian.com/us-news/2021/mar/11/first-thing-boost-for-biden-as-covid-aid-bill-passes\n",
      "https://www.theguardian.com/lifeandstyle/2021/mar/12/europe-cycling-post-covid-recovery-plans\n",
      "https://www.theguardian.com/education/2021/mar/11/manchester-schools-study-wellbeing-after-covid\n",
      "https://www.theguardian.com/education/2022/mar/12/covid-made-parents-more-relaxed-about-unauthorised-holidays-ofsted\n",
      "https://www.theguardian.com/world/2022/mar/11/covid-cases-england-omicron-levels-ons-data\n",
      "https://www.theguardian.com/education/2022/mar/11/zahawi-to-overhaul-covid-catchup-tutoring-after-criticism-of-provider\n",
      "https://www.theguardian.com/world/2022/mar/12/dismay-as-funding-for-uks-world-beating-covid-trackers-is-axed\n",
      "https://www.theguardian.com/world/2022/mar/11/us-child-covid-deaths-omicron-surge\n",
      "https://www.theguardian.com/money/2022/mar/12/cashs-reign-fades-as-covid-accelerates-high-street-switch-to-card-only\n",
      "https://www.theguardian.com/world/2022/mar/12/call-to-offer-more-people-fourth-jab-as-covid-rises-in-england\n",
      "https://www.theguardian.com/commentisfree/2022/mar/12/covid-restrictions-eased-cases-coronavirus-precautionary-peasures\n",
      "https://www.theguardian.com/world/2022/mar/11/what-is-deltacron-covid-variant-uk\n",
      "https://www.theguardian.com/global-development/2022/mar/11/harry-and-meghan-add-voices-to-fierce-critique-of-wests-covid-vaccine-policies\n"
     ]
    }
   ],
   "source": [
    "for l in links:\n",
    "    print(l)"
   ]
  },
  {
   "cell_type": "code",
   "execution_count": 334,
   "id": "3e4c01f4",
   "metadata": {},
   "outputs": [],
   "source": [
    "jsonScrape = []\n",
    "for l in links:\n",
    "    page=requests.get(l)\n",
    "    soup = bs(page.content, 'html.parser'\n",
    "             )\n",
    "    title = soup.find(\"h1\",{\"class\",\"dcr-125vfar\"})\n",
    "    if title == None:\n",
    "        continue\n",
    "    title = title.text\n",
    "    snippet = soup.find(\"div\",{\"class\",\"dcr-1mp5s8u\"})\n",
    "    if snippet == None:\n",
    "        continue\n",
    "    author = snippet.text\n",
    "\n",
    "    if authorSpecified == \"\":\n",
    "        snippet = soup.find(\"summary\",{\"class\",\"dcr-12fpzem\"})\n",
    "        date = snippet\n",
    "        snippet = soup.findAll(\"p\",{\"class\",\"dcr-xry7m2\"})\n",
    "        fullArticle = \"\"\n",
    "        for p in snippet:\n",
    "            fullArticle += p.text + \"\\n\"\n",
    "        jsonScrape.append((title,author,date,fullArticle))\n",
    "    else:\n",
    "        if authorSpecified == author:\n",
    "            snippet = soup.find(\"summary\",{\"class\",\"dcr-12fpzem\"})\n",
    "            date = snippet\n",
    "            snippet = soup.findAll(\"p\",{\"class\",\"dcr-xry7m2\"})\n",
    "            fullArticle = \"\"\n",
    "            for p in snippet:\n",
    "                fullArticle += p.text + \"\\n\"\n",
    "            jsonScrape.append((title,author,date,fullArticle))"
   ]
  },
  {
   "cell_type": "code",
   "execution_count": 335,
   "id": "737f4e12",
   "metadata": {},
   "outputs": [
    {
     "name": "stdout",
     "output_type": "stream",
     "text": [
      "[('Detroit suspends water shutoffs over Covid-19 fears',\n",
      "  'Nina Lakhani',\n",
      "  <summary class=\"dcr-12fpzem\">Thu 12 Mar 2020 09.00 GMT</summary>,\n",
      "  'Running water will be temporarily restored to thousands of poor Detroit '\n",
      "  'residents disconnected due to unpaid bills, amid an outcry about the public '\n",
      "  'health threat posed by the coronavirus outbreak.\\n'\n",
      "  'At least 141,000 Detroit households have been disconnected since 2014 as '\n",
      "  'part of a widely condemned debt-collection programme, according to records '\n",
      "  'obtained by Bridge, a news magazine. Just last year, taps were turned off '\n",
      "  'in more than 23,000 homes, three-fifths of which were still without water '\n",
      "  'by mid-January 2020.\\n'\n",
      "  'There is no vaccine or treatment for coronavirus, also known as Covid-19. '\n",
      "  'According to the World Health Organization, good hygiene, specifically '\n",
      "  'frequent hand-washing with soap, is crucial to prevent the virus '\n",
      "  'spreading.\\n'\n",
      "  'Amid growing pressure to act, Michigan’s governor, Gretchen Whitmer, and '\n",
      "  'Detroit city officials this week announced plans to stop shutoffs and '\n",
      "  'temporarily reconnect water services for all residents, as part of a plan '\n",
      "  'to prevent spread of the coronavirus.\\n'\n",
      "  '“The state is stepping up to cover the cost of water restoration for the '\n",
      "  'first 30 days, because it’s the right thing to do to keep families safe and '\n",
      "  'protect public health,” Whitmer said.\\n'\n",
      "  'The governor later declared a state of emergency, after confirmation of the '\n",
      "  'first two Covid-19 cases in the state. Both patients, an unrelated '\n",
      "  'middle-aged man and woman from Detroit, were hospitalised. At least 12 '\n",
      "  'states across the US have declared emergencies as cases have risen past '\n",
      "  '1,000, with 31 deaths confirmed.\\n'\n",
      "  'Church leaders and poverty campaigners had urged Whitmer to suspend water '\n",
      "  'shutoffs.\\n'\n",
      "  '“The unconscionable act of depriving anyone of water because the cost is '\n",
      "  'more than they can afford has resulted in a health crisis,” said the '\n",
      "  'Detroit People’s Water Board, a coalition of social justice organizations, '\n",
      "  'in February, adding that the coronavirus outbreak “has the serious '\n",
      "  'potential to be magnified and spread due to thousands not having access to '\n",
      "  'water”.\\n'\n",
      "  'Nicole Hill, 47, was disconnected in 2015, after falling behind with '\n",
      "  'monthly bills which had quadrupled over five years.\\n'\n",
      "  '“Having your water shut off is horrendous,” she said. “I ended up in '\n",
      "  'hospital with bacterial pneumonia when my water was shut off. Now with '\n",
      "  'coronavirus, I’m really frightened for people.”\\n'\n",
      "  'Water affordability is a growing problem across the US, as low-income '\n",
      "  'households struggle to pay increasingly expensive bills. Numerous public '\n",
      "  'water utilities have increased shutoffs, ostensibly to encourage people to '\n",
      "  'pay up on time.\\n'\n",
      "  'But many low-income households struggle to keep up with rent, gas and other '\n",
      "  'bills too and in 2016, according to research by Food and Water Watch (FWW), '\n",
      "  'an estimated 15 million Americans were disconnected from running water '\n",
      "  'after failing to pay.\\n'\n",
      "  '“The United States has been facing a water affordability crisis for years,” '\n",
      "  'said Mary Grant, director of an FWW campaign which calls for federal action '\n",
      "  'to stop shutoffs and introduce affordability programmes nationwide.\\n'\n",
      "  '“Now, threats of the coronavirus are finally making it clear to our elected '\n",
      "  'officials: water shutoffs are not only inhumane but also a public health '\n",
      "  'nightmare.\\n'\n",
      "  '“Detroit’s plan to halt water shutoffs is long overdue. It should not have '\n",
      "  'taken the coronavirus epidemic.”\\n'\n",
      "  'Almost four in 10 Detroit residents live in poverty, the highest rate among '\n",
      "  'the 20 largest US cities. Water rates have increased by as much as 400% in '\n",
      "  'the last 20 years.\\n'\n",
      "  'In 2014, shortly after filing the largest municipal bankruptcy in US '\n",
      "  'history, the city launched a massive shutoff programme. In its first year, '\n",
      "  '31,000 households had their water shut off.\\n'\n",
      "  'The UN described the shutoffs as “contrary to human rights” and condemned '\n",
      "  'the disproportionate impact on African Americans, who account for 80% of '\n",
      "  'the city.\\n'\n",
      "  'Under this week’s temporary plan, the state will cover water bills for the '\n",
      "  'first month, after which customers can pay a reduced rate of $25 a month to '\n",
      "  'stay connected until the crisis abates.\\n'\n",
      "  'But it is unclear how many households will be reconnected, and how '\n",
      "  'quickly.\\n'\n",
      "  'Alice Jennings, a Detroit lawyer and member of the People’s Water Board, '\n",
      "  'told the Guardian the board welcomed “the acknowledgment by the governor '\n",
      "  'and mayor to stop the water shutoffs and restore water services [but] this '\n",
      "  'is crisis intervention and not a solution to a permanent problem”.\\n'\n",
      "  'In Washington, Frank Pallone, chair of the House energy and commerce '\n",
      "  'committee, and Peter DeFazio, chair of the transportation and '\n",
      "  'infrastructure panel, urged water utility companies across the country to '\n",
      "  'follow Detroit’s lead.\\n'\n",
      "  '“Access to clean water is a basic human right at all times,” they said, '\n",
      "  '“but any action that restricts families’ access to water during the current '\n",
      "  'coronavirus outbreak would be reckless in the extreme.”\\n'\n",
      "  'In Seattle, the worst-hit US city so far, water and electricity shutoffs '\n",
      "  'have been suspended.\\n'\n",
      "  'For those still without water, Covid-19 poses a terrifying threat.\\n'\n",
      "  'In Detroit, Marjorie Davis and her children have lived without running '\n",
      "  'water for almost five years. It was disconnected in summer 2015 after '\n",
      "  'Davis, 46 and reliant on welfare benefits, was unable to keep up with bill '\n",
      "  'payments. She owed about $1,000.\\n'\n",
      "  '“It’s a nightmare,” said Davis, whose name has been changed to protect the '\n",
      "  'family’s privacy. “I’ve tried to get help but the city’s [affordability] '\n",
      "  'plan doesn’t work. I can’t afford it.”\\n'\n",
      "  'She has relied on bottled water, sanitary wipes and the kindness of '\n",
      "  'neighbours, who refill bottles and let her and the children take occasional '\n",
      "  'showers. The family are forced to use a hospital commode, which is emptied '\n",
      "  'into the trash.\\n'\n",
      "  '“This virus is killing people all over the world and we can’t flush the '\n",
      "  'toilet or wash our hands regularly,” Davis said. “It’s messing with my '\n",
      "  'mind, I don’t know what to do.\\n'\n",
      "  '“I’m so worried about myself and my children.”\\n')]\n"
     ]
    }
   ],
   "source": [
    "pprint.pprint(jsonScrape)"
   ]
  },
  {
   "cell_type": "code",
   "execution_count": 336,
   "id": "50fea310",
   "metadata": {
    "scrolled": false
   },
   "outputs": [
    {
     "data": {
      "text/html": [
       "<div>\n",
       "<style scoped>\n",
       "    .dataframe tbody tr th:only-of-type {\n",
       "        vertical-align: middle;\n",
       "    }\n",
       "\n",
       "    .dataframe tbody tr th {\n",
       "        vertical-align: top;\n",
       "    }\n",
       "\n",
       "    .dataframe thead th {\n",
       "        text-align: right;\n",
       "    }\n",
       "</style>\n",
       "<table border=\"1\" class=\"dataframe\">\n",
       "  <thead>\n",
       "    <tr style=\"text-align: right;\">\n",
       "      <th></th>\n",
       "      <th>Title</th>\n",
       "      <th>Author</th>\n",
       "      <th>Date</th>\n",
       "      <th>FullArticle</th>\n",
       "    </tr>\n",
       "  </thead>\n",
       "  <tbody>\n",
       "    <tr>\n",
       "      <th>0</th>\n",
       "      <td>Detroit suspends water shutoffs over Covid-19 ...</td>\n",
       "      <td>Nina Lakhani</td>\n",
       "      <td>[Thu 12 Mar 2020 09.00 GMT]</td>\n",
       "      <td>Running water will be temporarily restored to ...</td>\n",
       "    </tr>\n",
       "  </tbody>\n",
       "</table>\n",
       "</div>"
      ],
      "text/plain": [
       "                                               Title        Author  \\\n",
       "0  Detroit suspends water shutoffs over Covid-19 ...  Nina Lakhani   \n",
       "\n",
       "                          Date  \\\n",
       "0  [Thu 12 Mar 2020 09.00 GMT]   \n",
       "\n",
       "                                         FullArticle  \n",
       "0  Running water will be temporarily restored to ...  "
      ]
     },
     "execution_count": 336,
     "metadata": {},
     "output_type": "execute_result"
    }
   ],
   "source": [
    "jsonList = pd.DataFrame(jsonScrape)\n",
    "jsonList.columns = ['Title', 'Author', 'Date', 'FullArticle']\n",
    "jsonList"
   ]
  },
  {
   "cell_type": "code",
   "execution_count": 340,
   "id": "f8dbcd78",
   "metadata": {},
   "outputs": [
    {
     "ename": "TypeError",
     "evalue": "Object of type DataFrame is not JSON serializable",
     "output_type": "error",
     "traceback": [
      "\u001b[1;31m---------------------------------------------------------------------------\u001b[0m",
      "\u001b[1;31mTypeError\u001b[0m                                 Traceback (most recent call last)",
      "Input \u001b[1;32mIn [340]\u001b[0m, in \u001b[0;36m<cell line: 1>\u001b[1;34m()\u001b[0m\n\u001b[0;32m      1\u001b[0m \u001b[38;5;28;01mwith\u001b[39;00m \u001b[38;5;28mopen\u001b[39m(\u001b[38;5;124m'\u001b[39m\u001b[38;5;124mC:/Users/edayo/Downloads/3y2t/datapre/jsonList.json\u001b[39m\u001b[38;5;124m'\u001b[39m, \u001b[38;5;124m'\u001b[39m\u001b[38;5;124mw\u001b[39m\u001b[38;5;124m'\u001b[39m) \u001b[38;5;28;01mas\u001b[39;00m f:\n\u001b[1;32m----> 2\u001b[0m     \u001b[43mjson\u001b[49m\u001b[38;5;241;43m.\u001b[39;49m\u001b[43mdump\u001b[49m\u001b[43m(\u001b[49m\u001b[43mjsonList\u001b[49m\u001b[43m,\u001b[49m\u001b[43m \u001b[49m\u001b[43mf\u001b[49m\u001b[43m)\u001b[49m\n",
      "File \u001b[1;32m~\\AppData\\Local\\Programs\\Python\\Python310\\lib\\json\\__init__.py:179\u001b[0m, in \u001b[0;36mdump\u001b[1;34m(obj, fp, skipkeys, ensure_ascii, check_circular, allow_nan, cls, indent, separators, default, sort_keys, **kw)\u001b[0m\n\u001b[0;32m    173\u001b[0m     iterable \u001b[38;5;241m=\u001b[39m \u001b[38;5;28mcls\u001b[39m(skipkeys\u001b[38;5;241m=\u001b[39mskipkeys, ensure_ascii\u001b[38;5;241m=\u001b[39mensure_ascii,\n\u001b[0;32m    174\u001b[0m         check_circular\u001b[38;5;241m=\u001b[39mcheck_circular, allow_nan\u001b[38;5;241m=\u001b[39mallow_nan, indent\u001b[38;5;241m=\u001b[39mindent,\n\u001b[0;32m    175\u001b[0m         separators\u001b[38;5;241m=\u001b[39mseparators,\n\u001b[0;32m    176\u001b[0m         default\u001b[38;5;241m=\u001b[39mdefault, sort_keys\u001b[38;5;241m=\u001b[39msort_keys, \u001b[38;5;241m*\u001b[39m\u001b[38;5;241m*\u001b[39mkw)\u001b[38;5;241m.\u001b[39miterencode(obj)\n\u001b[0;32m    177\u001b[0m \u001b[38;5;66;03m# could accelerate with writelines in some versions of Python, at\u001b[39;00m\n\u001b[0;32m    178\u001b[0m \u001b[38;5;66;03m# a debuggability cost\u001b[39;00m\n\u001b[1;32m--> 179\u001b[0m \u001b[38;5;28;01mfor\u001b[39;00m chunk \u001b[38;5;129;01min\u001b[39;00m iterable:\n\u001b[0;32m    180\u001b[0m     fp\u001b[38;5;241m.\u001b[39mwrite(chunk)\n",
      "File \u001b[1;32m~\\AppData\\Local\\Programs\\Python\\Python310\\lib\\json\\encoder.py:438\u001b[0m, in \u001b[0;36m_make_iterencode.<locals>._iterencode\u001b[1;34m(o, _current_indent_level)\u001b[0m\n\u001b[0;32m    436\u001b[0m         \u001b[38;5;28;01mraise\u001b[39;00m \u001b[38;5;167;01mValueError\u001b[39;00m(\u001b[38;5;124m\"\u001b[39m\u001b[38;5;124mCircular reference detected\u001b[39m\u001b[38;5;124m\"\u001b[39m)\n\u001b[0;32m    437\u001b[0m     markers[markerid] \u001b[38;5;241m=\u001b[39m o\n\u001b[1;32m--> 438\u001b[0m o \u001b[38;5;241m=\u001b[39m \u001b[43m_default\u001b[49m\u001b[43m(\u001b[49m\u001b[43mo\u001b[49m\u001b[43m)\u001b[49m\n\u001b[0;32m    439\u001b[0m \u001b[38;5;28;01myield from\u001b[39;00m _iterencode(o, _current_indent_level)\n\u001b[0;32m    440\u001b[0m \u001b[38;5;28;01mif\u001b[39;00m markers \u001b[38;5;129;01mis\u001b[39;00m \u001b[38;5;129;01mnot\u001b[39;00m \u001b[38;5;28;01mNone\u001b[39;00m:\n",
      "File \u001b[1;32m~\\AppData\\Local\\Programs\\Python\\Python310\\lib\\json\\encoder.py:179\u001b[0m, in \u001b[0;36mJSONEncoder.default\u001b[1;34m(self, o)\u001b[0m\n\u001b[0;32m    160\u001b[0m \u001b[38;5;28;01mdef\u001b[39;00m \u001b[38;5;21mdefault\u001b[39m(\u001b[38;5;28mself\u001b[39m, o):\n\u001b[0;32m    161\u001b[0m     \u001b[38;5;124;03m\"\"\"Implement this method in a subclass such that it returns\u001b[39;00m\n\u001b[0;32m    162\u001b[0m \u001b[38;5;124;03m    a serializable object for ``o``, or calls the base implementation\u001b[39;00m\n\u001b[0;32m    163\u001b[0m \u001b[38;5;124;03m    (to raise a ``TypeError``).\u001b[39;00m\n\u001b[1;32m   (...)\u001b[0m\n\u001b[0;32m    177\u001b[0m \n\u001b[0;32m    178\u001b[0m \u001b[38;5;124;03m    \"\"\"\u001b[39;00m\n\u001b[1;32m--> 179\u001b[0m     \u001b[38;5;28;01mraise\u001b[39;00m \u001b[38;5;167;01mTypeError\u001b[39;00m(\u001b[38;5;124mf\u001b[39m\u001b[38;5;124m'\u001b[39m\u001b[38;5;124mObject of type \u001b[39m\u001b[38;5;132;01m{\u001b[39;00mo\u001b[38;5;241m.\u001b[39m\u001b[38;5;18m__class__\u001b[39m\u001b[38;5;241m.\u001b[39m\u001b[38;5;18m__name__\u001b[39m\u001b[38;5;132;01m}\u001b[39;00m\u001b[38;5;124m \u001b[39m\u001b[38;5;124m'\u001b[39m\n\u001b[0;32m    180\u001b[0m                     \u001b[38;5;124mf\u001b[39m\u001b[38;5;124m'\u001b[39m\u001b[38;5;124mis not JSON serializable\u001b[39m\u001b[38;5;124m'\u001b[39m)\n",
      "\u001b[1;31mTypeError\u001b[0m: Object of type DataFrame is not JSON serializable"
     ]
    }
   ],
   "source": [
    "with open('C:/Users/edayo/Downloads/3y2t/datapre/jsonList.json', 'w') as f:\n",
    "    json.dump(jsonList, f)"
   ]
  },
  {
   "cell_type": "code",
   "execution_count": null,
   "id": "7329b160",
   "metadata": {},
   "outputs": [],
   "source": []
  }
 ],
 "metadata": {
  "kernelspec": {
   "display_name": "Python 3 (ipykernel)",
   "language": "python",
   "name": "python3"
  },
  "language_info": {
   "codemirror_mode": {
    "name": "ipython",
    "version": 3
   },
   "file_extension": ".py",
   "mimetype": "text/x-python",
   "name": "python",
   "nbconvert_exporter": "python",
   "pygments_lexer": "ipython3",
   "version": "3.10.4"
  },
  "toc": {
   "base_numbering": 1,
   "nav_menu": {},
   "number_sections": true,
   "sideBar": true,
   "skip_h1_title": false,
   "title_cell": "Table of Contents",
   "title_sidebar": "Contents",
   "toc_cell": false,
   "toc_position": {
    "height": "calc(100% - 180px)",
    "left": "10px",
    "top": "150px",
    "width": "165px"
   },
   "toc_section_display": true,
   "toc_window_display": false
  }
 },
 "nbformat": 4,
 "nbformat_minor": 5
}
