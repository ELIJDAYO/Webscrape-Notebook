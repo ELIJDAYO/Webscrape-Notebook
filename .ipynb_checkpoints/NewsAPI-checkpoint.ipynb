{
 "cells": [
  {
   "cell_type": "code",
   "execution_count": 5,
   "id": "2a8557ba",
   "metadata": {},
   "outputs": [],
   "source": [
    "import requests\n"
   ]
  },
  {
   "cell_type": "code",
   "execution_count": 6,
   "id": "125a4d23",
   "metadata": {},
   "outputs": [],
   "source": [
    "url = \"https://content.guardianapis.com/search?\"\n",
    "key = \"api-key=5ee2a23b-f46e-4986-a548-e4d9e5bd569e\"\n",
    "content = [\"covid\",\"technology\",\"graphic%20content\"]\n",
    "amp ='&'\n",
    "page = 1\n",
    "pageSize = 20\n",
    "\n",
    "#newsapiKey =\"d9e7e43ee03848369d44ba67f5377d46\"\n",
    "api_url = url + key\n",
    "#Date without year\t--05-14[1]\n",
    "#from=--03-11&to=--03-12"
   ]
  },
  {
   "cell_type": "raw",
   "id": "1d07d22c",
   "metadata": {},
   "source": [
    "Paging Through Results\n",
    "\n",
    "Example: https://content.guardianapis.com/search?page=2&q=debate&api-key=test\n",
    "\n",
    "https://content.guardianapis.com/search?q=debate&tag=politics/politics&from-date=2014-01-01&api-key=test\n",
    "\n",
    "\"mitochondrial donation\" (https://content.guardianapis.com/search?q=\"mitochondrial%20donation\"&tag=politics/politics&from-date=2014-01-01&api-key=test) returns only content that contains the phrase \"mitochondrial donation\".\n",
    "\n"
   ]
  },
  {
   "cell_type": "code",
   "execution_count": 59,
   "id": "f1214a98",
   "metadata": {},
   "outputs": [
    {
     "name": "stdout",
     "output_type": "stream",
     "text": [
      "Object `response.read` not found.\n"
     ]
    }
   ],
   "source": [
    "response.read?"
   ]
  },
  {
   "cell_type": "code",
   "execution_count": 60,
   "id": "df1d0b58",
   "metadata": {
    "scrolled": true
   },
   "outputs": [],
   "source": [
    "response = requests.get(api_url)\n",
    "resp_dic = json.loads(response.text)\n"
   ]
  },
  {
   "cell_type": "raw",
   "id": "a32dd770",
   "metadata": {},
   "source": []
  },
  {
   "cell_type": "code",
   "execution_count": 8,
   "id": "5b46a51c",
   "metadata": {},
   "outputs": [],
   "source": [
    "import json"
   ]
  },
  {
   "cell_type": "code",
   "execution_count": 22,
   "id": "507fc4fc",
   "metadata": {
    "scrolled": true
   },
   "outputs": [
    {
     "ename": "AttributeError",
     "evalue": "'str' object has no attribute 'text'",
     "output_type": "error",
     "traceback": [
      "\u001b[1;31m---------------------------------------------------------------------------\u001b[0m",
      "\u001b[1;31mAttributeError\u001b[0m                            Traceback (most recent call last)",
      "Input \u001b[1;32mIn [22]\u001b[0m, in \u001b[0;36m<cell line: 6>\u001b[1;34m()\u001b[0m\n\u001b[0;32m      3\u001b[0m     text \u001b[38;5;241m=\u001b[39m json\u001b[38;5;241m.\u001b[39mdumps(obj, sort_keys\u001b[38;5;241m=\u001b[39m\u001b[38;5;28;01mTrue\u001b[39;00m, indent\u001b[38;5;241m=\u001b[39m\u001b[38;5;241m4\u001b[39m)\n\u001b[0;32m      4\u001b[0m     \u001b[38;5;28mprint\u001b[39m(text\u001b[38;5;241m.\u001b[39mtext)\n\u001b[1;32m----> 6\u001b[0m \u001b[43mjprint\u001b[49m\u001b[43m(\u001b[49m\u001b[43mresponse\u001b[49m\u001b[38;5;241;43m.\u001b[39;49m\u001b[43mjson\u001b[49m\u001b[43m(\u001b[49m\u001b[43m)\u001b[49m\u001b[43m)\u001b[49m\n",
      "Input \u001b[1;32mIn [22]\u001b[0m, in \u001b[0;36mjprint\u001b[1;34m(obj)\u001b[0m\n\u001b[0;32m      1\u001b[0m \u001b[38;5;28;01mdef\u001b[39;00m \u001b[38;5;21mjprint\u001b[39m(obj):\n\u001b[0;32m      2\u001b[0m     \u001b[38;5;66;03m# create a formatted string of the Python JSON object\u001b[39;00m\n\u001b[0;32m      3\u001b[0m     text \u001b[38;5;241m=\u001b[39m json\u001b[38;5;241m.\u001b[39mdumps(obj, sort_keys\u001b[38;5;241m=\u001b[39m\u001b[38;5;28;01mTrue\u001b[39;00m, indent\u001b[38;5;241m=\u001b[39m\u001b[38;5;241m4\u001b[39m)\n\u001b[1;32m----> 4\u001b[0m     \u001b[38;5;28mprint\u001b[39m(\u001b[43mtext\u001b[49m\u001b[38;5;241;43m.\u001b[39;49m\u001b[43mtext\u001b[49m)\n",
      "\u001b[1;31mAttributeError\u001b[0m: 'str' object has no attribute 'text'"
     ]
    }
   ],
   "source": [
    "def jprint(obj):\n",
    "    # create a formatted string of the Python JSON object\n",
    "    text = json.dumps(obj, sort_keys=True, indent=4)\n",
    "    print(text.text)\n",
    "\n",
    "jprint(response.json())"
   ]
  },
  {
   "cell_type": "code",
   "execution_count": 2,
   "id": "32c1d899",
   "metadata": {},
   "outputs": [
    {
     "ename": "NameError",
     "evalue": "name 'webPublicationDate' is not defined",
     "output_type": "error",
     "traceback": [
      "\u001b[1;31m---------------------------------------------------------------------------\u001b[0m",
      "\u001b[1;31mNameError\u001b[0m                                 Traceback (most recent call last)",
      "Input \u001b[1;32mIn [2]\u001b[0m, in \u001b[0;36m<cell line: 3>\u001b[1;34m()\u001b[0m\n\u001b[0;32m      1\u001b[0m condition \u001b[38;5;241m=\u001b[39m [\u001b[38;5;124m\"\u001b[39m\u001b[38;5;124m-03-11T\u001b[39m\u001b[38;5;124m\"\u001b[39m,\u001b[38;5;124m\"\u001b[39m\u001b[38;5;124m-03-12T\u001b[39m\u001b[38;5;124m\"\u001b[39m]\n\u001b[0;32m      2\u001b[0m parameters \u001b[38;5;241m=\u001b[39m {\n\u001b[1;32m----> 3\u001b[0m     \u001b[43mwebPublicationDate\u001b[49m: condition[\u001b[38;5;241m0\u001b[39m]\n\u001b[0;32m      4\u001b[0m }\n\u001b[0;32m      5\u001b[0m response \u001b[38;5;241m=\u001b[39m requests\u001b[38;5;241m.\u001b[39mget(url_request, params\u001b[38;5;241m=\u001b[39mparameters)\n",
      "\u001b[1;31mNameError\u001b[0m: name 'webPublicationDate' is not defined"
     ]
    }
   ],
   "source": []
  },
  {
   "cell_type": "code",
   "execution_count": null,
   "id": "8ec6bb37",
   "metadata": {},
   "outputs": [],
   "source": []
  }
 ],
 "metadata": {
  "kernelspec": {
   "display_name": "Python 3 (ipykernel)",
   "language": "python",
   "name": "python3"
  },
  "language_info": {
   "codemirror_mode": {
    "name": "ipython",
    "version": 3
   },
   "file_extension": ".py",
   "mimetype": "text/x-python",
   "name": "python",
   "nbconvert_exporter": "python",
   "pygments_lexer": "ipython3",
   "version": "3.10.4"
  },
  "toc": {
   "base_numbering": 1,
   "nav_menu": {},
   "number_sections": true,
   "sideBar": true,
   "skip_h1_title": false,
   "title_cell": "Table of Contents",
   "title_sidebar": "Contents",
   "toc_cell": false,
   "toc_position": {},
   "toc_section_display": true,
   "toc_window_display": false
  }
 },
 "nbformat": 4,
 "nbformat_minor": 5
}
