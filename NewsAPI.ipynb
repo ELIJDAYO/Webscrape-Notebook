{
 "cells": [
  {
   "cell_type": "markdown",
   "id": "5c5e230a",
   "metadata": {},
   "source": [
    "# Imports and Variables"
   ]
  },
  {
   "cell_type": "code",
   "execution_count": 134,
   "id": "2a8557ba",
   "metadata": {},
   "outputs": [],
   "source": [
    "import requests\n",
    "import json\n",
    "import pprint\n",
    "from bs4 import BeautifulSoup as bs\n",
    "import pandas as pd\n"
   ]
  },
  {
   "cell_type": "code",
   "execution_count": 173,
   "id": "125a4d23",
   "metadata": {},
   "outputs": [],
   "source": [
    "url = \"https://content.guardianapis.com/search\"\n",
    "content = [\"covid\",\"technology\",\"graphic%20content\"]\n",
    "apiKey = \"5ee2a23b-f46e-4986-a548-e4d9e5bd569e\""
   ]
  },
  {
   "cell_type": "code",
   "execution_count": 136,
   "id": "3ac64c8c",
   "metadata": {},
   "outputs": [],
   "source": [
    "upperYear = 2022\n",
    "lowerYear = 2000\n",
    "fromDateMonth = \"-03-11\"\n",
    "toDateMonth = \"-03-12\""
   ]
  },
  {
   "cell_type": "raw",
   "id": "aa991032",
   "metadata": {},
   "source": [
    "Paging Through Results\n",
    "Example: https://content.guardianapis.com/search?page=2&q=debate&api-key=test\n",
    "https://content.guardianapis.com/search?q=debate&tag=politics/politics&from-date=2014-01-01&api-key=test\n",
    "\"mitochondrial donation\" (https://content.guardianapis.com/search?q=\"mitochondrial%20donation\"&tag=politics/politics&from-date=2014-01-01&api-key=test) returns only content that contains the phrase \"mitochondrial donation\"."
   ]
  },
  {
   "cell_type": "markdown",
   "id": "6d282d53",
   "metadata": {},
   "source": [
    "# Retrieve an article with satisfying condition"
   ]
  },
  {
   "cell_type": "code",
   "execution_count": 137,
   "id": "e2090c2a",
   "metadata": {},
   "outputs": [],
   "source": [
    "parameters = {\n",
    "    'q': 'covid',\n",
    "    'pageSize': 100,\n",
    "    'api-key': \"5ee2a23b-f46e-4986-a548-e4d9e5bd569e\",\n",
    "    'from-date': \"2022-03-11\",\n",
    "    'to-date': \"2022-03-12\",\n",
    "}"
   ]
  },
  {
   "cell_type": "code",
   "execution_count": 138,
   "id": "df1d0b58",
   "metadata": {
    "scrolled": true
   },
   "outputs": [],
   "source": [
    "res = requests.get(url,params=parameters)\n"
   ]
  },
  {
   "cell_type": "code",
   "execution_count": 139,
   "id": "32c1d899",
   "metadata": {},
   "outputs": [],
   "source": [
    "json_res = res.json()"
   ]
  },
  {
   "cell_type": "code",
   "execution_count": 140,
   "id": "d5e18152",
   "metadata": {},
   "outputs": [
    {
     "name": "stdout",
     "output_type": "stream",
     "text": [
      "{'response': {'currentPage': 1,\n",
      "              'orderBy': 'relevance',\n",
      "              'pageSize': 10,\n",
      "              'pages': 8,\n",
      "              'results': [{'apiUrl': 'https://content.guardianapis.com/education/2022/mar/12/covid-made-parents-more-relaxed-about-unauthorised-holidays-ofsted',\n",
      "                           'id': 'education/2022/mar/12/covid-made-parents-more-relaxed-about-unauthorised-holidays-ofsted',\n",
      "                           'isHosted': False,\n",
      "                           'pillarId': 'pillar/news',\n",
      "                           'pillarName': 'News',\n",
      "                           'sectionId': 'education',\n",
      "                           'sectionName': 'Education',\n",
      "                           'type': 'article',\n",
      "                           'webPublicationDate': '2022-03-12T14:50:41Z',\n",
      "                           'webTitle': 'Covid made parents ‘more relaxed’ '\n",
      "                                       'about unauthorised holidays – Ofsted',\n",
      "                           'webUrl': 'https://www.theguardian.com/education/2022/mar/12/covid-made-parents-more-relaxed-about-unauthorised-holidays-ofsted'},\n",
      "                          {'apiUrl': 'https://content.guardianapis.com/world/2022/mar/11/covid-cases-england-omicron-levels-ons-data',\n",
      "                           'id': 'world/2022/mar/11/covid-cases-england-omicron-levels-ons-data',\n",
      "                           'isHosted': False,\n",
      "                           'pillarId': 'pillar/news',\n",
      "                           'pillarName': 'News',\n",
      "                           'sectionId': 'world',\n",
      "                           'sectionName': 'World news',\n",
      "                           'type': 'article',\n",
      "                           'webPublicationDate': '2022-03-11T12:37:21Z',\n",
      "                           'webTitle': 'Covid cases and hospital admissions '\n",
      "                                       'rising in England, data suggests',\n",
      "                           'webUrl': 'https://www.theguardian.com/world/2022/mar/11/covid-cases-england-omicron-levels-ons-data'},\n",
      "                          {'apiUrl': 'https://content.guardianapis.com/education/2022/mar/11/zahawi-to-overhaul-covid-catchup-tutoring-after-criticism-of-provider',\n",
      "                           'id': 'education/2022/mar/11/zahawi-to-overhaul-covid-catchup-tutoring-after-criticism-of-provider',\n",
      "                           'isHosted': False,\n",
      "                           'pillarId': 'pillar/news',\n",
      "                           'pillarName': 'News',\n",
      "                           'sectionId': 'education',\n",
      "                           'sectionName': 'Education',\n",
      "                           'type': 'article',\n",
      "                           'webPublicationDate': '2022-03-11T18:15:43Z',\n",
      "                           'webTitle': 'Zahawi to overhaul Covid catchup '\n",
      "                                       'tutoring after criticism of provider',\n",
      "                           'webUrl': 'https://www.theguardian.com/education/2022/mar/11/zahawi-to-overhaul-covid-catchup-tutoring-after-criticism-of-provider'},\n",
      "                          {'apiUrl': 'https://content.guardianapis.com/world/2022/mar/12/dismay-as-funding-for-uks-world-beating-covid-trackers-is-axed',\n",
      "                           'id': 'world/2022/mar/12/dismay-as-funding-for-uks-world-beating-covid-trackers-is-axed',\n",
      "                           'isHosted': False,\n",
      "                           'pillarId': 'pillar/news',\n",
      "                           'pillarName': 'News',\n",
      "                           'sectionId': 'world',\n",
      "                           'sectionName': 'World news',\n",
      "                           'type': 'article',\n",
      "                           'webPublicationDate': '2022-03-12T12:00:04Z',\n",
      "                           'webTitle': 'Dismay as funding for UK’s '\n",
      "                                       '‘world-beating’ Covid trackers is axed',\n",
      "                           'webUrl': 'https://www.theguardian.com/world/2022/mar/12/dismay-as-funding-for-uks-world-beating-covid-trackers-is-axed'},\n",
      "                          {'apiUrl': 'https://content.guardianapis.com/world/2022/mar/11/us-child-covid-deaths-omicron-surge',\n",
      "                           'id': 'world/2022/mar/11/us-child-covid-deaths-omicron-surge',\n",
      "                           'isHosted': False,\n",
      "                           'pillarId': 'pillar/news',\n",
      "                           'pillarName': 'News',\n",
      "                           'sectionId': 'world',\n",
      "                           'sectionName': 'World news',\n",
      "                           'type': 'article',\n",
      "                           'webPublicationDate': '2022-03-11T08:00:26Z',\n",
      "                           'webTitle': 'A fifth of all US child Covid deaths '\n",
      "                                       'occurred during Omicron surge',\n",
      "                           'webUrl': 'https://www.theguardian.com/world/2022/mar/11/us-child-covid-deaths-omicron-surge'},\n",
      "                          {'apiUrl': 'https://content.guardianapis.com/money/2022/mar/12/cashs-reign-fades-as-covid-accelerates-high-street-switch-to-card-only',\n",
      "                           'id': 'money/2022/mar/12/cashs-reign-fades-as-covid-accelerates-high-street-switch-to-card-only',\n",
      "                           'isHosted': False,\n",
      "                           'pillarId': 'pillar/lifestyle',\n",
      "                           'pillarName': 'Lifestyle',\n",
      "                           'sectionId': 'money',\n",
      "                           'sectionName': 'Money',\n",
      "                           'type': 'article',\n",
      "                           'webPublicationDate': '2022-03-12T15:00:03Z',\n",
      "                           'webTitle': 'Cash’s reign fades as Covid '\n",
      "                                       'accelerates high street switch to '\n",
      "                                       'card-only',\n",
      "                           'webUrl': 'https://www.theguardian.com/money/2022/mar/12/cashs-reign-fades-as-covid-accelerates-high-street-switch-to-card-only'},\n",
      "                          {'apiUrl': 'https://content.guardianapis.com/world/2022/mar/12/call-to-offer-more-people-fourth-jab-as-covid-rises-in-england',\n",
      "                           'id': 'world/2022/mar/12/call-to-offer-more-people-fourth-jab-as-covid-rises-in-england',\n",
      "                           'isHosted': False,\n",
      "                           'pillarId': 'pillar/news',\n",
      "                           'pillarName': 'News',\n",
      "                           'sectionId': 'world',\n",
      "                           'sectionName': 'World news',\n",
      "                           'type': 'article',\n",
      "                           'webPublicationDate': '2022-03-12T12:32:04Z',\n",
      "                           'webTitle': 'Call to offer more people fourth jab '\n",
      "                                       'as Covid rises in England',\n",
      "                           'webUrl': 'https://www.theguardian.com/world/2022/mar/12/call-to-offer-more-people-fourth-jab-as-covid-rises-in-england'},\n",
      "                          {'apiUrl': 'https://content.guardianapis.com/commentisfree/2022/mar/12/covid-restrictions-eased-cases-coronavirus-precautionary-peasures',\n",
      "                           'id': 'commentisfree/2022/mar/12/covid-restrictions-eased-cases-coronavirus-precautionary-peasures',\n",
      "                           'isHosted': False,\n",
      "                           'pillarId': 'pillar/opinion',\n",
      "                           'pillarName': 'Opinion',\n",
      "                           'sectionId': 'commentisfree',\n",
      "                           'sectionName': 'Opinion',\n",
      "                           'type': 'article',\n",
      "                           'webPublicationDate': '2022-03-12T12:00:04Z',\n",
      "                           'webTitle': 'Covid has slipped from the headlines – '\n",
      "                                       'but with restrictions eased, cases are '\n",
      "                                       'rising | Kit Yates',\n",
      "                           'webUrl': 'https://www.theguardian.com/commentisfree/2022/mar/12/covid-restrictions-eased-cases-coronavirus-precautionary-peasures'},\n",
      "                          {'apiUrl': 'https://content.guardianapis.com/world/2022/mar/11/what-is-deltacron-covid-variant-uk',\n",
      "                           'id': 'world/2022/mar/11/what-is-deltacron-covid-variant-uk',\n",
      "                           'isHosted': False,\n",
      "                           'pillarId': 'pillar/news',\n",
      "                           'pillarName': 'News',\n",
      "                           'sectionId': 'world',\n",
      "                           'sectionName': 'World news',\n",
      "                           'type': 'article',\n",
      "                           'webPublicationDate': '2022-03-11T13:25:22Z',\n",
      "                           'webTitle': 'What is the Deltacron variant of Covid '\n",
      "                                       'and where has it been found?',\n",
      "                           'webUrl': 'https://www.theguardian.com/world/2022/mar/11/what-is-deltacron-covid-variant-uk'},\n",
      "                          {'apiUrl': 'https://content.guardianapis.com/global-development/2022/mar/11/harry-and-meghan-add-voices-to-fierce-critique-of-wests-covid-vaccine-policies',\n",
      "                           'id': 'global-development/2022/mar/11/harry-and-meghan-add-voices-to-fierce-critique-of-wests-covid-vaccine-policies',\n",
      "                           'isHosted': False,\n",
      "                           'pillarId': 'pillar/news',\n",
      "                           'pillarName': 'News',\n",
      "                           'sectionId': 'global-development',\n",
      "                           'sectionName': 'Global development',\n",
      "                           'type': 'article',\n",
      "                           'webPublicationDate': '2022-03-11T00:01:16Z',\n",
      "                           'webTitle': 'Harry and Meghan add voices to fierce '\n",
      "                                       'critique of west’s Covid vaccine '\n",
      "                                       'policies',\n",
      "                           'webUrl': 'https://www.theguardian.com/global-development/2022/mar/11/harry-and-meghan-add-voices-to-fierce-critique-of-wests-covid-vaccine-policies'}],\n",
      "              'startIndex': 1,\n",
      "              'status': 'ok',\n",
      "              'total': 73,\n",
      "              'userTier': 'developer'}}\n"
     ]
    }
   ],
   "source": [
    "pprint.pprint(json_res)\n"
   ]
  },
  {
   "cell_type": "code",
   "execution_count": 141,
   "id": "1f4dfdcc",
   "metadata": {},
   "outputs": [
    {
     "name": "stdout",
     "output_type": "stream",
     "text": [
      "status\n",
      "userTier\n",
      "total\n",
      "startIndex\n",
      "pageSize\n",
      "currentPage\n",
      "pages\n",
      "orderBy\n",
      "results\n"
     ]
    }
   ],
   "source": [
    "for i in json_res['response']:\n",
    "    print(i)"
   ]
  },
  {
   "cell_type": "code",
   "execution_count": 142,
   "id": "b0e88bce",
   "metadata": {},
   "outputs": [
    {
     "name": "stdout",
     "output_type": "stream",
     "text": [
      "[{'apiUrl': 'https://content.guardianapis.com/education/2022/mar/12/covid-made-parents-more-relaxed-about-unauthorised-holidays-ofsted',\n",
      "  'id': 'education/2022/mar/12/covid-made-parents-more-relaxed-about-unauthorised-holidays-ofsted',\n",
      "  'isHosted': False,\n",
      "  'pillarId': 'pillar/news',\n",
      "  'pillarName': 'News',\n",
      "  'sectionId': 'education',\n",
      "  'sectionName': 'Education',\n",
      "  'type': 'article',\n",
      "  'webPublicationDate': '2022-03-12T14:50:41Z',\n",
      "  'webTitle': 'Covid made parents ‘more relaxed’ about unauthorised holidays – '\n",
      "              'Ofsted',\n",
      "  'webUrl': 'https://www.theguardian.com/education/2022/mar/12/covid-made-parents-more-relaxed-about-unauthorised-holidays-ofsted'},\n",
      " {'apiUrl': 'https://content.guardianapis.com/world/2022/mar/11/covid-cases-england-omicron-levels-ons-data',\n",
      "  'id': 'world/2022/mar/11/covid-cases-england-omicron-levels-ons-data',\n",
      "  'isHosted': False,\n",
      "  'pillarId': 'pillar/news',\n",
      "  'pillarName': 'News',\n",
      "  'sectionId': 'world',\n",
      "  'sectionName': 'World news',\n",
      "  'type': 'article',\n",
      "  'webPublicationDate': '2022-03-11T12:37:21Z',\n",
      "  'webTitle': 'Covid cases and hospital admissions rising in England, data '\n",
      "              'suggests',\n",
      "  'webUrl': 'https://www.theguardian.com/world/2022/mar/11/covid-cases-england-omicron-levels-ons-data'},\n",
      " {'apiUrl': 'https://content.guardianapis.com/education/2022/mar/11/zahawi-to-overhaul-covid-catchup-tutoring-after-criticism-of-provider',\n",
      "  'id': 'education/2022/mar/11/zahawi-to-overhaul-covid-catchup-tutoring-after-criticism-of-provider',\n",
      "  'isHosted': False,\n",
      "  'pillarId': 'pillar/news',\n",
      "  'pillarName': 'News',\n",
      "  'sectionId': 'education',\n",
      "  'sectionName': 'Education',\n",
      "  'type': 'article',\n",
      "  'webPublicationDate': '2022-03-11T18:15:43Z',\n",
      "  'webTitle': 'Zahawi to overhaul Covid catchup tutoring after criticism of '\n",
      "              'provider',\n",
      "  'webUrl': 'https://www.theguardian.com/education/2022/mar/11/zahawi-to-overhaul-covid-catchup-tutoring-after-criticism-of-provider'},\n",
      " {'apiUrl': 'https://content.guardianapis.com/world/2022/mar/12/dismay-as-funding-for-uks-world-beating-covid-trackers-is-axed',\n",
      "  'id': 'world/2022/mar/12/dismay-as-funding-for-uks-world-beating-covid-trackers-is-axed',\n",
      "  'isHosted': False,\n",
      "  'pillarId': 'pillar/news',\n",
      "  'pillarName': 'News',\n",
      "  'sectionId': 'world',\n",
      "  'sectionName': 'World news',\n",
      "  'type': 'article',\n",
      "  'webPublicationDate': '2022-03-12T12:00:04Z',\n",
      "  'webTitle': 'Dismay as funding for UK’s ‘world-beating’ Covid trackers is '\n",
      "              'axed',\n",
      "  'webUrl': 'https://www.theguardian.com/world/2022/mar/12/dismay-as-funding-for-uks-world-beating-covid-trackers-is-axed'},\n",
      " {'apiUrl': 'https://content.guardianapis.com/world/2022/mar/11/us-child-covid-deaths-omicron-surge',\n",
      "  'id': 'world/2022/mar/11/us-child-covid-deaths-omicron-surge',\n",
      "  'isHosted': False,\n",
      "  'pillarId': 'pillar/news',\n",
      "  'pillarName': 'News',\n",
      "  'sectionId': 'world',\n",
      "  'sectionName': 'World news',\n",
      "  'type': 'article',\n",
      "  'webPublicationDate': '2022-03-11T08:00:26Z',\n",
      "  'webTitle': 'A fifth of all US child Covid deaths occurred during Omicron '\n",
      "              'surge',\n",
      "  'webUrl': 'https://www.theguardian.com/world/2022/mar/11/us-child-covid-deaths-omicron-surge'},\n",
      " {'apiUrl': 'https://content.guardianapis.com/money/2022/mar/12/cashs-reign-fades-as-covid-accelerates-high-street-switch-to-card-only',\n",
      "  'id': 'money/2022/mar/12/cashs-reign-fades-as-covid-accelerates-high-street-switch-to-card-only',\n",
      "  'isHosted': False,\n",
      "  'pillarId': 'pillar/lifestyle',\n",
      "  'pillarName': 'Lifestyle',\n",
      "  'sectionId': 'money',\n",
      "  'sectionName': 'Money',\n",
      "  'type': 'article',\n",
      "  'webPublicationDate': '2022-03-12T15:00:03Z',\n",
      "  'webTitle': 'Cash’s reign fades as Covid accelerates high street switch to '\n",
      "              'card-only',\n",
      "  'webUrl': 'https://www.theguardian.com/money/2022/mar/12/cashs-reign-fades-as-covid-accelerates-high-street-switch-to-card-only'},\n",
      " {'apiUrl': 'https://content.guardianapis.com/world/2022/mar/12/call-to-offer-more-people-fourth-jab-as-covid-rises-in-england',\n",
      "  'id': 'world/2022/mar/12/call-to-offer-more-people-fourth-jab-as-covid-rises-in-england',\n",
      "  'isHosted': False,\n",
      "  'pillarId': 'pillar/news',\n",
      "  'pillarName': 'News',\n",
      "  'sectionId': 'world',\n",
      "  'sectionName': 'World news',\n",
      "  'type': 'article',\n",
      "  'webPublicationDate': '2022-03-12T12:32:04Z',\n",
      "  'webTitle': 'Call to offer more people fourth jab as Covid rises in England',\n",
      "  'webUrl': 'https://www.theguardian.com/world/2022/mar/12/call-to-offer-more-people-fourth-jab-as-covid-rises-in-england'},\n",
      " {'apiUrl': 'https://content.guardianapis.com/commentisfree/2022/mar/12/covid-restrictions-eased-cases-coronavirus-precautionary-peasures',\n",
      "  'id': 'commentisfree/2022/mar/12/covid-restrictions-eased-cases-coronavirus-precautionary-peasures',\n",
      "  'isHosted': False,\n",
      "  'pillarId': 'pillar/opinion',\n",
      "  'pillarName': 'Opinion',\n",
      "  'sectionId': 'commentisfree',\n",
      "  'sectionName': 'Opinion',\n",
      "  'type': 'article',\n",
      "  'webPublicationDate': '2022-03-12T12:00:04Z',\n",
      "  'webTitle': 'Covid has slipped from the headlines – but with restrictions '\n",
      "              'eased, cases are rising | Kit Yates',\n",
      "  'webUrl': 'https://www.theguardian.com/commentisfree/2022/mar/12/covid-restrictions-eased-cases-coronavirus-precautionary-peasures'},\n",
      " {'apiUrl': 'https://content.guardianapis.com/world/2022/mar/11/what-is-deltacron-covid-variant-uk',\n",
      "  'id': 'world/2022/mar/11/what-is-deltacron-covid-variant-uk',\n",
      "  'isHosted': False,\n",
      "  'pillarId': 'pillar/news',\n",
      "  'pillarName': 'News',\n",
      "  'sectionId': 'world',\n",
      "  'sectionName': 'World news',\n",
      "  'type': 'article',\n",
      "  'webPublicationDate': '2022-03-11T13:25:22Z',\n",
      "  'webTitle': 'What is the Deltacron variant of Covid and where has it been '\n",
      "              'found?',\n",
      "  'webUrl': 'https://www.theguardian.com/world/2022/mar/11/what-is-deltacron-covid-variant-uk'},\n",
      " {'apiUrl': 'https://content.guardianapis.com/global-development/2022/mar/11/harry-and-meghan-add-voices-to-fierce-critique-of-wests-covid-vaccine-policies',\n",
      "  'id': 'global-development/2022/mar/11/harry-and-meghan-add-voices-to-fierce-critique-of-wests-covid-vaccine-policies',\n",
      "  'isHosted': False,\n",
      "  'pillarId': 'pillar/news',\n",
      "  'pillarName': 'News',\n",
      "  'sectionId': 'global-development',\n",
      "  'sectionName': 'Global development',\n",
      "  'type': 'article',\n",
      "  'webPublicationDate': '2022-03-11T00:01:16Z',\n",
      "  'webTitle': 'Harry and Meghan add voices to fierce critique of west’s Covid '\n",
      "              'vaccine policies',\n",
      "  'webUrl': 'https://www.theguardian.com/global-development/2022/mar/11/harry-and-meghan-add-voices-to-fierce-critique-of-wests-covid-vaccine-policies'}]\n"
     ]
    }
   ],
   "source": [
    "json_result = json_res['response']['results']\n",
    "pprint.pprint(json_result)"
   ]
  },
  {
   "cell_type": "code",
   "execution_count": 143,
   "id": "01faabbb",
   "metadata": {},
   "outputs": [
    {
     "name": "stdout",
     "output_type": "stream",
     "text": [
      "0   https://www.theguardian.com/education/2022/mar/12/covid-made-parents-more-relaxed-about-unauthorised-holidays-ofsted\n",
      "1   https://www.theguardian.com/world/2022/mar/11/covid-cases-england-omicron-levels-ons-data\n",
      "2   https://www.theguardian.com/education/2022/mar/11/zahawi-to-overhaul-covid-catchup-tutoring-after-criticism-of-provider\n",
      "3   https://www.theguardian.com/world/2022/mar/12/dismay-as-funding-for-uks-world-beating-covid-trackers-is-axed\n",
      "4   https://www.theguardian.com/world/2022/mar/11/us-child-covid-deaths-omicron-surge\n",
      "5   https://www.theguardian.com/money/2022/mar/12/cashs-reign-fades-as-covid-accelerates-high-street-switch-to-card-only\n",
      "6   https://www.theguardian.com/world/2022/mar/12/call-to-offer-more-people-fourth-jab-as-covid-rises-in-england\n",
      "7   https://www.theguardian.com/commentisfree/2022/mar/12/covid-restrictions-eased-cases-coronavirus-precautionary-peasures\n",
      "8   https://www.theguardian.com/world/2022/mar/11/what-is-deltacron-covid-variant-uk\n",
      "9   https://www.theguardian.com/global-development/2022/mar/11/harry-and-meghan-add-voices-to-fierce-critique-of-wests-covid-vaccine-policies\n"
     ]
    }
   ],
   "source": [
    "i=0\n",
    "for result in json_result:\n",
    "    print(i, \" \",result.get(\"webUrl\"))\n",
    "    i+=1"
   ]
  },
  {
   "cell_type": "code",
   "execution_count": 191,
   "id": "96bab3f8",
   "metadata": {},
   "outputs": [],
   "source": [
    "def generateYears(fromDY,toDY):\n",
    "    for i in range(lowerYear,upperYear+1):\n",
    "        fromDY.append(str(i)+fromDateMonth)\n",
    "        toDY.append(str(i)+toDateMonth)"
   ]
  },
  {
   "cell_type": "code",
   "execution_count": 145,
   "id": "166e1054",
   "metadata": {},
   "outputs": [
    {
     "data": {
      "text/plain": [
       "['2000-03-11',\n",
       " '2001-03-11',\n",
       " '2002-03-11',\n",
       " '2003-03-11',\n",
       " '2004-03-11',\n",
       " '2005-03-11',\n",
       " '2006-03-11',\n",
       " '2007-03-11',\n",
       " '2008-03-11',\n",
       " '2009-03-11',\n",
       " '2010-03-11',\n",
       " '2011-03-11',\n",
       " '2012-03-11',\n",
       " '2013-03-11',\n",
       " '2014-03-11',\n",
       " '2015-03-11',\n",
       " '2016-03-11',\n",
       " '2017-03-11',\n",
       " '2018-03-11',\n",
       " '2019-03-11',\n",
       " '2020-03-11',\n",
       " '2021-03-11',\n",
       " '2022-03-11']"
      ]
     },
     "execution_count": 145,
     "metadata": {},
     "output_type": "execute_result"
    }
   ],
   "source": [
    "fromDateYear"
   ]
  },
  {
   "cell_type": "code",
   "execution_count": 146,
   "id": "e4c01e9f",
   "metadata": {},
   "outputs": [],
   "source": [
    "sample_url=\"https://www.theguardian.com/education/2022/mar/12/covid-made-parents-more-relaxed-about-unauthorised-holidays-ofsted\"\n",
    "page=requests.get(sample_url)\n",
    "soup = bs(page.content, 'html.parser')\n"
   ]
  },
  {
   "cell_type": "code",
   "execution_count": 147,
   "id": "c718abb9",
   "metadata": {},
   "outputs": [
    {
     "name": "stdout",
     "output_type": "stream",
     "text": [
      "Covid made parents ‘more relaxed’ about unauthorised holidays – Ofsted\n"
     ]
    }
   ],
   "source": [
    "title = soup.find(\"h1\",{\"class\",\"dcr-125vfar\"}).text\n",
    "print(title)"
   ]
  },
  {
   "cell_type": "code",
   "execution_count": 148,
   "id": "af0221aa",
   "metadata": {},
   "outputs": [
    {
     "name": "stdout",
     "output_type": "stream",
     "text": [
      "Richard Adams Education editor\n"
     ]
    }
   ],
   "source": [
    "snippet = soup.find(\"div\",{\"class\",\"dcr-1mp5s8u\"})\n",
    "author = snippet.text\n",
    "print(author)"
   ]
  },
  {
   "cell_type": "code",
   "execution_count": 149,
   "id": "4fa94aa9",
   "metadata": {},
   "outputs": [
    {
     "name": "stdout",
     "output_type": "stream",
     "text": [
      "Sat 12 Mar 2022 14.50 GMT\n"
     ]
    }
   ],
   "source": [
    "snippet = soup.find(\"summary\",{\"class\",\"dcr-12fpzem\"})\n",
    "date = snippet.text\n",
    "print(date)"
   ]
  },
  {
   "cell_type": "code",
   "execution_count": 150,
   "id": "40ce7e9b",
   "metadata": {},
   "outputs": [
    {
     "name": "stdout",
     "output_type": "stream",
     "text": [
      "The Covid pandemic has made families “more relaxed” about their children staying home or going on unauthorised holidays, fracturing the social contract between parents and schools in England, according to the head of Ofsted.\n",
      "Amanda Spielman, Ofsted’s chief inspector, said she was concerned about the high level of absences among pupils, telling the Association of School and College Leaders annual conference: “Some parents have health concerns for themselves or family members and wait in hope for a highly unlikely zero-Covid future.\n",
      "“Others, having seen that remote education is possible, have a more relaxed attitude to absence, whether long-term or to enable family holidays in term time. They have seen that other people’s children are away from school and so expect the same latitude.\n",
      "“Families whose children have special educational needs struggled more than most when regular support services were curtailed. Some of those children found comfort in learning at home, going at their own pace. So it’s understandable that some parents are reluctant now to let that go.”\n",
      "The pandemic and lockdowns has also “exacerbated” existing problems for children who were persistently absent from school, often among parents who were struggling financially or because of domestic violence or substance abuse.\n",
      "“The disruption we’ve seen over the last two years has fractured the social contract around education … Now’s the time to remake that contract,” she said.\n",
      "Spielman told the conference in Birmingham she was also concerned by increases in children in England being educated at home, and said she supported the government’s plans for a register of children being home-schooled.\n",
      "“We take a very liberal attitude to home education in this country, compared to many other nations.\n",
      "“We need to recognise that home education is very hard. Most parents aren’t equipped to do it and if they are motivated by their own or their child’s anxiety, rather than a deeply held desire to home-educate, the outcomes for their child are unlikely to be great,” she said.\n",
      "Referring to the abuse and murder of Arthur Labinjo-Hughes, Spielman said: “And we should also remember that sadly a small number of parents have darker motivations for taking their children away from their teacher’s sight.”\n",
      "The conference of head teachers also heard Bridget Phillipson, the shadow education secretary, attack the government’s handling of education in England during the pandemic.\n",
      "“When clear, focused government leadership was needed in response to the pandemic there was a vacuum. No plan, no direction. No ambition,” Phillipson said.\n",
      "“Children who joined reception classes in September will have lived more than half their lives under the pandemic.\n",
      "“In many cases, they have not had the chance to explore, socialise, develop vital skills, in nurseries or playgroups, all of which will matter right throughout school, and right throughout their lives.”\n",
      "Phillipson said a future Labour government would look closely at Ofsted’s role in school improvement, noting that while Ofsted is officially 30 years old, the schools it inspects are now very different.\n",
      "“Yet Ofsted still operates in a way that is often too high stakes, and where the risks of a bad inspection outweigh the rewards of a good one.\n",
      "“A cat and mouse game between inspectors and schools, with no incentive to have an honest professional dialogue, to accept weakness and work to address it, are the unhelpful features of such an adversarial system,” Phillipson said, arguing that “change needs to happen”.\n",
      "\n"
     ]
    }
   ],
   "source": [
    "snippet = soup.findAll(\"p\",{\"class\",\"dcr-xry7m2\"})\n",
    "fullArticle = \"\"\n",
    "for p in snippet:\n",
    "    fullArticle += p.text + \"\\n\"\n",
    "print(fullArticle)"
   ]
  },
  {
   "cell_type": "code",
   "execution_count": 151,
   "id": "b26228d9",
   "metadata": {},
   "outputs": [],
   "source": [
    "jsonScrape = []\n",
    "jsonScrape.append((title,author,date,fullArticle))"
   ]
  },
  {
   "cell_type": "code",
   "execution_count": 152,
   "id": "b179cf6d",
   "metadata": {},
   "outputs": [],
   "source": [
    "jsonList = pd.DataFrame(jsonScrape)\n",
    "jsonList.columns = ['Title', 'Author', 'Date', 'FullArticle']\n"
   ]
  },
  {
   "cell_type": "code",
   "execution_count": 153,
   "id": "56f75600",
   "metadata": {
    "scrolled": false
   },
   "outputs": [
    {
     "data": {
      "text/html": [
       "<div>\n",
       "<style scoped>\n",
       "    .dataframe tbody tr th:only-of-type {\n",
       "        vertical-align: middle;\n",
       "    }\n",
       "\n",
       "    .dataframe tbody tr th {\n",
       "        vertical-align: top;\n",
       "    }\n",
       "\n",
       "    .dataframe thead th {\n",
       "        text-align: right;\n",
       "    }\n",
       "</style>\n",
       "<table border=\"1\" class=\"dataframe\">\n",
       "  <thead>\n",
       "    <tr style=\"text-align: right;\">\n",
       "      <th></th>\n",
       "      <th>Title</th>\n",
       "      <th>Author</th>\n",
       "      <th>Date</th>\n",
       "      <th>FullArticle</th>\n",
       "    </tr>\n",
       "  </thead>\n",
       "  <tbody>\n",
       "    <tr>\n",
       "      <th>0</th>\n",
       "      <td>Covid made parents ‘more relaxed’ about unauth...</td>\n",
       "      <td>Richard Adams Education editor</td>\n",
       "      <td>Sat 12 Mar 2022 14.50 GMT</td>\n",
       "      <td>The Covid pandemic has made families “more rel...</td>\n",
       "    </tr>\n",
       "  </tbody>\n",
       "</table>\n",
       "</div>"
      ],
      "text/plain": [
       "                                               Title  \\\n",
       "0  Covid made parents ‘more relaxed’ about unauth...   \n",
       "\n",
       "                           Author                       Date  \\\n",
       "0  Richard Adams Education editor  Sat 12 Mar 2022 14.50 GMT   \n",
       "\n",
       "                                         FullArticle  \n",
       "0  The Covid pandemic has made families “more rel...  "
      ]
     },
     "execution_count": 153,
     "metadata": {},
     "output_type": "execute_result"
    }
   ],
   "source": [
    "jsonList"
   ]
  },
  {
   "cell_type": "markdown",
   "id": "3790e68b",
   "metadata": {},
   "source": [
    "# Implement everything"
   ]
  },
  {
   "cell_type": "code",
   "execution_count": 220,
   "id": "86e72ba6",
   "metadata": {},
   "outputs": [],
   "source": [
    "def generateYears(fromDY,toDY):\n",
    "    for i in range(lowerYear,upperYear+1):\n",
    "        fromDY.append(str(i)+fromDateMonth)\n",
    "        toDY.append(str(i)+toDateMonth)"
   ]
  },
  {
   "cell_type": "markdown",
   "id": "a8e5ad94",
   "metadata": {},
   "source": [
    "# Input Author, -mm-dd, and yyyy\n",
    "control name of author by 1 or 0"
   ]
  },
  {
   "cell_type": "code",
   "execution_count": 367,
   "id": "4d056c53",
   "metadata": {},
   "outputs": [],
   "source": [
    "url = \"https://content.guardianapis.com/search\"\n",
    "content = [\"covid\"]\n",
    "apiKey = \"5ee2a23b-f46e-4986-a548-e4d9e5bd569e\"\n",
    "if 1:\n",
    "    authorSpecified = \"\"\n",
    "else:\n",
    "    authorSpecified = \"Nina Lakhani\"\n",
    "\n",
    "upperYear = 2022\n",
    "lowerYear = 2000\n",
    "fromDateMonth = \"-03-11\"\n",
    "toDateMonth = \"-03-12\"\n"
   ]
  },
  {
   "cell_type": "code",
   "execution_count": 368,
   "id": "fb29dce1",
   "metadata": {},
   "outputs": [],
   "source": [
    "def loopYears(content,links):\n",
    "    for i, j in zip(fromDateYear,toDateYear):\n",
    "        parameters = {\n",
    "            'q': content,\n",
    "            'pageSize': 1,\n",
    "            'api-key': apiKey,\n",
    "            'from-date': i,\n",
    "            'to-date': j,\n",
    "        }\n",
    "        res = requests.get(url,params=parameters)\n",
    "        json_res = res.json()\n",
    "        json_result = json_res['response']['results']\n",
    "        for result in json_result:\n",
    "            links.append(result.get(\"webUrl\"))\n"
   ]
  },
  {
   "cell_type": "code",
   "execution_count": 369,
   "id": "47e77b1d",
   "metadata": {},
   "outputs": [],
   "source": [
    "fromDateYear = []\n",
    "toDateYear = []\n",
    "links = []\n",
    "generateYears(fromDateYear,toDateYear)\n",
    "for q in content:\n",
    "    loopYears(q,links)\n",
    "    "
   ]
  },
  {
   "cell_type": "markdown",
   "id": "84537344",
   "metadata": {},
   "source": [
    "for l in links:\n",
    "    print(l)"
   ]
  },
  {
   "cell_type": "code",
   "execution_count": 378,
   "id": "f78c381d",
   "metadata": {},
   "outputs": [],
   "source": [
    "jsonScrape = []\n",
    "for l in links:\n",
    "    page=requests.get(l)\n",
    "    soup = bs(page.content, 'html.parser'\n",
    "             )\n",
    "    title = soup.find(\"h1\",{\"class\",\"dcr-125vfar\"})\n",
    "    if title == None:\n",
    "        continue\n",
    "    title = title.text\n",
    "    snippet = soup.find(\"div\",{\"class\",\"dcr-1mp5s8u\"})\n",
    "    if snippet == None:\n",
    "        continue\n",
    "    author = snippet.text\n",
    "\n",
    "    if authorSpecified == \"\":\n",
    "        snippet = soup.find(\"summary\",{\"class\",\"dcr-12fpzem\"})\n",
    "        if snippet is None:\n",
    "            continue\n",
    "        date = snippet.text\n",
    "        snippet = soup.findAll(\"p\",{\"class\",\"dcr-xry7m2\"})\n",
    "        fullArticle = \"\"\n",
    "        for p in snippet:\n",
    "            fullArticle += p.text + \"\\n\"\n",
    "        jsonScrape.append((title,author,date,fullArticle))\n",
    "    else:\n",
    "        if authorSpecified == author:\n",
    "            snippet = soup.find(\"summary\",{\"class\",\"dcr-12fpzem\"})\n",
    "            if snippet is None:\n",
    "                continue\n",
    "            date = snippet.text\n",
    "            snippet = soup.findAll(\"p\",{\"class\",\"dcr-xry7m2\"})\n",
    "            fullArticle = \"\"\n",
    "            for p in snippet:\n",
    "                fullArticle += p.text + \"\\n\"\n",
    "            jsonScrape.append((title,author,date,fullArticle))"
   ]
  },
  {
   "cell_type": "code",
   "execution_count": 379,
   "id": "e6d29ffb",
   "metadata": {
    "scrolled": false
   },
   "outputs": [
    {
     "data": {
      "text/html": [
       "<div>\n",
       "<style scoped>\n",
       "    .dataframe tbody tr th:only-of-type {\n",
       "        vertical-align: middle;\n",
       "    }\n",
       "\n",
       "    .dataframe tbody tr th {\n",
       "        vertical-align: top;\n",
       "    }\n",
       "\n",
       "    .dataframe thead th {\n",
       "        text-align: right;\n",
       "    }\n",
       "</style>\n",
       "<table border=\"1\" class=\"dataframe\">\n",
       "  <thead>\n",
       "    <tr style=\"text-align: right;\">\n",
       "      <th></th>\n",
       "      <th>Title</th>\n",
       "      <th>Author</th>\n",
       "      <th>Date</th>\n",
       "      <th>FullArticle</th>\n",
       "    </tr>\n",
       "  </thead>\n",
       "  <tbody>\n",
       "    <tr>\n",
       "      <th>0</th>\n",
       "      <td>Detroit suspends water shutoffs over Covid-19 ...</td>\n",
       "      <td>Nina Lakhani</td>\n",
       "      <td>Thu 12 Mar 2020 09.00 GMT</td>\n",
       "      <td>Running water will be temporarily restored to ...</td>\n",
       "    </tr>\n",
       "    <tr>\n",
       "      <th>1</th>\n",
       "      <td>Self-isolating Tory MP criticises parliament's...</td>\n",
       "      <td>Kate Proctor Political correspondent</td>\n",
       "      <td>Thu 12 Mar 2020 15.31 GMT</td>\n",
       "      <td>The MP Andrew Bridgen has criticised parliamen...</td>\n",
       "    </tr>\n",
       "    <tr>\n",
       "      <th>2</th>\n",
       "      <td>Complete shutdown of UK universities due to Co...</td>\n",
       "      <td>Anna Fazackerley</td>\n",
       "      <td>Wed 11 Mar 2020 12.21 GMT</td>\n",
       "      <td>University vice-chancellors have told the gove...</td>\n",
       "    </tr>\n",
       "    <tr>\n",
       "      <th>3</th>\n",
       "      <td>Research finds huge impact of interventions on...</td>\n",
       "      <td>Ian Sample Science editor</td>\n",
       "      <td>Wed 11 Mar 2020 18.53 GMT</td>\n",
       "      <td>The rapid spread of coronavirus around the wor...</td>\n",
       "    </tr>\n",
       "    <tr>\n",
       "      <th>4</th>\n",
       "      <td>Ireland school closures reveal stark contrast ...</td>\n",
       "      <td>Rory Carroll in Dublin</td>\n",
       "      <td>Thu 12 Mar 2020 15.09 GMT</td>\n",
       "      <td>Ireland is shutting schools, universities and ...</td>\n",
       "    </tr>\n",
       "    <tr>\n",
       "      <th>5</th>\n",
       "      <td>US briefing: Biden wins big again, US Covid-19...</td>\n",
       "      <td>Tim Walker</td>\n",
       "      <td>Wed 11 Mar 2020 12.13 GMT</td>\n",
       "      <td>Good morning, I’m Tim Walker with today’s esse...</td>\n",
       "    </tr>\n",
       "    <tr>\n",
       "      <th>6</th>\n",
       "      <td>Wales to ease Covid lockdown restrictions from...</td>\n",
       "      <td>Damien Gayle and agency</td>\n",
       "      <td>Fri 12 Mar 2021 14.56 GMT</td>\n",
       "      <td>Some semblance of normal life will resume in W...</td>\n",
       "    </tr>\n",
       "    <tr>\n",
       "      <th>7</th>\n",
       "      <td>Australia commits $100m to Covid vaccine deal ...</td>\n",
       "      <td>Graham Readfearn and Daniel Hurst</td>\n",
       "      <td>Fri 12 Mar 2021 23.31 GMT</td>\n",
       "      <td>A historic first meeting of leaders of the Qua...</td>\n",
       "    </tr>\n",
       "    <tr>\n",
       "      <th>8</th>\n",
       "      <td>First Thing: boost for Biden as Covid aid bill...</td>\n",
       "      <td>Molly Blackall</td>\n",
       "      <td>Thu 11 Mar 2021 10.57 GMT</td>\n",
       "      <td>Good morning\\nCongress passed a landmark $1.9t...</td>\n",
       "    </tr>\n",
       "    <tr>\n",
       "      <th>9</th>\n",
       "      <td>Manchester schools to launch study into childr...</td>\n",
       "      <td>Paul MacInnes</td>\n",
       "      <td>Thu 11 Mar 2021 22.30 GMT</td>\n",
       "      <td>An unprecedented study into the wellbeing of B...</td>\n",
       "    </tr>\n",
       "    <tr>\n",
       "      <th>10</th>\n",
       "      <td>Covid made parents ‘more relaxed’ about unauth...</td>\n",
       "      <td>Richard Adams Education editor</td>\n",
       "      <td>Sat 12 Mar 2022 14.50 GMT</td>\n",
       "      <td>The Covid pandemic has made families “more rel...</td>\n",
       "    </tr>\n",
       "    <tr>\n",
       "      <th>11</th>\n",
       "      <td>Covid cases and hospital admissions rising in ...</td>\n",
       "      <td>Nicola Davis Science Correspondent</td>\n",
       "      <td>Fri 11 Mar 2022 12.37 GMT</td>\n",
       "      <td>One in 25 people in England had Covid last wee...</td>\n",
       "    </tr>\n",
       "    <tr>\n",
       "      <th>12</th>\n",
       "      <td>Zahawi to overhaul Covid catchup tutoring afte...</td>\n",
       "      <td>Richard Adams Education editor</td>\n",
       "      <td>Fri 11 Mar 2022 18.15 GMT</td>\n",
       "      <td>The national tutoring programme is to be overh...</td>\n",
       "    </tr>\n",
       "    <tr>\n",
       "      <th>13</th>\n",
       "      <td>Dismay as funding for UK’s ‘world-beating’ Cov...</td>\n",
       "      <td>James Tapper</td>\n",
       "      <td>Sat 12 Mar 2022 12.00 GMT</td>\n",
       "      <td>If anything about the UK’s response to Covid-1...</td>\n",
       "    </tr>\n",
       "    <tr>\n",
       "      <th>14</th>\n",
       "      <td>A fifth of all US child Covid deaths occurred ...</td>\n",
       "      <td>Melody Schreiber</td>\n",
       "      <td>Fri 11 Mar 2022 08.00 GMT</td>\n",
       "      <td>As many as 20% of all child deaths from Covid ...</td>\n",
       "    </tr>\n",
       "    <tr>\n",
       "      <th>15</th>\n",
       "      <td>Call to offer more people fourth jab as Covid ...</td>\n",
       "      <td>James Tapper</td>\n",
       "      <td>Sat 12 Mar 2022 12.32 GMT</td>\n",
       "      <td>Ministers should consider extending the plan t...</td>\n",
       "    </tr>\n",
       "    <tr>\n",
       "      <th>16</th>\n",
       "      <td>Harry and Meghan add voices to fierce critique...</td>\n",
       "      <td>Sarah Johnson</td>\n",
       "      <td>Fri 11 Mar 2022 00.01 GMT</td>\n",
       "      <td>Prince Harry and Meghan, the actor Charlize Th...</td>\n",
       "    </tr>\n",
       "  </tbody>\n",
       "</table>\n",
       "</div>"
      ],
      "text/plain": [
       "                                                Title  \\\n",
       "0   Detroit suspends water shutoffs over Covid-19 ...   \n",
       "1   Self-isolating Tory MP criticises parliament's...   \n",
       "2   Complete shutdown of UK universities due to Co...   \n",
       "3   Research finds huge impact of interventions on...   \n",
       "4   Ireland school closures reveal stark contrast ...   \n",
       "5   US briefing: Biden wins big again, US Covid-19...   \n",
       "6   Wales to ease Covid lockdown restrictions from...   \n",
       "7   Australia commits $100m to Covid vaccine deal ...   \n",
       "8   First Thing: boost for Biden as Covid aid bill...   \n",
       "9   Manchester schools to launch study into childr...   \n",
       "10  Covid made parents ‘more relaxed’ about unauth...   \n",
       "11  Covid cases and hospital admissions rising in ...   \n",
       "12  Zahawi to overhaul Covid catchup tutoring afte...   \n",
       "13  Dismay as funding for UK’s ‘world-beating’ Cov...   \n",
       "14  A fifth of all US child Covid deaths occurred ...   \n",
       "15  Call to offer more people fourth jab as Covid ...   \n",
       "16  Harry and Meghan add voices to fierce critique...   \n",
       "\n",
       "                                  Author                       Date  \\\n",
       "0                           Nina Lakhani  Thu 12 Mar 2020 09.00 GMT   \n",
       "1   Kate Proctor Political correspondent  Thu 12 Mar 2020 15.31 GMT   \n",
       "2                       Anna Fazackerley  Wed 11 Mar 2020 12.21 GMT   \n",
       "3              Ian Sample Science editor  Wed 11 Mar 2020 18.53 GMT   \n",
       "4                 Rory Carroll in Dublin  Thu 12 Mar 2020 15.09 GMT   \n",
       "5                             Tim Walker  Wed 11 Mar 2020 12.13 GMT   \n",
       "6                Damien Gayle and agency  Fri 12 Mar 2021 14.56 GMT   \n",
       "7      Graham Readfearn and Daniel Hurst  Fri 12 Mar 2021 23.31 GMT   \n",
       "8                         Molly Blackall  Thu 11 Mar 2021 10.57 GMT   \n",
       "9                          Paul MacInnes  Thu 11 Mar 2021 22.30 GMT   \n",
       "10        Richard Adams Education editor  Sat 12 Mar 2022 14.50 GMT   \n",
       "11    Nicola Davis Science Correspondent  Fri 11 Mar 2022 12.37 GMT   \n",
       "12        Richard Adams Education editor  Fri 11 Mar 2022 18.15 GMT   \n",
       "13                          James Tapper  Sat 12 Mar 2022 12.00 GMT   \n",
       "14                      Melody Schreiber  Fri 11 Mar 2022 08.00 GMT   \n",
       "15                          James Tapper  Sat 12 Mar 2022 12.32 GMT   \n",
       "16                         Sarah Johnson  Fri 11 Mar 2022 00.01 GMT   \n",
       "\n",
       "                                          FullArticle  \n",
       "0   Running water will be temporarily restored to ...  \n",
       "1   The MP Andrew Bridgen has criticised parliamen...  \n",
       "2   University vice-chancellors have told the gove...  \n",
       "3   The rapid spread of coronavirus around the wor...  \n",
       "4   Ireland is shutting schools, universities and ...  \n",
       "5   Good morning, I’m Tim Walker with today’s esse...  \n",
       "6   Some semblance of normal life will resume in W...  \n",
       "7   A historic first meeting of leaders of the Qua...  \n",
       "8   Good morning\\nCongress passed a landmark $1.9t...  \n",
       "9   An unprecedented study into the wellbeing of B...  \n",
       "10  The Covid pandemic has made families “more rel...  \n",
       "11  One in 25 people in England had Covid last wee...  \n",
       "12  The national tutoring programme is to be overh...  \n",
       "13  If anything about the UK’s response to Covid-1...  \n",
       "14  As many as 20% of all child deaths from Covid ...  \n",
       "15  Ministers should consider extending the plan t...  \n",
       "16  Prince Harry and Meghan, the actor Charlize Th...  "
      ]
     },
     "execution_count": 379,
     "metadata": {},
     "output_type": "execute_result"
    }
   ],
   "source": [
    "jsonList = pd.DataFrame(jsonScrape)\n",
    "jsonList.columns = ['Title', 'Author', 'Date', 'FullArticle']\n",
    "jsonList"
   ]
  },
  {
   "cell_type": "code",
   "execution_count": 380,
   "id": "6608bc8a",
   "metadata": {},
   "outputs": [],
   "source": [
    "jsonList.to_json('C:/Users/edayo/Downloads/3y2t/datapre/jsonList.json')"
   ]
  },
  {
   "cell_type": "code",
   "execution_count": 381,
   "id": "52916b42",
   "metadata": {},
   "outputs": [],
   "source": [
    "scrapeAPI = pd.read_json(\"C:/Users/edayo/Downloads/3y2t/datapre/jsonList.json\")"
   ]
  },
  {
   "cell_type": "code",
   "execution_count": 384,
   "id": "860177b1",
   "metadata": {},
   "outputs": [
    {
     "data": {
      "text/html": [
       "<div>\n",
       "<style scoped>\n",
       "    .dataframe tbody tr th:only-of-type {\n",
       "        vertical-align: middle;\n",
       "    }\n",
       "\n",
       "    .dataframe tbody tr th {\n",
       "        vertical-align: top;\n",
       "    }\n",
       "\n",
       "    .dataframe thead th {\n",
       "        text-align: right;\n",
       "    }\n",
       "</style>\n",
       "<table border=\"1\" class=\"dataframe\">\n",
       "  <thead>\n",
       "    <tr style=\"text-align: right;\">\n",
       "      <th></th>\n",
       "      <th>Title</th>\n",
       "      <th>Author</th>\n",
       "      <th>Date</th>\n",
       "      <th>FullArticle</th>\n",
       "    </tr>\n",
       "  </thead>\n",
       "  <tbody>\n",
       "    <tr>\n",
       "      <th>0</th>\n",
       "      <td>Detroit suspends water shutoffs over Covid-19 ...</td>\n",
       "      <td>Nina Lakhani</td>\n",
       "      <td>Thu 12 Mar 2020 09.00 GMT</td>\n",
       "      <td>Running water will be temporarily restored to ...</td>\n",
       "    </tr>\n",
       "    <tr>\n",
       "      <th>1</th>\n",
       "      <td>Self-isolating Tory MP criticises parliament's...</td>\n",
       "      <td>Kate Proctor Political correspondent</td>\n",
       "      <td>Thu 12 Mar 2020 15.31 GMT</td>\n",
       "      <td>The MP Andrew Bridgen has criticised parliamen...</td>\n",
       "    </tr>\n",
       "    <tr>\n",
       "      <th>2</th>\n",
       "      <td>Complete shutdown of UK universities due to Co...</td>\n",
       "      <td>Anna Fazackerley</td>\n",
       "      <td>Wed 11 Mar 2020 12.21 GMT</td>\n",
       "      <td>University vice-chancellors have told the gove...</td>\n",
       "    </tr>\n",
       "    <tr>\n",
       "      <th>3</th>\n",
       "      <td>Research finds huge impact of interventions on...</td>\n",
       "      <td>Ian Sample Science editor</td>\n",
       "      <td>Wed 11 Mar 2020 18.53 GMT</td>\n",
       "      <td>The rapid spread of coronavirus around the wor...</td>\n",
       "    </tr>\n",
       "    <tr>\n",
       "      <th>4</th>\n",
       "      <td>Ireland school closures reveal stark contrast ...</td>\n",
       "      <td>Rory Carroll in Dublin</td>\n",
       "      <td>Thu 12 Mar 2020 15.09 GMT</td>\n",
       "      <td>Ireland is shutting schools, universities and ...</td>\n",
       "    </tr>\n",
       "  </tbody>\n",
       "</table>\n",
       "</div>"
      ],
      "text/plain": [
       "                                               Title  \\\n",
       "0  Detroit suspends water shutoffs over Covid-19 ...   \n",
       "1  Self-isolating Tory MP criticises parliament's...   \n",
       "2  Complete shutdown of UK universities due to Co...   \n",
       "3  Research finds huge impact of interventions on...   \n",
       "4  Ireland school closures reveal stark contrast ...   \n",
       "\n",
       "                                 Author                       Date  \\\n",
       "0                          Nina Lakhani  Thu 12 Mar 2020 09.00 GMT   \n",
       "1  Kate Proctor Political correspondent  Thu 12 Mar 2020 15.31 GMT   \n",
       "2                      Anna Fazackerley  Wed 11 Mar 2020 12.21 GMT   \n",
       "3             Ian Sample Science editor  Wed 11 Mar 2020 18.53 GMT   \n",
       "4                Rory Carroll in Dublin  Thu 12 Mar 2020 15.09 GMT   \n",
       "\n",
       "                                         FullArticle  \n",
       "0  Running water will be temporarily restored to ...  \n",
       "1  The MP Andrew Bridgen has criticised parliamen...  \n",
       "2  University vice-chancellors have told the gove...  \n",
       "3  The rapid spread of coronavirus around the wor...  \n",
       "4  Ireland is shutting schools, universities and ...  "
      ]
     },
     "execution_count": 384,
     "metadata": {},
     "output_type": "execute_result"
    }
   ],
   "source": [
    "scrapeAPI.head()"
   ]
  },
  {
   "cell_type": "code",
   "execution_count": null,
   "id": "e1b42c89",
   "metadata": {},
   "outputs": [],
   "source": []
  }
 ],
 "metadata": {
  "kernelspec": {
   "display_name": "Python 3 (ipykernel)",
   "language": "python",
   "name": "python3"
  },
  "language_info": {
   "codemirror_mode": {
    "name": "ipython",
    "version": 3
   },
   "file_extension": ".py",
   "mimetype": "text/x-python",
   "name": "python",
   "nbconvert_exporter": "python",
   "pygments_lexer": "ipython3",
   "version": "3.10.4"
  },
  "toc": {
   "base_numbering": 1,
   "nav_menu": {},
   "number_sections": true,
   "sideBar": true,
   "skip_h1_title": false,
   "title_cell": "Table of Contents",
   "title_sidebar": "Contents",
   "toc_cell": false,
   "toc_position": {
    "height": "calc(100% - 180px)",
    "left": "10px",
    "top": "150px",
    "width": "165px"
   },
   "toc_section_display": true,
   "toc_window_display": true
  }
 },
 "nbformat": 4,
 "nbformat_minor": 5
}
