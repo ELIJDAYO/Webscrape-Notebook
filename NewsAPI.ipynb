{
 "cells": [
  {
   "cell_type": "code",
   "execution_count": null,
   "id": "4c61fd3d",
   "metadata": {},
   "outputs": [],
   "source": []
  },
  {
   "cell_type": "code",
   "execution_count": 134,
   "id": "2a8557ba",
   "metadata": {},
   "outputs": [],
   "source": [
    "import requests\n",
    "import json\n",
    "import pprint\n",
    "from bs4 import BeautifulSoup as bs\n",
    "import pandas as pd\n"
   ]
  },
  {
   "cell_type": "code",
   "execution_count": 135,
   "id": "125a4d23",
   "metadata": {},
   "outputs": [],
   "source": [
    "url = \"https://content.guardianapis.com/search\"\n",
    "content = [\"covid\",\"technology\",\"graphic%20content\"]\n",
    "\n",
    "json_output = None\n",
    "#newsapiKey =\"d9e7e43ee03848369d44ba67f5377d46\"\n",
    "#from=--03-11&to=--03-12\n",
    "#https://python.gotrained.com/news-api/"
   ]
  },
  {
   "cell_type": "code",
   "execution_count": 136,
   "id": "3ac64c8c",
   "metadata": {},
   "outputs": [],
   "source": [
    "upperYear = 2022\n",
    "lowerYear = 2000\n",
    "fromDateMonth = \"-03-11\"\n",
    "toDateMonth = \"-03-12\""
   ]
  },
  {
   "cell_type": "raw",
   "id": "aa991032",
   "metadata": {},
   "source": [
    "Paging Through Results\n",
    "Example: https://content.guardianapis.com/search?page=2&q=debate&api-key=test\n",
    "https://content.guardianapis.com/search?q=debate&tag=politics/politics&from-date=2014-01-01&api-key=test\n",
    "\"mitochondrial donation\" (https://content.guardianapis.com/search?q=\"mitochondrial%20donation\"&tag=politics/politics&from-date=2014-01-01&api-key=test) returns only content that contains the phrase \"mitochondrial donation\"."
   ]
  },
  {
   "cell_type": "code",
   "execution_count": 137,
   "id": "e2090c2a",
   "metadata": {},
   "outputs": [],
   "source": [
    "parameters = {\n",
    "    'q': 'covid',\n",
    "    'pageSize': 100,\n",
    "    'api-key': \"5ee2a23b-f46e-4986-a548-e4d9e5bd569e\",\n",
    "    'from-date': \"2022-03-11\",\n",
    "    'to-date': \"2022-03-12\",\n",
    "}"
   ]
  },
  {
   "cell_type": "code",
   "execution_count": 138,
   "id": "df1d0b58",
   "metadata": {
    "scrolled": true
   },
   "outputs": [],
   "source": [
    "res = requests.get(url,params=parameters)\n"
   ]
  },
  {
   "cell_type": "code",
   "execution_count": 139,
   "id": "32c1d899",
   "metadata": {},
   "outputs": [],
   "source": [
    "json_res = res.json()"
   ]
  },
  {
   "cell_type": "code",
   "execution_count": 140,
   "id": "d5e18152",
   "metadata": {},
   "outputs": [
    {
     "name": "stdout",
     "output_type": "stream",
     "text": [
      "{'response': {'currentPage': 1,\n",
      "              'orderBy': 'relevance',\n",
      "              'pageSize': 10,\n",
      "              'pages': 8,\n",
      "              'results': [{'apiUrl': 'https://content.guardianapis.com/education/2022/mar/12/covid-made-parents-more-relaxed-about-unauthorised-holidays-ofsted',\n",
      "                           'id': 'education/2022/mar/12/covid-made-parents-more-relaxed-about-unauthorised-holidays-ofsted',\n",
      "                           'isHosted': False,\n",
      "                           'pillarId': 'pillar/news',\n",
      "                           'pillarName': 'News',\n",
      "                           'sectionId': 'education',\n",
      "                           'sectionName': 'Education',\n",
      "                           'type': 'article',\n",
      "                           'webPublicationDate': '2022-03-12T14:50:41Z',\n",
      "                           'webTitle': 'Covid made parents ‘more relaxed’ '\n",
      "                                       'about unauthorised holidays – Ofsted',\n",
      "                           'webUrl': 'https://www.theguardian.com/education/2022/mar/12/covid-made-parents-more-relaxed-about-unauthorised-holidays-ofsted'},\n",
      "                          {'apiUrl': 'https://content.guardianapis.com/world/2022/mar/11/covid-cases-england-omicron-levels-ons-data',\n",
      "                           'id': 'world/2022/mar/11/covid-cases-england-omicron-levels-ons-data',\n",
      "                           'isHosted': False,\n",
      "                           'pillarId': 'pillar/news',\n",
      "                           'pillarName': 'News',\n",
      "                           'sectionId': 'world',\n",
      "                           'sectionName': 'World news',\n",
      "                           'type': 'article',\n",
      "                           'webPublicationDate': '2022-03-11T12:37:21Z',\n",
      "                           'webTitle': 'Covid cases and hospital admissions '\n",
      "                                       'rising in England, data suggests',\n",
      "                           'webUrl': 'https://www.theguardian.com/world/2022/mar/11/covid-cases-england-omicron-levels-ons-data'},\n",
      "                          {'apiUrl': 'https://content.guardianapis.com/education/2022/mar/11/zahawi-to-overhaul-covid-catchup-tutoring-after-criticism-of-provider',\n",
      "                           'id': 'education/2022/mar/11/zahawi-to-overhaul-covid-catchup-tutoring-after-criticism-of-provider',\n",
      "                           'isHosted': False,\n",
      "                           'pillarId': 'pillar/news',\n",
      "                           'pillarName': 'News',\n",
      "                           'sectionId': 'education',\n",
      "                           'sectionName': 'Education',\n",
      "                           'type': 'article',\n",
      "                           'webPublicationDate': '2022-03-11T18:15:43Z',\n",
      "                           'webTitle': 'Zahawi to overhaul Covid catchup '\n",
      "                                       'tutoring after criticism of provider',\n",
      "                           'webUrl': 'https://www.theguardian.com/education/2022/mar/11/zahawi-to-overhaul-covid-catchup-tutoring-after-criticism-of-provider'},\n",
      "                          {'apiUrl': 'https://content.guardianapis.com/world/2022/mar/12/dismay-as-funding-for-uks-world-beating-covid-trackers-is-axed',\n",
      "                           'id': 'world/2022/mar/12/dismay-as-funding-for-uks-world-beating-covid-trackers-is-axed',\n",
      "                           'isHosted': False,\n",
      "                           'pillarId': 'pillar/news',\n",
      "                           'pillarName': 'News',\n",
      "                           'sectionId': 'world',\n",
      "                           'sectionName': 'World news',\n",
      "                           'type': 'article',\n",
      "                           'webPublicationDate': '2022-03-12T12:00:04Z',\n",
      "                           'webTitle': 'Dismay as funding for UK’s '\n",
      "                                       '‘world-beating’ Covid trackers is axed',\n",
      "                           'webUrl': 'https://www.theguardian.com/world/2022/mar/12/dismay-as-funding-for-uks-world-beating-covid-trackers-is-axed'},\n",
      "                          {'apiUrl': 'https://content.guardianapis.com/world/2022/mar/11/us-child-covid-deaths-omicron-surge',\n",
      "                           'id': 'world/2022/mar/11/us-child-covid-deaths-omicron-surge',\n",
      "                           'isHosted': False,\n",
      "                           'pillarId': 'pillar/news',\n",
      "                           'pillarName': 'News',\n",
      "                           'sectionId': 'world',\n",
      "                           'sectionName': 'World news',\n",
      "                           'type': 'article',\n",
      "                           'webPublicationDate': '2022-03-11T08:00:26Z',\n",
      "                           'webTitle': 'A fifth of all US child Covid deaths '\n",
      "                                       'occurred during Omicron surge',\n",
      "                           'webUrl': 'https://www.theguardian.com/world/2022/mar/11/us-child-covid-deaths-omicron-surge'},\n",
      "                          {'apiUrl': 'https://content.guardianapis.com/money/2022/mar/12/cashs-reign-fades-as-covid-accelerates-high-street-switch-to-card-only',\n",
      "                           'id': 'money/2022/mar/12/cashs-reign-fades-as-covid-accelerates-high-street-switch-to-card-only',\n",
      "                           'isHosted': False,\n",
      "                           'pillarId': 'pillar/lifestyle',\n",
      "                           'pillarName': 'Lifestyle',\n",
      "                           'sectionId': 'money',\n",
      "                           'sectionName': 'Money',\n",
      "                           'type': 'article',\n",
      "                           'webPublicationDate': '2022-03-12T15:00:03Z',\n",
      "                           'webTitle': 'Cash’s reign fades as Covid '\n",
      "                                       'accelerates high street switch to '\n",
      "                                       'card-only',\n",
      "                           'webUrl': 'https://www.theguardian.com/money/2022/mar/12/cashs-reign-fades-as-covid-accelerates-high-street-switch-to-card-only'},\n",
      "                          {'apiUrl': 'https://content.guardianapis.com/world/2022/mar/12/call-to-offer-more-people-fourth-jab-as-covid-rises-in-england',\n",
      "                           'id': 'world/2022/mar/12/call-to-offer-more-people-fourth-jab-as-covid-rises-in-england',\n",
      "                           'isHosted': False,\n",
      "                           'pillarId': 'pillar/news',\n",
      "                           'pillarName': 'News',\n",
      "                           'sectionId': 'world',\n",
      "                           'sectionName': 'World news',\n",
      "                           'type': 'article',\n",
      "                           'webPublicationDate': '2022-03-12T12:32:04Z',\n",
      "                           'webTitle': 'Call to offer more people fourth jab '\n",
      "                                       'as Covid rises in England',\n",
      "                           'webUrl': 'https://www.theguardian.com/world/2022/mar/12/call-to-offer-more-people-fourth-jab-as-covid-rises-in-england'},\n",
      "                          {'apiUrl': 'https://content.guardianapis.com/commentisfree/2022/mar/12/covid-restrictions-eased-cases-coronavirus-precautionary-peasures',\n",
      "                           'id': 'commentisfree/2022/mar/12/covid-restrictions-eased-cases-coronavirus-precautionary-peasures',\n",
      "                           'isHosted': False,\n",
      "                           'pillarId': 'pillar/opinion',\n",
      "                           'pillarName': 'Opinion',\n",
      "                           'sectionId': 'commentisfree',\n",
      "                           'sectionName': 'Opinion',\n",
      "                           'type': 'article',\n",
      "                           'webPublicationDate': '2022-03-12T12:00:04Z',\n",
      "                           'webTitle': 'Covid has slipped from the headlines – '\n",
      "                                       'but with restrictions eased, cases are '\n",
      "                                       'rising | Kit Yates',\n",
      "                           'webUrl': 'https://www.theguardian.com/commentisfree/2022/mar/12/covid-restrictions-eased-cases-coronavirus-precautionary-peasures'},\n",
      "                          {'apiUrl': 'https://content.guardianapis.com/world/2022/mar/11/what-is-deltacron-covid-variant-uk',\n",
      "                           'id': 'world/2022/mar/11/what-is-deltacron-covid-variant-uk',\n",
      "                           'isHosted': False,\n",
      "                           'pillarId': 'pillar/news',\n",
      "                           'pillarName': 'News',\n",
      "                           'sectionId': 'world',\n",
      "                           'sectionName': 'World news',\n",
      "                           'type': 'article',\n",
      "                           'webPublicationDate': '2022-03-11T13:25:22Z',\n",
      "                           'webTitle': 'What is the Deltacron variant of Covid '\n",
      "                                       'and where has it been found?',\n",
      "                           'webUrl': 'https://www.theguardian.com/world/2022/mar/11/what-is-deltacron-covid-variant-uk'},\n",
      "                          {'apiUrl': 'https://content.guardianapis.com/global-development/2022/mar/11/harry-and-meghan-add-voices-to-fierce-critique-of-wests-covid-vaccine-policies',\n",
      "                           'id': 'global-development/2022/mar/11/harry-and-meghan-add-voices-to-fierce-critique-of-wests-covid-vaccine-policies',\n",
      "                           'isHosted': False,\n",
      "                           'pillarId': 'pillar/news',\n",
      "                           'pillarName': 'News',\n",
      "                           'sectionId': 'global-development',\n",
      "                           'sectionName': 'Global development',\n",
      "                           'type': 'article',\n",
      "                           'webPublicationDate': '2022-03-11T00:01:16Z',\n",
      "                           'webTitle': 'Harry and Meghan add voices to fierce '\n",
      "                                       'critique of west’s Covid vaccine '\n",
      "                                       'policies',\n",
      "                           'webUrl': 'https://www.theguardian.com/global-development/2022/mar/11/harry-and-meghan-add-voices-to-fierce-critique-of-wests-covid-vaccine-policies'}],\n",
      "              'startIndex': 1,\n",
      "              'status': 'ok',\n",
      "              'total': 73,\n",
      "              'userTier': 'developer'}}\n"
     ]
    }
   ],
   "source": [
    "pprint.pprint(json_res)\n"
   ]
  },
  {
   "cell_type": "code",
   "execution_count": 141,
   "id": "1f4dfdcc",
   "metadata": {},
   "outputs": [
    {
     "name": "stdout",
     "output_type": "stream",
     "text": [
      "status\n",
      "userTier\n",
      "total\n",
      "startIndex\n",
      "pageSize\n",
      "currentPage\n",
      "pages\n",
      "orderBy\n",
      "results\n"
     ]
    }
   ],
   "source": [
    "for i in json_res['response']:\n",
    "    print(i)"
   ]
  },
  {
   "cell_type": "code",
   "execution_count": 142,
   "id": "b0e88bce",
   "metadata": {},
   "outputs": [
    {
     "name": "stdout",
     "output_type": "stream",
     "text": [
      "[{'apiUrl': 'https://content.guardianapis.com/education/2022/mar/12/covid-made-parents-more-relaxed-about-unauthorised-holidays-ofsted',\n",
      "  'id': 'education/2022/mar/12/covid-made-parents-more-relaxed-about-unauthorised-holidays-ofsted',\n",
      "  'isHosted': False,\n",
      "  'pillarId': 'pillar/news',\n",
      "  'pillarName': 'News',\n",
      "  'sectionId': 'education',\n",
      "  'sectionName': 'Education',\n",
      "  'type': 'article',\n",
      "  'webPublicationDate': '2022-03-12T14:50:41Z',\n",
      "  'webTitle': 'Covid made parents ‘more relaxed’ about unauthorised holidays – '\n",
      "              'Ofsted',\n",
      "  'webUrl': 'https://www.theguardian.com/education/2022/mar/12/covid-made-parents-more-relaxed-about-unauthorised-holidays-ofsted'},\n",
      " {'apiUrl': 'https://content.guardianapis.com/world/2022/mar/11/covid-cases-england-omicron-levels-ons-data',\n",
      "  'id': 'world/2022/mar/11/covid-cases-england-omicron-levels-ons-data',\n",
      "  'isHosted': False,\n",
      "  'pillarId': 'pillar/news',\n",
      "  'pillarName': 'News',\n",
      "  'sectionId': 'world',\n",
      "  'sectionName': 'World news',\n",
      "  'type': 'article',\n",
      "  'webPublicationDate': '2022-03-11T12:37:21Z',\n",
      "  'webTitle': 'Covid cases and hospital admissions rising in England, data '\n",
      "              'suggests',\n",
      "  'webUrl': 'https://www.theguardian.com/world/2022/mar/11/covid-cases-england-omicron-levels-ons-data'},\n",
      " {'apiUrl': 'https://content.guardianapis.com/education/2022/mar/11/zahawi-to-overhaul-covid-catchup-tutoring-after-criticism-of-provider',\n",
      "  'id': 'education/2022/mar/11/zahawi-to-overhaul-covid-catchup-tutoring-after-criticism-of-provider',\n",
      "  'isHosted': False,\n",
      "  'pillarId': 'pillar/news',\n",
      "  'pillarName': 'News',\n",
      "  'sectionId': 'education',\n",
      "  'sectionName': 'Education',\n",
      "  'type': 'article',\n",
      "  'webPublicationDate': '2022-03-11T18:15:43Z',\n",
      "  'webTitle': 'Zahawi to overhaul Covid catchup tutoring after criticism of '\n",
      "              'provider',\n",
      "  'webUrl': 'https://www.theguardian.com/education/2022/mar/11/zahawi-to-overhaul-covid-catchup-tutoring-after-criticism-of-provider'},\n",
      " {'apiUrl': 'https://content.guardianapis.com/world/2022/mar/12/dismay-as-funding-for-uks-world-beating-covid-trackers-is-axed',\n",
      "  'id': 'world/2022/mar/12/dismay-as-funding-for-uks-world-beating-covid-trackers-is-axed',\n",
      "  'isHosted': False,\n",
      "  'pillarId': 'pillar/news',\n",
      "  'pillarName': 'News',\n",
      "  'sectionId': 'world',\n",
      "  'sectionName': 'World news',\n",
      "  'type': 'article',\n",
      "  'webPublicationDate': '2022-03-12T12:00:04Z',\n",
      "  'webTitle': 'Dismay as funding for UK’s ‘world-beating’ Covid trackers is '\n",
      "              'axed',\n",
      "  'webUrl': 'https://www.theguardian.com/world/2022/mar/12/dismay-as-funding-for-uks-world-beating-covid-trackers-is-axed'},\n",
      " {'apiUrl': 'https://content.guardianapis.com/world/2022/mar/11/us-child-covid-deaths-omicron-surge',\n",
      "  'id': 'world/2022/mar/11/us-child-covid-deaths-omicron-surge',\n",
      "  'isHosted': False,\n",
      "  'pillarId': 'pillar/news',\n",
      "  'pillarName': 'News',\n",
      "  'sectionId': 'world',\n",
      "  'sectionName': 'World news',\n",
      "  'type': 'article',\n",
      "  'webPublicationDate': '2022-03-11T08:00:26Z',\n",
      "  'webTitle': 'A fifth of all US child Covid deaths occurred during Omicron '\n",
      "              'surge',\n",
      "  'webUrl': 'https://www.theguardian.com/world/2022/mar/11/us-child-covid-deaths-omicron-surge'},\n",
      " {'apiUrl': 'https://content.guardianapis.com/money/2022/mar/12/cashs-reign-fades-as-covid-accelerates-high-street-switch-to-card-only',\n",
      "  'id': 'money/2022/mar/12/cashs-reign-fades-as-covid-accelerates-high-street-switch-to-card-only',\n",
      "  'isHosted': False,\n",
      "  'pillarId': 'pillar/lifestyle',\n",
      "  'pillarName': 'Lifestyle',\n",
      "  'sectionId': 'money',\n",
      "  'sectionName': 'Money',\n",
      "  'type': 'article',\n",
      "  'webPublicationDate': '2022-03-12T15:00:03Z',\n",
      "  'webTitle': 'Cash’s reign fades as Covid accelerates high street switch to '\n",
      "              'card-only',\n",
      "  'webUrl': 'https://www.theguardian.com/money/2022/mar/12/cashs-reign-fades-as-covid-accelerates-high-street-switch-to-card-only'},\n",
      " {'apiUrl': 'https://content.guardianapis.com/world/2022/mar/12/call-to-offer-more-people-fourth-jab-as-covid-rises-in-england',\n",
      "  'id': 'world/2022/mar/12/call-to-offer-more-people-fourth-jab-as-covid-rises-in-england',\n",
      "  'isHosted': False,\n",
      "  'pillarId': 'pillar/news',\n",
      "  'pillarName': 'News',\n",
      "  'sectionId': 'world',\n",
      "  'sectionName': 'World news',\n",
      "  'type': 'article',\n",
      "  'webPublicationDate': '2022-03-12T12:32:04Z',\n",
      "  'webTitle': 'Call to offer more people fourth jab as Covid rises in England',\n",
      "  'webUrl': 'https://www.theguardian.com/world/2022/mar/12/call-to-offer-more-people-fourth-jab-as-covid-rises-in-england'},\n",
      " {'apiUrl': 'https://content.guardianapis.com/commentisfree/2022/mar/12/covid-restrictions-eased-cases-coronavirus-precautionary-peasures',\n",
      "  'id': 'commentisfree/2022/mar/12/covid-restrictions-eased-cases-coronavirus-precautionary-peasures',\n",
      "  'isHosted': False,\n",
      "  'pillarId': 'pillar/opinion',\n",
      "  'pillarName': 'Opinion',\n",
      "  'sectionId': 'commentisfree',\n",
      "  'sectionName': 'Opinion',\n",
      "  'type': 'article',\n",
      "  'webPublicationDate': '2022-03-12T12:00:04Z',\n",
      "  'webTitle': 'Covid has slipped from the headlines – but with restrictions '\n",
      "              'eased, cases are rising | Kit Yates',\n",
      "  'webUrl': 'https://www.theguardian.com/commentisfree/2022/mar/12/covid-restrictions-eased-cases-coronavirus-precautionary-peasures'},\n",
      " {'apiUrl': 'https://content.guardianapis.com/world/2022/mar/11/what-is-deltacron-covid-variant-uk',\n",
      "  'id': 'world/2022/mar/11/what-is-deltacron-covid-variant-uk',\n",
      "  'isHosted': False,\n",
      "  'pillarId': 'pillar/news',\n",
      "  'pillarName': 'News',\n",
      "  'sectionId': 'world',\n",
      "  'sectionName': 'World news',\n",
      "  'type': 'article',\n",
      "  'webPublicationDate': '2022-03-11T13:25:22Z',\n",
      "  'webTitle': 'What is the Deltacron variant of Covid and where has it been '\n",
      "              'found?',\n",
      "  'webUrl': 'https://www.theguardian.com/world/2022/mar/11/what-is-deltacron-covid-variant-uk'},\n",
      " {'apiUrl': 'https://content.guardianapis.com/global-development/2022/mar/11/harry-and-meghan-add-voices-to-fierce-critique-of-wests-covid-vaccine-policies',\n",
      "  'id': 'global-development/2022/mar/11/harry-and-meghan-add-voices-to-fierce-critique-of-wests-covid-vaccine-policies',\n",
      "  'isHosted': False,\n",
      "  'pillarId': 'pillar/news',\n",
      "  'pillarName': 'News',\n",
      "  'sectionId': 'global-development',\n",
      "  'sectionName': 'Global development',\n",
      "  'type': 'article',\n",
      "  'webPublicationDate': '2022-03-11T00:01:16Z',\n",
      "  'webTitle': 'Harry and Meghan add voices to fierce critique of west’s Covid '\n",
      "              'vaccine policies',\n",
      "  'webUrl': 'https://www.theguardian.com/global-development/2022/mar/11/harry-and-meghan-add-voices-to-fierce-critique-of-wests-covid-vaccine-policies'}]\n"
     ]
    }
   ],
   "source": [
    "json_result = json_res['response']['results']\n",
    "pprint.pprint(json_result)"
   ]
  },
  {
   "cell_type": "code",
   "execution_count": 143,
   "id": "01faabbb",
   "metadata": {},
   "outputs": [
    {
     "name": "stdout",
     "output_type": "stream",
     "text": [
      "0   https://www.theguardian.com/education/2022/mar/12/covid-made-parents-more-relaxed-about-unauthorised-holidays-ofsted\n",
      "1   https://www.theguardian.com/world/2022/mar/11/covid-cases-england-omicron-levels-ons-data\n",
      "2   https://www.theguardian.com/education/2022/mar/11/zahawi-to-overhaul-covid-catchup-tutoring-after-criticism-of-provider\n",
      "3   https://www.theguardian.com/world/2022/mar/12/dismay-as-funding-for-uks-world-beating-covid-trackers-is-axed\n",
      "4   https://www.theguardian.com/world/2022/mar/11/us-child-covid-deaths-omicron-surge\n",
      "5   https://www.theguardian.com/money/2022/mar/12/cashs-reign-fades-as-covid-accelerates-high-street-switch-to-card-only\n",
      "6   https://www.theguardian.com/world/2022/mar/12/call-to-offer-more-people-fourth-jab-as-covid-rises-in-england\n",
      "7   https://www.theguardian.com/commentisfree/2022/mar/12/covid-restrictions-eased-cases-coronavirus-precautionary-peasures\n",
      "8   https://www.theguardian.com/world/2022/mar/11/what-is-deltacron-covid-variant-uk\n",
      "9   https://www.theguardian.com/global-development/2022/mar/11/harry-and-meghan-add-voices-to-fierce-critique-of-wests-covid-vaccine-policies\n"
     ]
    }
   ],
   "source": [
    "i=0\n",
    "for result in json_result:\n",
    "    print(i, \" \",result.get(\"webUrl\"))\n",
    "    i+=1"
   ]
  },
  {
   "cell_type": "code",
   "execution_count": 144,
   "id": "96bab3f8",
   "metadata": {},
   "outputs": [],
   "source": [
    "def loopYears(fromDY,toDY):\n",
    "    for i in range(lowerYear,upperYear+1):\n",
    "        fromDY.append(str(i)+fromDateMonth)\n",
    "        toDY.append(str(i)+toDateMonth)\n",
    "fromDateYear = []\n",
    "toDateYear = []\n",
    "loopYears(fromDateYear,toDateYear)"
   ]
  },
  {
   "cell_type": "code",
   "execution_count": 145,
   "id": "166e1054",
   "metadata": {},
   "outputs": [
    {
     "data": {
      "text/plain": [
       "['2000-03-11',\n",
       " '2001-03-11',\n",
       " '2002-03-11',\n",
       " '2003-03-11',\n",
       " '2004-03-11',\n",
       " '2005-03-11',\n",
       " '2006-03-11',\n",
       " '2007-03-11',\n",
       " '2008-03-11',\n",
       " '2009-03-11',\n",
       " '2010-03-11',\n",
       " '2011-03-11',\n",
       " '2012-03-11',\n",
       " '2013-03-11',\n",
       " '2014-03-11',\n",
       " '2015-03-11',\n",
       " '2016-03-11',\n",
       " '2017-03-11',\n",
       " '2018-03-11',\n",
       " '2019-03-11',\n",
       " '2020-03-11',\n",
       " '2021-03-11',\n",
       " '2022-03-11']"
      ]
     },
     "execution_count": 145,
     "metadata": {},
     "output_type": "execute_result"
    }
   ],
   "source": [
    "fromDateYear"
   ]
  },
  {
   "cell_type": "code",
   "execution_count": 146,
   "id": "e4c01e9f",
   "metadata": {},
   "outputs": [],
   "source": [
    "sample_url=\"https://www.theguardian.com/education/2022/mar/12/covid-made-parents-more-relaxed-about-unauthorised-holidays-ofsted\"\n",
    "page=requests.get(sample_url)\n",
    "soup = bs(page.content, 'html.parser')\n"
   ]
  },
  {
   "cell_type": "code",
   "execution_count": 147,
   "id": "c718abb9",
   "metadata": {},
   "outputs": [
    {
     "name": "stdout",
     "output_type": "stream",
     "text": [
      "Covid made parents ‘more relaxed’ about unauthorised holidays – Ofsted\n"
     ]
    }
   ],
   "source": [
    "title = soup.find(\"h1\",{\"class\",\"dcr-125vfar\"}).text\n",
    "print(title)"
   ]
  },
  {
   "cell_type": "code",
   "execution_count": 148,
   "id": "af0221aa",
   "metadata": {},
   "outputs": [
    {
     "name": "stdout",
     "output_type": "stream",
     "text": [
      "Richard Adams Education editor\n"
     ]
    }
   ],
   "source": [
    "snippet = soup.find(\"div\",{\"class\",\"dcr-1mp5s8u\"})\n",
    "author = snippet.text\n",
    "print(author)"
   ]
  },
  {
   "cell_type": "code",
   "execution_count": 149,
   "id": "4fa94aa9",
   "metadata": {},
   "outputs": [
    {
     "name": "stdout",
     "output_type": "stream",
     "text": [
      "Sat 12 Mar 2022 14.50 GMT\n"
     ]
    }
   ],
   "source": [
    "snippet = soup.find(\"summary\",{\"class\",\"dcr-12fpzem\"})\n",
    "date = snippet.text\n",
    "print(date)"
   ]
  },
  {
   "cell_type": "code",
   "execution_count": 150,
   "id": "40ce7e9b",
   "metadata": {},
   "outputs": [
    {
     "name": "stdout",
     "output_type": "stream",
     "text": [
      "The Covid pandemic has made families “more relaxed” about their children staying home or going on unauthorised holidays, fracturing the social contract between parents and schools in England, according to the head of Ofsted.\n",
      "Amanda Spielman, Ofsted’s chief inspector, said she was concerned about the high level of absences among pupils, telling the Association of School and College Leaders annual conference: “Some parents have health concerns for themselves or family members and wait in hope for a highly unlikely zero-Covid future.\n",
      "“Others, having seen that remote education is possible, have a more relaxed attitude to absence, whether long-term or to enable family holidays in term time. They have seen that other people’s children are away from school and so expect the same latitude.\n",
      "“Families whose children have special educational needs struggled more than most when regular support services were curtailed. Some of those children found comfort in learning at home, going at their own pace. So it’s understandable that some parents are reluctant now to let that go.”\n",
      "The pandemic and lockdowns has also “exacerbated” existing problems for children who were persistently absent from school, often among parents who were struggling financially or because of domestic violence or substance abuse.\n",
      "“The disruption we’ve seen over the last two years has fractured the social contract around education … Now’s the time to remake that contract,” she said.\n",
      "Spielman told the conference in Birmingham she was also concerned by increases in children in England being educated at home, and said she supported the government’s plans for a register of children being home-schooled.\n",
      "“We take a very liberal attitude to home education in this country, compared to many other nations.\n",
      "“We need to recognise that home education is very hard. Most parents aren’t equipped to do it and if they are motivated by their own or their child’s anxiety, rather than a deeply held desire to home-educate, the outcomes for their child are unlikely to be great,” she said.\n",
      "Referring to the abuse and murder of Arthur Labinjo-Hughes, Spielman said: “And we should also remember that sadly a small number of parents have darker motivations for taking their children away from their teacher’s sight.”\n",
      "The conference of head teachers also heard Bridget Phillipson, the shadow education secretary, attack the government’s handling of education in England during the pandemic.\n",
      "“When clear, focused government leadership was needed in response to the pandemic there was a vacuum. No plan, no direction. No ambition,” Phillipson said.\n",
      "“Children who joined reception classes in September will have lived more than half their lives under the pandemic.\n",
      "“In many cases, they have not had the chance to explore, socialise, develop vital skills, in nurseries or playgroups, all of which will matter right throughout school, and right throughout their lives.”\n",
      "Phillipson said a future Labour government would look closely at Ofsted’s role in school improvement, noting that while Ofsted is officially 30 years old, the schools it inspects are now very different.\n",
      "“Yet Ofsted still operates in a way that is often too high stakes, and where the risks of a bad inspection outweigh the rewards of a good one.\n",
      "“A cat and mouse game between inspectors and schools, with no incentive to have an honest professional dialogue, to accept weakness and work to address it, are the unhelpful features of such an adversarial system,” Phillipson said, arguing that “change needs to happen”.\n",
      "\n"
     ]
    }
   ],
   "source": [
    "snippet = soup.findAll(\"p\",{\"class\",\"dcr-xry7m2\"})\n",
    "fullArticle = \"\"\n",
    "for p in snippet:\n",
    "    fullArticle += p.text + \"\\n\"\n",
    "print(fullArticle)"
   ]
  },
  {
   "cell_type": "code",
   "execution_count": 151,
   "id": "b26228d9",
   "metadata": {},
   "outputs": [],
   "source": [
    "jsonScrape = []\n",
    "jsonScrape.append((title,author,date,fullArticle))"
   ]
  },
  {
   "cell_type": "code",
   "execution_count": 152,
   "id": "b179cf6d",
   "metadata": {},
   "outputs": [],
   "source": [
    "jsonList = pd.DataFrame(jsonScrape)\n",
    "jsonList.columns = ['Title', 'Author', 'Date', 'FullArticle']\n"
   ]
  },
  {
   "cell_type": "code",
   "execution_count": 153,
   "id": "510fdf68",
   "metadata": {
    "scrolled": false
   },
   "outputs": [
    {
     "data": {
      "text/html": [
       "<div>\n",
       "<style scoped>\n",
       "    .dataframe tbody tr th:only-of-type {\n",
       "        vertical-align: middle;\n",
       "    }\n",
       "\n",
       "    .dataframe tbody tr th {\n",
       "        vertical-align: top;\n",
       "    }\n",
       "\n",
       "    .dataframe thead th {\n",
       "        text-align: right;\n",
       "    }\n",
       "</style>\n",
       "<table border=\"1\" class=\"dataframe\">\n",
       "  <thead>\n",
       "    <tr style=\"text-align: right;\">\n",
       "      <th></th>\n",
       "      <th>Title</th>\n",
       "      <th>Author</th>\n",
       "      <th>Date</th>\n",
       "      <th>FullArticle</th>\n",
       "    </tr>\n",
       "  </thead>\n",
       "  <tbody>\n",
       "    <tr>\n",
       "      <th>0</th>\n",
       "      <td>Covid made parents ‘more relaxed’ about unauth...</td>\n",
       "      <td>Richard Adams Education editor</td>\n",
       "      <td>Sat 12 Mar 2022 14.50 GMT</td>\n",
       "      <td>The Covid pandemic has made families “more rel...</td>\n",
       "    </tr>\n",
       "  </tbody>\n",
       "</table>\n",
       "</div>"
      ],
      "text/plain": [
       "                                               Title  \\\n",
       "0  Covid made parents ‘more relaxed’ about unauth...   \n",
       "\n",
       "                           Author                       Date  \\\n",
       "0  Richard Adams Education editor  Sat 12 Mar 2022 14.50 GMT   \n",
       "\n",
       "                                         FullArticle  \n",
       "0  The Covid pandemic has made families “more rel...  "
      ]
     },
     "execution_count": 153,
     "metadata": {},
     "output_type": "execute_result"
    }
   ],
   "source": [
    "jsonList"
   ]
  },
  {
   "cell_type": "code",
   "execution_count": null,
   "id": "4cff3f96",
   "metadata": {},
   "outputs": [],
   "source": []
  }
 ],
 "metadata": {
  "kernelspec": {
   "display_name": "Python 3 (ipykernel)",
   "language": "python",
   "name": "python3"
  },
  "language_info": {
   "codemirror_mode": {
    "name": "ipython",
    "version": 3
   },
   "file_extension": ".py",
   "mimetype": "text/x-python",
   "name": "python",
   "nbconvert_exporter": "python",
   "pygments_lexer": "ipython3",
   "version": "3.10.4"
  },
  "toc": {
   "base_numbering": 1,
   "nav_menu": {},
   "number_sections": true,
   "sideBar": true,
   "skip_h1_title": false,
   "title_cell": "Table of Contents",
   "title_sidebar": "Contents",
   "toc_cell": false,
   "toc_position": {},
   "toc_section_display": true,
   "toc_window_display": false
  }
 },
 "nbformat": 4,
 "nbformat_minor": 5
}
